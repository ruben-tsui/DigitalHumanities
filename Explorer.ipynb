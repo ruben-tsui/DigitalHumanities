{
 "cells": [
  {
   "cell_type": "markdown",
   "metadata": {},
   "source": [
    "### General explorer"
   ]
  },
  {
   "cell_type": "code",
   "execution_count": 1,
   "metadata": {},
   "outputs": [],
   "source": [
    "# import PTPoetry class (derived from the Book class)\n",
    "from PTPoetry import PTPoetry\n",
    "from bs4 import BeautifulSoup\n",
    "import bs4\n",
    "import re, sys"
   ]
  },
  {
   "cell_type": "code",
   "execution_count": 2,
   "metadata": {},
   "outputs": [],
   "source": [
    "MyBooks = PTPoetry(bookname='BookOfSong', creator=\"RGT\", date=\"2018-11-19\")"
   ]
  },
  {
   "cell_type": "code",
   "execution_count": 11,
   "metadata": {},
   "outputs": [
    {
     "name": "stderr",
     "output_type": "stream",
     "text": [
      "100%|██████████████████████████████████████████████████████████████████████████| 602/602 [00:01<00:00, 514.13it/s]\n"
     ]
    },
    {
     "name": "stdout",
     "output_type": "stream",
     "text": [
      "Wall time: 1.18 s\n"
     ]
    }
   ],
   "source": [
    "%%time\n",
    "MyBooks.load_htmls(path=\"../BookOfSong/\", limit=2000)"
   ]
  },
  {
   "cell_type": "code",
   "execution_count": 12,
   "metadata": {},
   "outputs": [
    {
     "data": {
      "text/plain": [
       "<body>\n",
       "<a class=\"gobookmark\" href=\"hanji?@80^136926788^70^^^^@@950807110\" title=\"開啟書籤管理\">史／正史／宋書／列傳　凡六十卷(P.1269)..[底本：宋元明三朝遞修本]</a>\n",
       "<span id=\"fontstyle\" style=\"FONT-SIZE: 12pt;letter-spacing:1pt; LINE-HEIGHT: 18pt;width:99%;word-break:break-all\">\n",
       "<table class=\"page\"><tr><td class=\"page\"><a name=\"P0\"></a>1269</td></tr></table>\n",
       "<b><h3><a name=\"hit001\"></a><font class=\"hit0\">宋書</font>卷四十一</h3></b><b><h3>　　列傳第一</h3></b><b><h3>　　　后妃</h3></b><div style=\"text-indent:2em;padding-left:0em;\">帝祖母號太皇太后，母號皇太后，妃號皇后，漢舊制也。</div>\n",
       "<center>．　．　．　．　．　．　．　．　．　．　．　．　．　．　．　．　．　．</center>\n",
       "<div style=\"text-indent:2em;padding-left:0em;\">晉武帝採漢、魏之制，置貴嬪、夫人、貴人，是為三夫人，位視三公。淑妃、淑媛、淑儀、修華、修容、修儀、婕妤、容華、充華，是為九嬪，位視九卿。其餘有美人、才人、中才人，爵視千石以下。高祖受命，省二才人，其餘仍用晉制。貴嬪，魏文帝所制。夫人，魏武帝初建魏國所制。貴人，漢光武所制。淑妃，魏明帝所制。淑媛，魏文帝所制。淑儀、修華，晉武帝所制。修容，魏文帝所制。修儀，魏明帝所制。婕妤、容華，前漢舊號。充華，晉武帝所制。美人，漢光武所制。世祖孝建三年，省夫人、修華、修容，置貴妃，位比相國，進貴嬪，位比丞相，貴人位比三司，以為三夫人。又置昭儀、昭容、昭華，以代修華、修儀、修容。又置中才</div><table class=\"page\"><tr><td class=\"page\"><a name=\"P1\"></a>1270</td></tr></table>\n",
       "<div style=\"text-indent:0em;padding-left:0em;\">人、充衣，以為散位。昭儀，漢元帝所制。昭容，世祖所制。昭華，魏明帝所制。中才人，晉武帝所制。充衣，前漢舊制。太宗泰始元年，省淑妃、昭華、中才人、充衣，復置修華、修儀、修容、才人、良人。三年，又省貴人，置貴姬，以備三夫人之數。又置昭華，增淑容、承徽、列榮。以淑媛、淑儀、淑容、昭華、昭儀、昭容、修華、修儀、修容為九嬪。婕妤、容華、充華、承徽、列榮凡五職，班亞九嬪。美人、中才人、才人三職為散役。其後太宗留心後房，擬外百官，備位置內職。列其名品于後。</div>\n",
       "<div style=\"text-indent:2em;padding-left:0em;\">後宮通尹，準錄尚書。</div>\n",
       "<div style=\"text-indent:2em;padding-left:0em;\">紫極戶主。</div>\n",
       "<div style=\"text-indent:2em;padding-left:0em;\">光興戶主。</div>\n",
       "<div style=\"text-indent:0em;padding-left:6em;\">官品第一<font size=\"-2\">各置一人，並銓六宮。</font></div>\n",
       "<div style=\"text-indent:2em;padding-left:0em;\">後宮列敍，準尚書令，銓六宮。</div>\n",
       "<div style=\"text-indent:2em;padding-left:0em;\">紫極中監尹，銓六宮。</div>\n",
       "<div style=\"text-indent:2em;padding-left:0em;\">光興中監尹，銓六宮。</div>\n",
       "<div style=\"text-indent:2em;padding-left:0em;\">宣融戶主，銓六宮。</div>\n",
       "<div style=\"text-indent:2em;padding-left:0em;\">紫極房帥，置一人。</div>\n",
       "<table class=\"page\"><tr><td class=\"page\"><a name=\"P2\"></a>1271</td></tr></table>\n",
       "<div style=\"text-indent:2em;padding-left:0em;\">光興房帥，置一人。</div>\n",
       "<div style=\"text-indent:0em;padding-left:6em;\">官品第二<font size=\"-2\">各置一人。</font></div>\n",
       "<div style=\"text-indent:2em;padding-left:0em;\">後宮司儀，準左僕射，銓人士。</div>\n",
       "<div style=\"text-indent:2em;padding-left:0em;\">後宮司政，準右僕射，銓人士。</div>\n",
       "<div style=\"text-indent:2em;padding-left:0em;\">參議女林，準銀青光祿，銓人士。</div>\n",
       "<div style=\"text-indent:2em;padding-left:0em;\">中臺侍御尹，銓六宮。</div>\n",
       "<div style=\"text-indent:2em;padding-left:0em;\">宣融便殿中監尹，銓六宮。</div>\n",
       "<div style=\"text-indent:2em;padding-left:0em;\">采蓺房主，銓六宮。</div>\n",
       "<div style=\"text-indent:2em;padding-left:0em;\">南房主，銓六宮。</div>\n",
       "<div style=\"text-indent:2em;padding-left:0em;\">中藏女典，銓六宮。</div>\n",
       "<div style=\"text-indent:2em;padding-left:0em;\">典坊，銓六宮。</div>\n",
       "<div style=\"text-indent:2em;padding-left:0em;\">樂正，銓六宮。</div>\n",
       "<div style=\"text-indent:2em;padding-left:0em;\">內保，銓人士。</div>\n",
       "<div style=\"text-indent:2em;padding-left:0em;\">學林祭酒，銓人士。</div>\n",
       "<div style=\"text-indent:2em;padding-left:0em;\">昭陽房帥，置一人。</div>\n",
       "<table class=\"page\"><tr><td class=\"page\"><a name=\"P3\"></a>1272</td></tr></table>\n",
       "<div style=\"text-indent:2em;padding-left:0em;\">徽音房帥，置一人。</div>\n",
       "<div style=\"text-indent:2em;padding-left:0em;\">宣融房帥，置一人。</div>\n",
       "<div style=\"text-indent:0em;padding-left:6em;\">官品第三<font size=\"-2\">各置一人。</font></div>\n",
       "<div style=\"text-indent:2em;padding-left:0em;\">後宮都掌治職，置二人。<font size=\"-2\">準左右丞，位比尚書，銓人士。</font></div>\n",
       "<div style=\"text-indent:2em;padding-left:0em;\">後宮殿中治職，置一人。<font size=\"-2\">準左民尚書，銓人士。</font></div>\n",
       "<div style=\"text-indent:2em;padding-left:0em;\">後宮源典治職，置一人。<font size=\"-2\">準祠部尚書，銓人士。</font></div>\n",
       "<div style=\"text-indent:2em;padding-left:0em;\">後宮穀帛治職，置一人。<font size=\"-2\">準度支尚書。</font></div>\n",
       "<div style=\"text-indent:2em;padding-left:0em;\">中傅，置一人。<font size=\"-2\">銓人士。</font></div>\n",
       "<div style=\"text-indent:2em;padding-left:0em;\">後宮校事女史，置一人。<font size=\"-2\">銓人士。</font></div>\n",
       "<div style=\"text-indent:2em;padding-left:0em;\">紫極中監女史，置一人。<font size=\"-2\">銓人士。</font></div>\n",
       "<div style=\"text-indent:2em;padding-left:0em;\">光興中監女史，置一人。<font size=\"-2\">銓人士。</font></div>\n",
       "<div style=\"text-indent:2em;padding-left:0em;\">紫極房參事，置人無定數。<font size=\"-2\">銓人士。有限外。</font></div>\n",
       "<div style=\"text-indent:2em;padding-left:0em;\">宣融房參事，置人無定數。<font size=\"-2\">銓人士。有限外。</font></div>\n",
       "<div style=\"text-indent:2em;padding-left:0em;\">中臺侍御奏案女史，置一人。<font size=\"-2\">銓人士。</font></div>\n",
       "<div style=\"text-indent:2em;padding-left:0em;\">贊樂女史，置一人。<font size=\"-2\">銓人士。</font></div>\n",
       "<table class=\"page\"><tr><td class=\"page\"><a name=\"P4\"></a>1273</td></tr></table>\n",
       "<div style=\"text-indent:2em;padding-left:0em;\">中訓女史，置一人。<font size=\"-2\">銓人士。</font></div>\n",
       "<div style=\"text-indent:2em;padding-left:0em;\">女祝史，置一人。</div>\n",
       "<div style=\"text-indent:2em;padding-left:0em;\">紫極中監典，置一人。</div>\n",
       "<div style=\"text-indent:2em;padding-left:0em;\">光興中監典，置一人。</div>\n",
       "<div style=\"text-indent:2em;padding-left:0em;\">典樂帥，置人無定數。<font size=\"-2\">有限外。</font></div>\n",
       "<div style=\"text-indent:2em;padding-left:0em;\">紫極房廉帥祭酒，置一人。</div>\n",
       "<div style=\"text-indent:2em;padding-left:0em;\">光興房廉帥祭酒，置一人。</div>\n",
       "<div style=\"text-indent:2em;padding-left:0em;\">宣融房廉帥祭酒，置一人。</div>\n",
       "<div style=\"text-indent:0em;padding-left:6em;\">官品第四</div>\n",
       "<div style=\"text-indent:2em;padding-left:0em;\">後宮通關參事，置一人。</div>\n",
       "<div style=\"text-indent:2em;padding-left:0em;\">景德房參事，置人無定數。<font size=\"-2\">銓人士。</font></div>\n",
       "<div style=\"text-indent:2em;padding-left:0em;\">采蓺房參事，置人無定數。<font size=\"-2\">銓人士。</font></div>\n",
       "<div style=\"text-indent:2em;padding-left:0em;\">南房參事，置人無定數。<font size=\"-2\">銓人士。</font></div>\n",
       "<div style=\"text-indent:2em;padding-left:0em;\">內房參事，置一人。<font size=\"-2\">銓人士。</font></div>\n",
       "<div style=\"text-indent:2em;padding-left:0em;\">校學女史，置一人。<font size=\"-2\">銓人士。</font></div>\n",
       "<table class=\"page\"><tr><td class=\"page\"><a name=\"P5\"></a>1274</td></tr></table>\n",
       "<div style=\"text-indent:2em;padding-left:0em;\">後宮中房帥，置二人。</div>\n",
       "<div style=\"text-indent:2em;padding-left:0em;\">後宮源典帥，置二人。</div>\n",
       "<div style=\"text-indent:2em;padding-left:0em;\">後宮穀帛帥，置二人。</div>\n",
       "<div style=\"text-indent:2em;padding-left:0em;\">中臺帥，置一人。</div>\n",
       "<div style=\"text-indent:2em;padding-left:0em;\">中臺侍御起居帥，置二人。</div>\n",
       "<div style=\"text-indent:2em;padding-left:0em;\">中臺侍御詔誥帥，置二人。</div>\n",
       "<div style=\"text-indent:2em;padding-left:0em;\">斯男房帥，置一人。</div>\n",
       "<div style=\"text-indent:2em;padding-left:0em;\">宣豫房帥，置一人。</div>\n",
       "<div style=\"text-indent:2em;padding-left:0em;\">景德房帥，置一人。</div>\n",
       "<div style=\"text-indent:2em;padding-left:0em;\">采蓺房帥，置一人。</div>\n",
       "<div style=\"text-indent:2em;padding-left:0em;\">中藏帥，置一人。</div>\n",
       "<div style=\"text-indent:2em;padding-left:0em;\">內坊帥，置一人。</div>\n",
       "<div style=\"text-indent:2em;padding-left:0em;\">南房帥，置一人。</div>\n",
       "<div style=\"text-indent:2em;padding-left:0em;\">外華房帥，置一人。</div>\n",
       "<div style=\"text-indent:2em;padding-left:0em;\">招慶房帥，置一人。</div>\n",
       "<table class=\"page\"><tr><td class=\"page\"><a name=\"P6\"></a>1275</td></tr></table>\n",
       "<div style=\"text-indent:2em;padding-left:0em;\">紫極諸房廉帥，置人無定數。<font size=\"-2\">有限外。</font></div>\n",
       "<div style=\"text-indent:2em;padding-left:0em;\">紫極中監省帥，置一人。</div>\n",
       "<div style=\"text-indent:2em;padding-left:0em;\">紫極殿帥，置六人。</div>\n",
       "<div style=\"text-indent:2em;padding-left:0em;\">光興殿帥，置四人。</div>\n",
       "<div style=\"text-indent:2em;padding-left:0em;\">徽音監帥，置一人。</div>\n",
       "<div style=\"text-indent:2em;padding-left:0em;\">徽章監帥，置一人。</div>\n",
       "<div style=\"text-indent:2em;padding-left:0em;\">宣融便殿中監典，置一人。</div>\n",
       "<div style=\"text-indent:2em;padding-left:0em;\">清商帥，置人無定數。</div>\n",
       "<div style=\"text-indent:2em;padding-left:0em;\">總章帥，置人無定數。</div>\n",
       "<div style=\"text-indent:2em;padding-left:0em;\">左西章帥，置人無定數。</div>\n",
       "<div style=\"text-indent:2em;padding-left:0em;\">右西章帥，置人無定數。</div>\n",
       "<div style=\"text-indent:2em;padding-left:0em;\">中廚帥，置一人。</div>\n",
       "<div style=\"text-indent:0em;padding-left:6em;\">官品第五</div>\n",
       "<div style=\"text-indent:2em;padding-left:0em;\">中臺侍御執衞，置人無定數。</div>\n",
       "<div style=\"text-indent:2em;padding-left:0em;\">中臺侍御監閨帥，置二人。</div>\n",
       "<table class=\"page\"><tr><td class=\"page\"><a name=\"P7\"></a>1276</td></tr></table>\n",
       "<div style=\"text-indent:2em;padding-left:0em;\">中臺侍御監司帥，置二人。</div>\n",
       "<div style=\"text-indent:2em;padding-left:0em;\">宣融便殿帥，置一人。</div>\n",
       "<div style=\"text-indent:2em;padding-left:0em;\">永巷帥，置一人。</div>\n",
       "<div style=\"text-indent:2em;padding-left:0em;\">後宮都掌內史，置二人。</div>\n",
       "<div style=\"text-indent:2em;padding-left:0em;\">後宮殿中內史，置一人。</div>\n",
       "<div style=\"text-indent:2em;padding-left:0em;\">後宮源典內史，置一人。</div>\n",
       "<div style=\"text-indent:2em;padding-left:0em;\">後宮穀帛內史，置二人。</div>\n",
       "<div style=\"text-indent:2em;padding-left:0em;\">後宮監臨內史，置二人。</div>\n",
       "<div style=\"text-indent:2em;padding-left:0em;\">中臺侍御執法內史，置一人。</div>\n",
       "<div style=\"text-indent:2em;padding-left:0em;\">中臺侍御典內史，置二人。</div>\n",
       "<div style=\"text-indent:2em;padding-left:0em;\">中臺侍御節度內史，置二人。</div>\n",
       "<div style=\"text-indent:2em;padding-left:0em;\">中臺侍御應內史，置六人。</div>\n",
       "<div style=\"text-indent:2em;padding-left:0em;\">紫極房內史，置一人。</div>\n",
       "<div style=\"text-indent:2em;padding-left:0em;\">光興房內史，置一人。</div>\n",
       "<div style=\"text-indent:2em;padding-left:0em;\">助教，置一人。</div>\n",
       "<table class=\"page\"><tr><td class=\"page\"><a name=\"P8\"></a>1277</td></tr></table>\n",
       "<div style=\"text-indent:2em;padding-left:0em;\">綵製帥，置人無定數。</div>\n",
       "<div style=\"text-indent:2em;padding-left:0em;\">裝飾帥，置人無定數。</div>\n",
       "<div style=\"text-indent:2em;padding-left:0em;\">繡帥，置人無定數。</div>\n",
       "<div style=\"text-indent:2em;padding-left:0em;\">織帥，置人無定數。</div>\n",
       "<div style=\"text-indent:2em;padding-left:0em;\">學林館帥，置一人。</div>\n",
       "<div style=\"text-indent:2em;padding-left:0em;\">宮閨帥，置一人。</div>\n",
       "<div style=\"text-indent:2em;padding-left:0em;\">教堂帥，置人無定數。<font size=\"-2\">有限外</font></div>\n",
       "<div style=\"text-indent:2em;padding-left:0em;\">監解帥，置人無定數。</div>\n",
       "<div style=\"text-indent:2em;padding-left:0em;\">累室帥，置人無定數。</div>\n",
       "<div style=\"text-indent:2em;padding-left:0em;\">行病帥，置人無定數。</div>\n",
       "<div style=\"text-indent:0em;padding-left:6em;\">官品第六</div>\n",
       "<div style=\"text-indent:2em;padding-left:0em;\">合堂帥，置二人。</div>\n",
       "<div style=\"text-indent:2em;padding-left:0em;\">御清帥，置一人。</div>\n",
       "<div style=\"text-indent:2em;padding-left:0em;\">監夜帥，置一人。</div>\n",
       "<div style=\"text-indent:2em;padding-left:0em;\">諸房禁防，置人無定數。</div>\n",
       "<table class=\"page\"><tr><td class=\"page\"><a name=\"P9\"></a>1278</td></tr></table>\n",
       "<div style=\"text-indent:2em;padding-left:0em;\">三廂禁防，置三人。</div>\n",
       "<div style=\"text-indent:2em;padding-left:0em;\">諸房廚帥，各置一人。</div>\n",
       "<div style=\"text-indent:2em;padding-left:0em;\">中廚廉，置三人。</div>\n",
       "<div style=\"text-indent:2em;padding-left:0em;\">應閨，置六人。</div>\n",
       "<div style=\"text-indent:2em;padding-left:0em;\">諸應閤，置人無定數。</div>\n",
       "<div style=\"text-indent:2em;padding-left:0em;\">宮閨史，置一人。</div>\n",
       "<div style=\"text-indent:0em;padding-left:6em;\">官品第七</div>\n",
       "<div style=\"text-indent:2em;padding-left:0em;\">諸房中掾，各置一人。</div>\n",
       "<div style=\"text-indent:2em;padding-left:0em;\">中藏掾，各置二人。</div>\n",
       "<div style=\"text-indent:0em;padding-left:6em;\">比五品敕吏</div>\n",
       "<div style=\"text-indent:2em;padding-left:0em;\">紫極供殿直倀。</div>\n",
       "<div style=\"text-indent:2em;padding-left:0em;\">光興供殿直倀。</div>\n",
       "<div style=\"text-indent:2em;padding-left:0em;\">總章伎倀。</div>\n",
       "<div style=\"text-indent:2em;padding-left:0em;\">侍御扶侍。</div>\n",
       "<div style=\"text-indent:2em;padding-left:0em;\">主衣。</div>\n",
       "<table class=\"page\"><tr><td class=\"page\"><a name=\"P10\"></a>1279</td></tr></table>\n",
       "<div style=\"text-indent:0em;padding-left:6em;\">準二衞五品，敕吏比六品。</div>\n",
       "<div style=\"text-indent:2em;padding-left:0em;\">供殿左右。<font size=\"-2\">紫極置二十人。光興置十人。</font></div>\n",
       "<div style=\"text-indent:2em;padding-left:0em;\">左右守藏，置四人。</div>\n",
       "<div style=\"text-indent:2em;padding-left:0em;\">典樂人。</div>\n",
       "<div style=\"text-indent:0em;padding-left:6em;\">比諸房禁防</div>\n",
       "<div style=\"text-indent:2em;padding-left:0em;\">作倀。</div>\n",
       "<div style=\"text-indent:0em;padding-left:6em;\">比王官</div>\n",
       "<div style=\"text-indent:2em;padding-left:0em;\">供殿給使。<font size=\"-2\">紫極置二十人。光興置十人。</font></div>\n",
       "<div style=\"text-indent:2em;padding-left:0em;\">典殿，置人無定數。</div>\n",
       "<div style=\"text-indent:0em;padding-left:6em;\">比官人</div>\n",
       "<div style=\"text-indent:2em;padding-left:0em;\">紫極三廂給事，置十人。</div>\n",
       "<div style=\"text-indent:2em;padding-left:0em;\">全堂給使，置五人。</div>\n",
       "<div style=\"text-indent:2em;padding-left:0em;\">宮閨給使，置六人。</div>\n",
       "<div style=\"text-indent:0em;padding-left:6em;\">比房<a href=\"#\" onclick=\"q00.style.display=q00.style.display=='none'?'':'none'\" title=\"校勘\"><img align=\"absmiddle\" border=\"0\" src=\"/ihp/qe.gif\"/></a><span id=\"q00\" style=\"display:none;width:;height:;color:red;font-size:13px\">[一]比房　「房」下疑有奪字。</span></div>\n",
       "<center>．　．　．　．　．　．　．　．　．　．　．　．　．　．　．　．　．　．</center>\n",
       "</span>\n",
       "</body>"
      ]
     },
     "execution_count": 12,
     "metadata": {},
     "output_type": "execute_result"
    }
   ],
   "source": [
    "# Randomly checks a bookmark\n",
    "idx = 601 #1451\n",
    "MyBooks.flat_bodies[idx].body"
   ]
  },
  {
   "cell_type": "code",
   "execution_count": 7,
   "metadata": {},
   "outputs": [
    {
     "name": "stderr",
     "output_type": "stream",
     "text": [
      "100%|██████████████████████████████████████████████████████████████████████████| 601/601 [00:01<00:00, 411.19it/s]\n",
      "INFO:root:Remove 標註, page number, and page dividers from the tree structure.\n",
      "100%|██████████████████████████████████████████████████████████████████████████| 601/601 [00:00<00:00, 633.75it/s]\n",
      "INFO:root:Remove the new lines added by the page dividers, connect the paragraphs before and after the new lines.\n"
     ]
    },
    {
     "name": "stdout",
     "output_type": "stream",
     "text": [
      "Wall time: 3.06 s\n"
     ]
    }
   ],
   "source": [
    "%%time\n",
    "MyBooks.strip_all_irrelevant_tags()"
   ]
  },
  {
   "cell_type": "markdown",
   "metadata": {},
   "source": [
    "### Preliminary exploration\n",
    "##### We want to find out how many nodes (children) there are under each flat_bodies[i]"
   ]
  },
  {
   "cell_type": "code",
   "execution_count": 7,
   "metadata": {},
   "outputs": [
    {
     "name": "stdout",
     "output_type": "stream",
     "text": [
      "602\n",
      "Wall time: 94.8 ms\n"
     ]
    }
   ],
   "source": [
    "%%time\n",
    "# This block asserts that each of the flat_bodies nodes has exactly 5 children and\n",
    "# that the children at index positions 0, 2, 4 are all newlines ('\\n') \n",
    "cnt = 0\n",
    "for bs in MyBooks.flat_bodies:\n",
    "    assert len(list(bs.html.body.children)) == 5\n",
    "    assert list(bs.html.body.children)[0] == '\\n'\n",
    "    assert list(bs.html.body.children)[2] == '\\n'\n",
    "    assert list(bs.html.body.children)[4] == '\\n'\n",
    "    cnt += 1\n",
    "print(cnt)"
   ]
  },
  {
   "cell_type": "markdown",
   "metadata": {},
   "source": [
    "### Now extract paths"
   ]
  },
  {
   "cell_type": "code",
   "execution_count": 8,
   "metadata": {},
   "outputs": [
    {
     "name": "stderr",
     "output_type": "stream",
     "text": [
      "100%|████████████████████████████████████████████████████████████████████████| 602/602 [00:00<00:00, 11824.96it/s]\n"
     ]
    },
    {
     "name": "stdout",
     "output_type": "stream",
     "text": [
      "Wall time: 55.9 ms\n"
     ]
    }
   ],
   "source": [
    "%%time\n",
    "MyBooks.extract_paths()"
   ]
  },
  {
   "cell_type": "code",
   "execution_count": 23,
   "metadata": {},
   "outputs": [
    {
     "data": {
      "text/plain": [
       "'史／正史／宋書／列傳\\u3000凡六十卷(P.1269)..[底本：宋元明三朝遞修本]'"
      ]
     },
     "execution_count": 23,
     "metadata": {},
     "output_type": "execute_result"
    }
   ],
   "source": [
    "# check some random page\n",
    "idx = 601\n",
    "MyBooks.paths[idx]"
   ]
  },
  {
   "cell_type": "code",
   "execution_count": 24,
   "metadata": {},
   "outputs": [
    {
     "data": {
      "text/plain": [
       "'史／正史／宋書／列傳\\u3000凡六十卷(P.1269)..[底本：宋元明三朝遞修本]'"
      ]
     },
     "execution_count": 24,
     "metadata": {},
     "output_type": "execute_result"
    }
   ],
   "source": [
    "MyBooks.title_candidates[idx]"
   ]
  },
  {
   "cell_type": "markdown",
   "metadata": {},
   "source": [
    "### Next we explore the children of html.body.span"
   ]
  },
  {
   "cell_type": "code",
   "execution_count": null,
   "metadata": {},
   "outputs": [],
   "source": [
    "%%time\n",
    "# This block of code finds out how many children each of the main (<span>) nodes\n",
    "# has and what type(s) of nodes its children are\n",
    "cnt = 0\n",
    "counts = {}\n",
    "for i, bs in enumerate(MyBooks.flat_bodies):\n",
    "    n = len(list(bs.html.body.span))\n",
    "    if n in counts:\n",
    "        counts[n].append(i)\n",
    "    else:\n",
    "        counts[n] = [i]\n",
    "    cnt += 1\n",
    "print(cnt)"
   ]
  },
  {
   "cell_type": "code",
   "execution_count": 26,
   "metadata": {},
   "outputs": [
    {
     "data": {
      "text/plain": [
       "dict_keys([])"
      ]
     },
     "execution_count": 26,
     "metadata": {},
     "output_type": "execute_result"
    }
   ],
   "source": [
    "counts.keys()"
   ]
  },
  {
   "cell_type": "code",
   "execution_count": 17,
   "metadata": {},
   "outputs": [
    {
     "data": {
      "text/plain": [
       "'435, 477'"
      ]
     },
     "execution_count": 17,
     "metadata": {},
     "output_type": "execute_result"
    }
   ],
   "source": [
    "# what are the indexes that contain 'cnt' nodes\n",
    "cnt = 31\n",
    "', '.join([str(i) for i in counts[cnt]])"
   ]
  },
  {
   "cell_type": "code",
   "execution_count": 18,
   "metadata": {},
   "outputs": [
    {
     "name": "stderr",
     "output_type": "stream",
     "text": [
      "100%|█████████████████████████████████████████████████████████████████████████| 602/602 [00:00<00:00, 4643.29it/s]\n"
     ]
    }
   ],
   "source": [
    "# clean children of html.body.span (strips empty nodes)\n",
    "MyBooks.clean_children()"
   ]
  },
  {
   "cell_type": "code",
   "execution_count": 19,
   "metadata": {},
   "outputs": [
    {
     "data": {
      "text/plain": [
       "124"
      ]
     },
     "execution_count": 19,
     "metadata": {},
     "output_type": "execute_result"
    }
   ],
   "source": [
    "idx"
   ]
  },
  {
   "cell_type": "code",
   "execution_count": null,
   "metadata": {},
   "outputs": [],
   "source": [
    "#idx = 694\n",
    "titles = []\n",
    "poem_texts = []\n",
    "for c in MyBooks.flat_bodies[idx]:\n",
    "    print(c.name)\n",
    "    pass\n",
    "    if c.name in ('h3', 'b'):\n",
    "        titles.append(c.text)\n",
    "    elif c.name == 'div':\n",
    "        poem_texts.append(c.text)\n",
    "poem_texts\n",
    "MyBooks.flat_bodies[idx]\n",
    "titles"
   ]
  },
  {
   "cell_type": "code",
   "execution_count": 28,
   "metadata": {},
   "outputs": [
    {
     "data": {
      "text/plain": [
       "'史／正史／宋書／列傳\\u3000凡六十卷(P.1269)..[底本：宋元明三朝遞修本]'"
      ]
     },
     "execution_count": 28,
     "metadata": {},
     "output_type": "execute_result"
    }
   ],
   "source": [
    "#MyBooks.title_candidates[idx]\n",
    "MyBooks.paths[idx]"
   ]
  },
  {
   "cell_type": "code",
   "execution_count": null,
   "metadata": {},
   "outputs": [],
   "source": [
    "MyBooks.flat_bodies[idx]"
   ]
  },
  {
   "cell_type": "code",
   "execution_count": null,
   "metadata": {},
   "outputs": [],
   "source": []
  },
  {
   "cell_type": "code",
   "execution_count": 101,
   "metadata": {},
   "outputs": [],
   "source": [
    "def extract_collation_notes(bs):\n",
    "    ''' bs: can be an h3, div or other types of tags \n",
    "        returns: a dictionary of collation notes keyed with qxx \n",
    "    '''\n",
    "    collation_notes = {}\n",
    "    for t in bs.find_all('span', {'id': re.compile(pattern=r'^q\\d+')}):\n",
    "        a = t.get_attribute_list('id', )[0]  # ['q00']\n",
    "        collation_notes[a] = t.text\n",
    "    return collation_notes\n",
    "    "
   ]
  },
  {
   "cell_type": "code",
   "execution_count": 86,
   "metadata": {},
   "outputs": [],
   "source": [
    "def extract_title_poem_collation_notes(bs):\n",
    "    ''' title: Title (in h3), possibly with collcation notes\n",
    "        poem:  text of poem, possibly with collcation notes\n",
    "        collcation_notes: a dictionary of collcation notes with <span> id (q00, q01, etc.) as keys\n",
    "    '''\n",
    "    cnt = 0\n",
    "    rb = bs.html.body\n",
    "    raw_body_text = str(rb)\n",
    "    collation_notes = []\n",
    "    for t in rb.find_all('span', {'id': re.compile(pattern=r'^q\\d+')}):\n",
    "        cnt += 1\n",
    "        collation_notes.append(t.text)\n",
    "        raw_body_text = raw_body_text.replace(str(t), \"{}\")\n",
    "\n",
    "    rb = BeautifulSoup(raw_body_text, 'lxml') # parse it again\n",
    "    raw_body = []\n",
    "    for d in rb.html.body.find_all('div'):\n",
    "        raw_body.append(d.text)\n",
    "    return (raw_body, collation_notes)"
   ]
  },
  {
   "cell_type": "code",
   "execution_count": 88,
   "metadata": {},
   "outputs": [],
   "source": [
    "rb, cn = extract_poem_plus_collation_notes(bs)"
   ]
  },
  {
   "cell_type": "code",
   "execution_count": 67,
   "metadata": {},
   "outputs": [
    {
     "data": {
      "text/plain": [
       "(22, 21)"
      ]
     },
     "execution_count": 67,
     "metadata": {},
     "output_type": "execute_result"
    }
   ],
   "source": [
    "len(cn), rb[0].count(\"{}\")"
   ]
  },
  {
   "cell_type": "markdown",
   "metadata": {},
   "source": [
    "### Notes\n",
    "##### (1) For <span id='qxxx'></span>, the text for q00 or q000 (etc.) is the first collocation note, whether it is attached to the Title or not"
   ]
  },
  {
   "cell_type": "code",
   "execution_count": 8,
   "metadata": {},
   "outputs": [
    {
     "name": "stdout",
     "output_type": "stream",
     "text": [
      "䜎\n"
     ]
    }
   ],
   "source": [
    "print(chr(0x470E)) # the rare character 䜎"
   ]
  },
  {
   "cell_type": "code",
   "execution_count": null,
   "metadata": {},
   "outputs": [],
   "source": [
    "tag = PTPoetry.flat_bodies[idx]    # 1072,  1451\n",
    "cnt = 0\n",
    "#for t in tag.find_all('span', {'id': {\"q00\", \"q01\", \"q02\"}}):\n",
    "notes_id = []\n",
    "for t in tag.find_all('span'):\n",
    "    cnt += 1\n",
    "    attr_list = t.get_attribute_list('id')\n",
    "    if attr_list[0].startswith(\"q\"):  # only id='qxxx', where xxx is a number, is picked up\n",
    "        notes_id.extend(attr_list)\n",
    "\n",
    "cnt = 0\n",
    "for t in tag.find_all('span', {'id': set(notes_id)}):\n",
    "    cnt += 1\n",
    "    #print(cnt, \":\", t.text)\n",
    "\n",
    "raw_body = str(tag.html.body)\n",
    "type(raw_body)\n",
    "for j, note_id in enumerate(notes_id):\n",
    "    x = tag.find('span', id=note_id)\n",
    "    raw_body = raw_body.replace(str(x), \"{}\")\n",
    "    print(j, note_id, x.text)\n",
    "raw_body"
   ]
  },
  {
   "cell_type": "code",
   "execution_count": 12,
   "metadata": {},
   "outputs": [
    {
     "name": "stdout",
     "output_type": "stream",
     "text": [
      "詩紀云。阮嗣宗集傳之既久。頗存偽闕。世之較錄者往往肆為補綴。作者之旨。淆亂甚焉。今以諸本參校。其義稍優者為正文。互異者分註於下。其舊有闕文疑字而今本竄益者。廓其傍。俟再考正。\n"
     ]
    }
   ],
   "source": [
    "from bs4 import BeautifulSoup\n",
    "soup = BeautifulSoup(raw_body, 'lxml')\n",
    "opening_note = soup.find(\"div\").find_all(\"font\", size=\"-2\")\n",
    "if opening_note:\n",
    "    print(opening_note[0].text)"
   ]
  },
  {
   "cell_type": "code",
   "execution_count": 33,
   "metadata": {},
   "outputs": [
    {
     "data": {
      "text/plain": [
       "270"
      ]
     },
     "execution_count": 33,
     "metadata": {},
     "output_type": "execute_result"
    }
   ],
   "source": [
    "if opening_note:\n",
    "    poem_body = soup.find(\"div\").text.replace(opening_note[0].text, \"\").strip()\n",
    "poem_body.count(\"{}\")"
   ]
  },
  {
   "cell_type": "code",
   "execution_count": null,
   "metadata": {},
   "outputs": [],
   "source": [
    "tag = PTPoetry.flat_bodies[1451]\n",
    "raw_text = tag.html.body\n",
    "str(raw_text)"
   ]
  },
  {
   "cell_type": "code",
   "execution_count": 25,
   "metadata": {},
   "outputs": [
    {
     "data": {
      "text/plain": [
       "(270, 270)"
      ]
     },
     "execution_count": 25,
     "metadata": {},
     "output_type": "execute_result"
    }
   ],
   "source": [
    "raw_body.count(\"{}\"), len(notes_id)\n",
    "#assert raw_body.count(\"{}\") == len(notes_id)\n",
    "#notes_id\n",
    "#tag.find('span', id=notes_id[-1]).text"
   ]
  },
  {
   "cell_type": "code",
   "execution_count": 26,
   "metadata": {},
   "outputs": [
    {
     "data": {
      "text/plain": [
       "270"
      ]
     },
     "execution_count": 26,
     "metadata": {},
     "output_type": "execute_result"
    }
   ],
   "source": [
    "raw_body.count(\"{}\")"
   ]
  },
  {
   "cell_type": "code",
   "execution_count": 5,
   "metadata": {},
   "outputs": [],
   "source": [
    "# Pulls out the bookmark\n",
    "PTPoetry.extract_paths()"
   ]
  },
  {
   "cell_type": "code",
   "execution_count": null,
   "metadata": {},
   "outputs": [],
   "source": [
    "[(idx, value) for idx, value in enumerate(PTPoetry.paths[1500:1520])]"
   ]
  },
  {
   "cell_type": "code",
   "execution_count": 10,
   "metadata": {},
   "outputs": [
    {
     "name": "stdout",
     "output_type": "stream",
     "text": [
      "['集', '總集', '先秦漢魏晉南北朝詩', '梁詩', '卷二十三(P.1980)']\n",
      "['集', '總集', '先秦漢魏晉南北朝詩', '梁詩', '卷二十四(P.2008)']\n",
      "['集', '總集', '先秦漢魏晉南北朝詩', '梁詩', '卷二十五(P.2030)']\n",
      "['集', '總集', '先秦漢魏晉南北朝詩', '梁詩', '卷二十六(P.2061)']\n",
      "['集', '總集', '先秦漢魏晉南北朝詩', '梁詩', '卷二十七(P.2079)']\n",
      "['集', '總集', '先秦漢魏晉南北朝詩', '梁詩', '卷二十八(P.2107)']\n",
      "['集', '總集', '先秦漢魏晉南北朝詩', '梁詩', '卷二十九(P.2136)']\n",
      "['集', '總集', '先秦漢魏晉南北朝詩', '梁詩', '卷三十(P.2162)']\n",
      "['集', '總集', '先秦漢魏晉南北朝詩', '北魏詩(P.2195)']\n",
      "['集', '總集', '先秦漢魏晉南北朝詩', '北魏詩', '卷一(P.2195)']\n",
      "['集', '總集', '先秦漢魏晉南北朝詩', '北魏詩', '卷二(P.2212)']\n",
      "['集', '總集', '先秦漢魏晉南北朝詩', '北魏詩', '卷三(P.2227)']\n",
      "['集', '總集', '先秦漢魏晉南北朝詩', '北魏詩', '卷四(P.2246)']\n",
      "['集', '總集', '先秦漢魏晉南北朝詩', '北齊詩(P.2255)']\n",
      "['集', '總集', '先秦漢魏晉南北朝詩', '北齊詩', '卷一(P.2255)']\n",
      "['集', '總集', '先秦漢魏晉南北朝詩', '北齊詩', '卷二(P.2272)']\n",
      "['集', '總集', '先秦漢魏晉南北朝詩', '北齊詩', '卷三(P.2287)']\n",
      "['集', '總集', '先秦漢魏晉南北朝詩', '北齊詩', '卷四(P.2301)']\n",
      "['集', '總集', '先秦漢魏晉南北朝詩', '北周詩(P.2322)']\n",
      "['集', '總集', '先秦漢魏晉南北朝詩', '北周詩', '卷一(P.2322)']\n",
      "['集', '總集', '先秦漢魏晉南北朝詩', '北周詩', '卷二(P.2345)']\n",
      "['集', '總集', '先秦漢魏晉南北朝詩', '北周詩', '卷三(P.2365)']\n",
      "['集', '總集', '先秦漢魏晉南北朝詩', '北周詩', '卷四(P.2384)']\n",
      "['集', '總集', '先秦漢魏晉南北朝詩', '北周詩', '卷五(P.2413)']\n",
      "['集', '總集', '先秦漢魏晉南北朝詩', '北周詩', '卷六(P.2432)']\n",
      "['集', '總集', '先秦漢魏晉南北朝詩', '陳詩(P.2442)']\n",
      "['集', '總集', '先秦漢魏晉南北朝詩', '陳詩', '卷一(P.2442)']\n",
      "['集', '總集', '先秦漢魏晉南北朝詩', '陳詩', '卷二(P.2460)']\n",
      "['集', '總集', '先秦漢魏晉南北朝詩', '陳詩', '卷三(P.2483)']\n",
      "['集', '總集', '先秦漢魏晉南北朝詩', '陳詩', '卷四(P.2499)']\n",
      "['集', '總集', '先秦漢魏晉南北朝詩', '陳詩', '卷五(P.2522)']\n",
      "['集', '總集', '先秦漢魏晉南北朝詩', '陳詩', '卷六(P.2540)']\n",
      "['集', '總集', '先秦漢魏晉南北朝詩', '陳詩', '卷七(P.2565)']\n",
      "['集', '總集', '先秦漢魏晉南北朝詩', '陳詩', '卷八(P.2576)']\n",
      "['集', '總集', '先秦漢魏晉南北朝詩', '陳詩', '卷九(P.2598)']\n",
      "['集', '總集', '先秦漢魏晉南北朝詩', '陳詩', '卷十(P.2617)']\n",
      "['集', '總集', '先秦漢魏晉南北朝詩', '隋詩(P.2626)']\n",
      "['集', '總集', '先秦漢魏晉南北朝詩', '隋詩', '卷一(P.2626)']\n",
      "['集', '總集', '先秦漢魏晉南北朝詩', '隋詩', '卷二(P.2642)']\n",
      "['集', '總集', '先秦漢魏晉南北朝詩', '隋詩', '卷三(P.2659)']\n",
      "['集', '總集', '先秦漢魏晉南北朝詩', '隋詩', '卷四(P.2674)']\n",
      "['集', '總集', '先秦漢魏晉南北朝詩', '隋詩', '卷五(P.2687)']\n",
      "['集', '總集', '先秦漢魏晉南北朝詩', '隋詩', '卷六(P.2705)']\n",
      "['集', '總集', '先秦漢魏晉南北朝詩', '隋詩', '卷七(P.2724)']\n",
      "['集', '總集', '先秦漢魏晉南北朝詩', '隋詩', '卷八(P.2739)']\n",
      "['集', '總集', '先秦漢魏晉南北朝詩', '隋詩', '卷九(P.2753)']\n",
      "['集', '總集', '先秦漢魏晉南北朝詩', '隋詩', '卷十(P.2770)']\n",
      "['集', '總集', '先秦漢魏晉南北朝詩', '後記(P.2787)']\n"
     ]
    }
   ],
   "source": [
    "SplitPaths = []\n",
    "MetaList = []\n",
    "MetaList2 =[]\n",
    "\n",
    "for path in PTPoetry.paths:\n",
    "    x = path.split(\"／\")\n",
    "    SplitPaths.append(x)\n",
    "\n",
    "for path2 in SplitPaths:\n",
    "    try:\n",
    "        #making our collection this a list, not a tuple\n",
    "        y = [path2[3], path2[4], path2[5], path2[-1]]\n",
    "        MetaList.append(y)\n",
    "    except:\n",
    "        print(path2)\n",
    "        pass\n",
    "\n",
    "#But the method above is not right.  Authors not always at index 5, and at the start\n",
    "#of each author, index-1 will give the author, not the title.\n",
    "\n",
    "for item in MetaList:\n",
    "    titlepage = item[3].strip(\")\").split(\"(\")\n",
    "    if len(titlepage) == 1:\n",
    "        pass\n",
    "    MetaList2.append(item[0:3] + titlepage)\n",
    "    #TODO: failing to strip out the \"P.\" in the page number"
   ]
  },
  {
   "cell_type": "code",
   "execution_count": 11,
   "metadata": {},
   "outputs": [
    {
     "name": "stdout",
     "output_type": "stream",
     "text": [
      "['先秦詩', '卷三', '謠', '包山謠(P.43)'] \n",
      " ['先秦詩', '卷三', '謠', '包山謠', 'P.43']\n"
     ]
    }
   ],
   "source": [
    "print(MetaList[100], '\\n', MetaList2[100])"
   ]
  },
  {
   "cell_type": "code",
   "execution_count": 12,
   "metadata": {},
   "outputs": [],
   "source": [
    "#let's get a rawer set of bookmark data, to work with.  Everything except\n",
    "# the first three spots (集，總集，先秦漢魏晉南北朝詩)\n",
    "RoughMeta = []\n",
    "for path in PTPoetry.paths:\n",
    "    x = path.split(\"／\")\n",
    "    RoughMeta.append(x[3:])\n"
   ]
  },
  {
   "cell_type": "code",
   "execution_count": 13,
   "metadata": {},
   "outputs": [
    {
     "data": {
      "text/plain": [
       "[['晉詩', '卷二', '棗據', '詩(P.589)'],\n",
       " ['晉詩', '卷二', '棗據', '五言詩(P.590)'],\n",
       " ['晉詩', '卷二', '棗據', '詩(P.590)'],\n",
       " ['晉詩', '卷二', '王濬(P.591)'],\n",
       " ['晉詩', '卷二', '王濬', '祖道應令詩(P.591)'],\n",
       " ['晉詩', '卷二', '王濬', '平吴詩(P.591)'],\n",
       " ['晉詩', '卷二', '荀勗(P.591)'],\n",
       " ['晉詩', '卷二', '荀勗', '從武帝華林園宴詩(P.592)'],\n",
       " ['晉詩', '卷二', '荀勗', '三月三日從華林園詩(P.592)'],\n",
       " ['晉詩', '卷二', '王銓(P.592)'],\n",
       " ['晉詩', '卷二', '王銓', '為兩足虎作歌詩(P.592)'],\n",
       " ['晉詩', '卷二', '夏侯湛(P.593)'],\n",
       " ['晉詩', '卷二', '夏侯湛', '周詩(P.593)'],\n",
       " ['晉詩', '卷二', '夏侯湛', '山路吟(P.594)'],\n",
       " ['晉詩', '卷二', '夏侯湛', '江上泛歌(P.594)'],\n",
       " ['晉詩', '卷二', '夏侯湛', '離親詠(P.594)'],\n",
       " ['晉詩', '卷二', '夏侯湛', '長夜謠(P.595)'],\n",
       " ['晉詩', '卷二', '夏侯湛', '寒苦謠(P.595)'],\n",
       " ['晉詩', '卷二', '夏侯湛', '春可樂(P.595)'],\n",
       " ['晉詩', '卷二', '夏侯湛', '秋可哀(P.596)'],\n",
       " ['晉詩', '卷二', '夏侯湛', '秋夕哀(P.596)'],\n",
       " ['晉詩', '卷二', '夏侯湛', '征邁辭(P.596)'],\n",
       " ['晉詩', '卷二', '王濟(P.597)'],\n",
       " ['晉詩', '卷二', '王濟', '平吴後三月三日華林園詩(P.597)'],\n",
       " ['晉詩', '卷二', '王濟', '從事華林詩(P.597)'],\n",
       " ['晉詩', '卷二', '王濟', '詩(P.597)'],\n",
       " ['晉詩', '卷二', '王濟', '答何劭詩(P.598)'],\n",
       " ['晉詩', '卷二', '孫楚(P.598)'],\n",
       " ['晉詩', '卷二', '孫楚', '答弘農故吏民詩(P.598)'],\n",
       " ['晉詩', '卷二', '孫楚', '除婦服詩(P.598)'],\n",
       " ['晉詩', '卷二', '孫楚', '太僕座上詩(P.599)'],\n",
       " ['晉詩', '卷二', '孫楚', '會王侍中座上詩(P.599)'],\n",
       " ['晉詩', '卷二', '孫楚', '祖道詩(P.599)'],\n",
       " ['晉詩', '卷二', '孫楚', '征西官屬送於陟陽候作詩(P.599)'],\n",
       " ['晉詩', '卷二', '孫楚', '之馮翊祖道詩(P.600)'],\n",
       " ['晉詩', '卷二', '孫楚', '出歌(P.600)'],\n",
       " ['晉詩', '卷二', '董京(P.600)'],\n",
       " ['晉詩', '卷二', '董京', '詩二首(P.600)'],\n",
       " ['晉詩', '卷二', '董京', '答孫楚詩(P.601)'],\n",
       " ['晉詩', '卷三', '傅咸(P.603)'],\n",
       " ['晉詩', '卷三', '傅咸', '孝經詩(P.603)'],\n",
       " ['晉詩', '卷三', '傅咸', '論語詩(P.603)'],\n",
       " ['晉詩', '卷三', '傅咸', '毛詩詩(P.604)'],\n",
       " ['晉詩', '卷三', '傅咸', '周易詩(P.604)'],\n",
       " ['晉詩', '卷三', '傅咸', '周官詩(P.604)'],\n",
       " ['晉詩', '卷三', '傅咸', '左傳詩(P.605)'],\n",
       " ['晉詩', '卷三', '傅咸', '與尚書同僚詩(P.605)'],\n",
       " ['晉詩', '卷三', '傅咸', '贈褚武良詩(P.605)'],\n",
       " ['晉詩', '卷三', '傅咸', '贈崔伏二郎詩(P.606)'],\n",
       " ['晉詩', '卷三', '傅咸', '答潘尼詩(P.606)']]"
      ]
     },
     "execution_count": 13,
     "metadata": {},
     "output_type": "execute_result"
    }
   ],
   "source": [
    "RoughMeta[1300:1350]"
   ]
  },
  {
   "cell_type": "code",
   "execution_count": 14,
   "metadata": {},
   "outputs": [],
   "source": [
    "import pandas as pd\n",
    "RoughFrame=pd.DataFrame(RoughMeta)"
   ]
  },
  {
   "cell_type": "code",
   "execution_count": 15,
   "metadata": {},
   "outputs": [
    {
     "data": {
      "text/html": [
       "<div>\n",
       "<style scoped>\n",
       "    .dataframe tbody tr th:only-of-type {\n",
       "        vertical-align: middle;\n",
       "    }\n",
       "\n",
       "    .dataframe tbody tr th {\n",
       "        vertical-align: top;\n",
       "    }\n",
       "\n",
       "    .dataframe thead th {\n",
       "        text-align: right;\n",
       "    }\n",
       "</style>\n",
       "<table border=\"1\" class=\"dataframe\">\n",
       "  <thead>\n",
       "    <tr style=\"text-align: right;\">\n",
       "      <th></th>\n",
       "      <th>0</th>\n",
       "      <th>1</th>\n",
       "      <th>2</th>\n",
       "      <th>3</th>\n",
       "      <th>4</th>\n",
       "      <th>5</th>\n",
       "    </tr>\n",
       "  </thead>\n",
       "  <tbody>\n",
       "    <tr>\n",
       "      <th>900</th>\n",
       "      <td>魏詩</td>\n",
       "      <td>卷五</td>\n",
       "      <td>吴質(P.412)</td>\n",
       "      <td>None</td>\n",
       "      <td>None</td>\n",
       "      <td>None</td>\n",
       "    </tr>\n",
       "    <tr>\n",
       "      <th>901</th>\n",
       "      <td>魏詩</td>\n",
       "      <td>卷五</td>\n",
       "      <td>吴質</td>\n",
       "      <td>思慕詩(P.412)</td>\n",
       "      <td>None</td>\n",
       "      <td>None</td>\n",
       "    </tr>\n",
       "    <tr>\n",
       "      <th>902</th>\n",
       "      <td>魏詩</td>\n",
       "      <td>卷五</td>\n",
       "      <td>麋元(P.412)</td>\n",
       "      <td>None</td>\n",
       "      <td>None</td>\n",
       "      <td>None</td>\n",
       "    </tr>\n",
       "    <tr>\n",
       "      <th>903</th>\n",
       "      <td>魏詩</td>\n",
       "      <td>卷五</td>\n",
       "      <td>麋元</td>\n",
       "      <td>詩(P.412)</td>\n",
       "      <td>None</td>\n",
       "      <td>None</td>\n",
       "    </tr>\n",
       "    <tr>\n",
       "      <th>904</th>\n",
       "      <td>魏詩</td>\n",
       "      <td>卷五</td>\n",
       "      <td>魏明帝曹叡(P.413)</td>\n",
       "      <td>None</td>\n",
       "      <td>None</td>\n",
       "      <td>None</td>\n",
       "    </tr>\n",
       "    <tr>\n",
       "      <th>905</th>\n",
       "      <td>魏詩</td>\n",
       "      <td>卷五</td>\n",
       "      <td>魏明帝曹叡</td>\n",
       "      <td>樂府</td>\n",
       "      <td>短歌行(P.413)</td>\n",
       "      <td>None</td>\n",
       "    </tr>\n",
       "    <tr>\n",
       "      <th>906</th>\n",
       "      <td>魏詩</td>\n",
       "      <td>卷五</td>\n",
       "      <td>魏明帝曹叡</td>\n",
       "      <td>樂府</td>\n",
       "      <td>善哉行(P.413)</td>\n",
       "      <td>None</td>\n",
       "    </tr>\n",
       "    <tr>\n",
       "      <th>907</th>\n",
       "      <td>魏詩</td>\n",
       "      <td>卷五</td>\n",
       "      <td>魏明帝曹叡</td>\n",
       "      <td>樂府</td>\n",
       "      <td>同前四解(P.414)</td>\n",
       "      <td>None</td>\n",
       "    </tr>\n",
       "    <tr>\n",
       "      <th>908</th>\n",
       "      <td>魏詩</td>\n",
       "      <td>卷五</td>\n",
       "      <td>魏明帝曹叡</td>\n",
       "      <td>樂府</td>\n",
       "      <td>步出夏門行(P.414)</td>\n",
       "      <td>None</td>\n",
       "    </tr>\n",
       "    <tr>\n",
       "      <th>909</th>\n",
       "      <td>魏詩</td>\n",
       "      <td>卷五</td>\n",
       "      <td>魏明帝曹叡</td>\n",
       "      <td>樂府</td>\n",
       "      <td>月重輪行(P.415)</td>\n",
       "      <td>None</td>\n",
       "    </tr>\n",
       "    <tr>\n",
       "      <th>910</th>\n",
       "      <td>魏詩</td>\n",
       "      <td>卷五</td>\n",
       "      <td>魏明帝曹叡</td>\n",
       "      <td>樂府</td>\n",
       "      <td>長歌行(P.415)</td>\n",
       "      <td>None</td>\n",
       "    </tr>\n",
       "    <tr>\n",
       "      <th>911</th>\n",
       "      <td>魏詩</td>\n",
       "      <td>卷五</td>\n",
       "      <td>魏明帝曹叡</td>\n",
       "      <td>樂府</td>\n",
       "      <td>苦寒行(P.416)</td>\n",
       "      <td>None</td>\n",
       "    </tr>\n",
       "    <tr>\n",
       "      <th>912</th>\n",
       "      <td>魏詩</td>\n",
       "      <td>卷五</td>\n",
       "      <td>魏明帝曹叡</td>\n",
       "      <td>樂府</td>\n",
       "      <td>櫂歌行(P.416)</td>\n",
       "      <td>None</td>\n",
       "    </tr>\n",
       "    <tr>\n",
       "      <th>913</th>\n",
       "      <td>魏詩</td>\n",
       "      <td>卷五</td>\n",
       "      <td>魏明帝曹叡</td>\n",
       "      <td>樂府</td>\n",
       "      <td>種瓜篇(P.416)</td>\n",
       "      <td>None</td>\n",
       "    </tr>\n",
       "    <tr>\n",
       "      <th>914</th>\n",
       "      <td>魏詩</td>\n",
       "      <td>卷五</td>\n",
       "      <td>魏明帝曹叡</td>\n",
       "      <td>樂府</td>\n",
       "      <td>燕歌行(P.417)</td>\n",
       "      <td>None</td>\n",
       "    </tr>\n",
       "    <tr>\n",
       "      <th>915</th>\n",
       "      <td>魏詩</td>\n",
       "      <td>卷五</td>\n",
       "      <td>魏明帝曹叡</td>\n",
       "      <td>樂府</td>\n",
       "      <td>猛虎行(P.417)</td>\n",
       "      <td>None</td>\n",
       "    </tr>\n",
       "    <tr>\n",
       "      <th>916</th>\n",
       "      <td>魏詩</td>\n",
       "      <td>卷五</td>\n",
       "      <td>魏明帝曹叡</td>\n",
       "      <td>樂府</td>\n",
       "      <td>堂上行(P.417)</td>\n",
       "      <td>None</td>\n",
       "    </tr>\n",
       "    <tr>\n",
       "      <th>917</th>\n",
       "      <td>魏詩</td>\n",
       "      <td>卷五</td>\n",
       "      <td>魏明帝曹叡</td>\n",
       "      <td>樂府</td>\n",
       "      <td>清調歌(P.418)</td>\n",
       "      <td>None</td>\n",
       "    </tr>\n",
       "    <tr>\n",
       "      <th>918</th>\n",
       "      <td>魏詩</td>\n",
       "      <td>卷五</td>\n",
       "      <td>魏明帝曹叡</td>\n",
       "      <td>樂府</td>\n",
       "      <td>自惜身薄祜行(P.418)</td>\n",
       "      <td>None</td>\n",
       "    </tr>\n",
       "    <tr>\n",
       "      <th>919</th>\n",
       "      <td>魏詩</td>\n",
       "      <td>卷五</td>\n",
       "      <td>魏明帝曹叡</td>\n",
       "      <td>樂府</td>\n",
       "      <td>野田黃雀行(P.418)</td>\n",
       "      <td>None</td>\n",
       "    </tr>\n",
       "    <tr>\n",
       "      <th>920</th>\n",
       "      <td>魏詩</td>\n",
       "      <td>卷五</td>\n",
       "      <td>魏明帝曹叡</td>\n",
       "      <td>樂府</td>\n",
       "      <td>豫章行(P.418)</td>\n",
       "      <td>None</td>\n",
       "    </tr>\n",
       "    <tr>\n",
       "      <th>921</th>\n",
       "      <td>魏詩</td>\n",
       "      <td>卷五</td>\n",
       "      <td>魏明帝曹叡</td>\n",
       "      <td>樂府</td>\n",
       "      <td>樂府詩(P.418)</td>\n",
       "      <td>None</td>\n",
       "    </tr>\n",
       "    <tr>\n",
       "      <th>922</th>\n",
       "      <td>魏詩</td>\n",
       "      <td>卷五</td>\n",
       "      <td>杜摯(P.419)</td>\n",
       "      <td>None</td>\n",
       "      <td>None</td>\n",
       "      <td>None</td>\n",
       "    </tr>\n",
       "    <tr>\n",
       "      <th>923</th>\n",
       "      <td>魏詩</td>\n",
       "      <td>卷五</td>\n",
       "      <td>杜摯</td>\n",
       "      <td>贈毌丘儉詩(P.419)</td>\n",
       "      <td>None</td>\n",
       "      <td>None</td>\n",
       "    </tr>\n",
       "    <tr>\n",
       "      <th>924</th>\n",
       "      <td>魏詩</td>\n",
       "      <td>卷五</td>\n",
       "      <td>杜摯</td>\n",
       "      <td>贈毌丘荊州詩(P.420)</td>\n",
       "      <td>None</td>\n",
       "      <td>None</td>\n",
       "    </tr>\n",
       "    <tr>\n",
       "      <th>925</th>\n",
       "      <td>魏詩</td>\n",
       "      <td>卷六</td>\n",
       "      <td>陳思王曹植一(P.421)</td>\n",
       "      <td>None</td>\n",
       "      <td>None</td>\n",
       "      <td>None</td>\n",
       "    </tr>\n",
       "    <tr>\n",
       "      <th>926</th>\n",
       "      <td>魏詩</td>\n",
       "      <td>卷六</td>\n",
       "      <td>陳思王曹植一</td>\n",
       "      <td>樂府</td>\n",
       "      <td>丹霞蔽日行(P.421)</td>\n",
       "      <td>None</td>\n",
       "    </tr>\n",
       "    <tr>\n",
       "      <th>927</th>\n",
       "      <td>魏詩</td>\n",
       "      <td>卷六</td>\n",
       "      <td>陳思王曹植一</td>\n",
       "      <td>樂府</td>\n",
       "      <td>飛龍篇(P.421)</td>\n",
       "      <td>None</td>\n",
       "    </tr>\n",
       "    <tr>\n",
       "      <th>928</th>\n",
       "      <td>魏詩</td>\n",
       "      <td>卷六</td>\n",
       "      <td>陳思王曹植一</td>\n",
       "      <td>樂府</td>\n",
       "      <td>薤露行(P.422)</td>\n",
       "      <td>None</td>\n",
       "    </tr>\n",
       "    <tr>\n",
       "      <th>929</th>\n",
       "      <td>魏詩</td>\n",
       "      <td>卷六</td>\n",
       "      <td>陳思王曹植一</td>\n",
       "      <td>樂府</td>\n",
       "      <td>惟漢行(P.422)</td>\n",
       "      <td>None</td>\n",
       "    </tr>\n",
       "    <tr>\n",
       "      <th>...</th>\n",
       "      <td>...</td>\n",
       "      <td>...</td>\n",
       "      <td>...</td>\n",
       "      <td>...</td>\n",
       "      <td>...</td>\n",
       "      <td>...</td>\n",
       "    </tr>\n",
       "    <tr>\n",
       "      <th>1070</th>\n",
       "      <td>魏詩</td>\n",
       "      <td>卷十</td>\n",
       "      <td>阮籍(P.493)</td>\n",
       "      <td>None</td>\n",
       "      <td>None</td>\n",
       "      <td>None</td>\n",
       "    </tr>\n",
       "    <tr>\n",
       "      <th>1071</th>\n",
       "      <td>魏詩</td>\n",
       "      <td>卷十</td>\n",
       "      <td>阮籍</td>\n",
       "      <td>詠懷詩十三首(P.493)</td>\n",
       "      <td>None</td>\n",
       "      <td>None</td>\n",
       "    </tr>\n",
       "    <tr>\n",
       "      <th>1072</th>\n",
       "      <td>魏詩</td>\n",
       "      <td>卷十</td>\n",
       "      <td>阮籍</td>\n",
       "      <td>詠懷詩八十二首(P.496)</td>\n",
       "      <td>None</td>\n",
       "      <td>None</td>\n",
       "    </tr>\n",
       "    <tr>\n",
       "      <th>1073</th>\n",
       "      <td>魏詩</td>\n",
       "      <td>卷十</td>\n",
       "      <td>阮籍</td>\n",
       "      <td>歌二首</td>\n",
       "      <td>采薪者歌(P.510)</td>\n",
       "      <td>None</td>\n",
       "    </tr>\n",
       "    <tr>\n",
       "      <th>1074</th>\n",
       "      <td>魏詩</td>\n",
       "      <td>卷十</td>\n",
       "      <td>阮籍</td>\n",
       "      <td>歌二首</td>\n",
       "      <td>大人先生歌(P.511)</td>\n",
       "      <td>None</td>\n",
       "    </tr>\n",
       "    <tr>\n",
       "      <th>1075</th>\n",
       "      <td>魏詩</td>\n",
       "      <td>卷十</td>\n",
       "      <td>阮籍</td>\n",
       "      <td>又大人先生歌(P.511)</td>\n",
       "      <td>None</td>\n",
       "      <td>None</td>\n",
       "    </tr>\n",
       "    <tr>\n",
       "      <th>1076</th>\n",
       "      <td>魏詩</td>\n",
       "      <td>卷十</td>\n",
       "      <td>仙道</td>\n",
       "      <td>成公智瓊贈弦超(P.511)</td>\n",
       "      <td>None</td>\n",
       "      <td>None</td>\n",
       "    </tr>\n",
       "    <tr>\n",
       "      <th>1077</th>\n",
       "      <td>魏詩</td>\n",
       "      <td>卷十一</td>\n",
       "      <td>雜歌謠辭　諺語附</td>\n",
       "      <td>鄴人金鳳舊歌(P.513)</td>\n",
       "      <td>None</td>\n",
       "      <td>None</td>\n",
       "    </tr>\n",
       "    <tr>\n",
       "      <th>1078</th>\n",
       "      <td>魏詩</td>\n",
       "      <td>卷十一</td>\n",
       "      <td>雜歌謠辭　諺語附</td>\n",
       "      <td>徐幹引古人歌(P.513)</td>\n",
       "      <td>None</td>\n",
       "      <td>None</td>\n",
       "    </tr>\n",
       "    <tr>\n",
       "      <th>1079</th>\n",
       "      <td>魏詩</td>\n",
       "      <td>卷十一</td>\n",
       "      <td>雜歌謠辭　諺語附</td>\n",
       "      <td>徐州為王祥歌(P.513)</td>\n",
       "      <td>None</td>\n",
       "      <td>None</td>\n",
       "    </tr>\n",
       "    <tr>\n",
       "      <th>1080</th>\n",
       "      <td>魏詩</td>\n",
       "      <td>卷十一</td>\n",
       "      <td>雜歌謠辭　諺語附</td>\n",
       "      <td>滎陽令歌(P.514)</td>\n",
       "      <td>None</td>\n",
       "      <td>None</td>\n",
       "    </tr>\n",
       "    <tr>\n",
       "      <th>1081</th>\n",
       "      <td>魏詩</td>\n",
       "      <td>卷十一</td>\n",
       "      <td>雜歌謠辭　諺語附</td>\n",
       "      <td>襄陽民為胡烈歌(P.514)</td>\n",
       "      <td>None</td>\n",
       "      <td>None</td>\n",
       "    </tr>\n",
       "    <tr>\n",
       "      <th>1082</th>\n",
       "      <td>魏詩</td>\n",
       "      <td>卷十一</td>\n",
       "      <td>雜歌謠辭　諺語附</td>\n",
       "      <td>京兆民為李莊歌(P.515)</td>\n",
       "      <td>None</td>\n",
       "      <td>None</td>\n",
       "    </tr>\n",
       "    <tr>\n",
       "      <th>1083</th>\n",
       "      <td>魏詩</td>\n",
       "      <td>卷十一</td>\n",
       "      <td>雜歌謠辭　諺語附</td>\n",
       "      <td>行者歌(P.515)</td>\n",
       "      <td>None</td>\n",
       "      <td>None</td>\n",
       "    </tr>\n",
       "    <tr>\n",
       "      <th>1084</th>\n",
       "      <td>魏詩</td>\n",
       "      <td>卷十一</td>\n",
       "      <td>雜歌謠辭　諺語附</td>\n",
       "      <td>太和中京師歌(P.515)</td>\n",
       "      <td>None</td>\n",
       "      <td>None</td>\n",
       "    </tr>\n",
       "    <tr>\n",
       "      <th>1085</th>\n",
       "      <td>魏詩</td>\n",
       "      <td>卷十一</td>\n",
       "      <td>雜歌謠辭　諺語附</td>\n",
       "      <td>明帝時宮人謠(P.516)</td>\n",
       "      <td>None</td>\n",
       "      <td>None</td>\n",
       "    </tr>\n",
       "    <tr>\n",
       "      <th>1086</th>\n",
       "      <td>魏詩</td>\n",
       "      <td>卷十一</td>\n",
       "      <td>雜歌謠辭　諺語附</td>\n",
       "      <td>明帝景初中童謠(P.516)</td>\n",
       "      <td>None</td>\n",
       "      <td>None</td>\n",
       "    </tr>\n",
       "    <tr>\n",
       "      <th>1087</th>\n",
       "      <td>魏詩</td>\n",
       "      <td>卷十一</td>\n",
       "      <td>雜歌謠辭　諺語附</td>\n",
       "      <td>正始中時人謠(P.516)</td>\n",
       "      <td>None</td>\n",
       "      <td>None</td>\n",
       "    </tr>\n",
       "    <tr>\n",
       "      <th>1088</th>\n",
       "      <td>魏詩</td>\n",
       "      <td>卷十一</td>\n",
       "      <td>雜歌謠辭　諺語附</td>\n",
       "      <td>嘉平中謠(P.516)</td>\n",
       "      <td>None</td>\n",
       "      <td>None</td>\n",
       "    </tr>\n",
       "    <tr>\n",
       "      <th>1089</th>\n",
       "      <td>魏詩</td>\n",
       "      <td>卷十一</td>\n",
       "      <td>雜歌謠辭　諺語附</td>\n",
       "      <td>蔣濟為護軍時謠言(P.517)</td>\n",
       "      <td>None</td>\n",
       "      <td>None</td>\n",
       "    </tr>\n",
       "    <tr>\n",
       "      <th>1090</th>\n",
       "      <td>魏詩</td>\n",
       "      <td>卷十一</td>\n",
       "      <td>雜歌謠辭　諺語附</td>\n",
       "      <td>曹操引諺(P.517)</td>\n",
       "      <td>None</td>\n",
       "      <td>None</td>\n",
       "    </tr>\n",
       "    <tr>\n",
       "      <th>1091</th>\n",
       "      <td>魏詩</td>\n",
       "      <td>卷十一</td>\n",
       "      <td>雜歌謠辭　諺語附</td>\n",
       "      <td>曹操引里諺(P.517)</td>\n",
       "      <td>None</td>\n",
       "      <td>None</td>\n",
       "    </tr>\n",
       "    <tr>\n",
       "      <th>1092</th>\n",
       "      <td>魏詩</td>\n",
       "      <td>卷十一</td>\n",
       "      <td>雜歌謠辭　諺語附</td>\n",
       "      <td>曹丕引里語(P.517)</td>\n",
       "      <td>None</td>\n",
       "      <td>None</td>\n",
       "    </tr>\n",
       "    <tr>\n",
       "      <th>1093</th>\n",
       "      <td>魏詩</td>\n",
       "      <td>卷十一</td>\n",
       "      <td>雜歌謠辭　諺語附</td>\n",
       "      <td>曹丕引里語(P.518)</td>\n",
       "      <td>None</td>\n",
       "      <td>None</td>\n",
       "    </tr>\n",
       "    <tr>\n",
       "      <th>1094</th>\n",
       "      <td>魏詩</td>\n",
       "      <td>卷十一</td>\n",
       "      <td>雜歌謠辭　諺語附</td>\n",
       "      <td>曹植引諺(P.518)</td>\n",
       "      <td>None</td>\n",
       "      <td>None</td>\n",
       "    </tr>\n",
       "    <tr>\n",
       "      <th>1095</th>\n",
       "      <td>魏詩</td>\n",
       "      <td>卷十一</td>\n",
       "      <td>雜歌謠辭　諺語附</td>\n",
       "      <td>徐幹引古語(P.518)</td>\n",
       "      <td>None</td>\n",
       "      <td>None</td>\n",
       "    </tr>\n",
       "    <tr>\n",
       "      <th>1096</th>\n",
       "      <td>魏詩</td>\n",
       "      <td>卷十一</td>\n",
       "      <td>雜歌謠辭　諺語附</td>\n",
       "      <td>陳琳引諺(P.518)</td>\n",
       "      <td>None</td>\n",
       "      <td>None</td>\n",
       "    </tr>\n",
       "    <tr>\n",
       "      <th>1097</th>\n",
       "      <td>魏詩</td>\n",
       "      <td>卷十一</td>\n",
       "      <td>雜歌謠辭　諺語附</td>\n",
       "      <td>王昶引諺(P.519)</td>\n",
       "      <td>None</td>\n",
       "      <td>None</td>\n",
       "    </tr>\n",
       "    <tr>\n",
       "      <th>1098</th>\n",
       "      <td>魏詩</td>\n",
       "      <td>卷十一</td>\n",
       "      <td>雜歌謠辭　諺語附</td>\n",
       "      <td>王昶引語(P.519)</td>\n",
       "      <td>None</td>\n",
       "      <td>None</td>\n",
       "    </tr>\n",
       "    <tr>\n",
       "      <th>1099</th>\n",
       "      <td>魏詩</td>\n",
       "      <td>卷十一</td>\n",
       "      <td>雜歌謠辭　諺語附</td>\n",
       "      <td>魚豢引諺(P.519)</td>\n",
       "      <td>None</td>\n",
       "      <td>None</td>\n",
       "    </tr>\n",
       "  </tbody>\n",
       "</table>\n",
       "<p>200 rows × 6 columns</p>\n",
       "</div>"
      ],
      "text/plain": [
       "       0    1              2                3              4     5\n",
       "900   魏詩   卷五      吴質(P.412)             None           None  None\n",
       "901   魏詩   卷五             吴質       思慕詩(P.412)           None  None\n",
       "902   魏詩   卷五      麋元(P.412)             None           None  None\n",
       "903   魏詩   卷五             麋元         詩(P.412)           None  None\n",
       "904   魏詩   卷五   魏明帝曹叡(P.413)             None           None  None\n",
       "905   魏詩   卷五          魏明帝曹叡               樂府     短歌行(P.413)  None\n",
       "906   魏詩   卷五          魏明帝曹叡               樂府     善哉行(P.413)  None\n",
       "907   魏詩   卷五          魏明帝曹叡               樂府    同前四解(P.414)  None\n",
       "908   魏詩   卷五          魏明帝曹叡               樂府   步出夏門行(P.414)  None\n",
       "909   魏詩   卷五          魏明帝曹叡               樂府    月重輪行(P.415)  None\n",
       "910   魏詩   卷五          魏明帝曹叡               樂府     長歌行(P.415)  None\n",
       "911   魏詩   卷五          魏明帝曹叡               樂府     苦寒行(P.416)  None\n",
       "912   魏詩   卷五          魏明帝曹叡               樂府     櫂歌行(P.416)  None\n",
       "913   魏詩   卷五          魏明帝曹叡               樂府     種瓜篇(P.416)  None\n",
       "914   魏詩   卷五          魏明帝曹叡               樂府     燕歌行(P.417)  None\n",
       "915   魏詩   卷五          魏明帝曹叡               樂府     猛虎行(P.417)  None\n",
       "916   魏詩   卷五          魏明帝曹叡               樂府     堂上行(P.417)  None\n",
       "917   魏詩   卷五          魏明帝曹叡               樂府     清調歌(P.418)  None\n",
       "918   魏詩   卷五          魏明帝曹叡               樂府  自惜身薄祜行(P.418)  None\n",
       "919   魏詩   卷五          魏明帝曹叡               樂府   野田黃雀行(P.418)  None\n",
       "920   魏詩   卷五          魏明帝曹叡               樂府     豫章行(P.418)  None\n",
       "921   魏詩   卷五          魏明帝曹叡               樂府     樂府詩(P.418)  None\n",
       "922   魏詩   卷五      杜摯(P.419)             None           None  None\n",
       "923   魏詩   卷五             杜摯     贈毌丘儉詩(P.419)           None  None\n",
       "924   魏詩   卷五             杜摯    贈毌丘荊州詩(P.420)           None  None\n",
       "925   魏詩   卷六  陳思王曹植一(P.421)             None           None  None\n",
       "926   魏詩   卷六         陳思王曹植一               樂府   丹霞蔽日行(P.421)  None\n",
       "927   魏詩   卷六         陳思王曹植一               樂府     飛龍篇(P.421)  None\n",
       "928   魏詩   卷六         陳思王曹植一               樂府     薤露行(P.422)  None\n",
       "929   魏詩   卷六         陳思王曹植一               樂府     惟漢行(P.422)  None\n",
       "...   ..  ...            ...              ...            ...   ...\n",
       "1070  魏詩   卷十      阮籍(P.493)             None           None  None\n",
       "1071  魏詩   卷十             阮籍    詠懷詩十三首(P.493)           None  None\n",
       "1072  魏詩   卷十             阮籍   詠懷詩八十二首(P.496)           None  None\n",
       "1073  魏詩   卷十             阮籍              歌二首    采薪者歌(P.510)  None\n",
       "1074  魏詩   卷十             阮籍              歌二首   大人先生歌(P.511)  None\n",
       "1075  魏詩   卷十             阮籍    又大人先生歌(P.511)           None  None\n",
       "1076  魏詩   卷十             仙道   成公智瓊贈弦超(P.511)           None  None\n",
       "1077  魏詩  卷十一       雜歌謠辭　諺語附    鄴人金鳳舊歌(P.513)           None  None\n",
       "1078  魏詩  卷十一       雜歌謠辭　諺語附    徐幹引古人歌(P.513)           None  None\n",
       "1079  魏詩  卷十一       雜歌謠辭　諺語附    徐州為王祥歌(P.513)           None  None\n",
       "1080  魏詩  卷十一       雜歌謠辭　諺語附      滎陽令歌(P.514)           None  None\n",
       "1081  魏詩  卷十一       雜歌謠辭　諺語附   襄陽民為胡烈歌(P.514)           None  None\n",
       "1082  魏詩  卷十一       雜歌謠辭　諺語附   京兆民為李莊歌(P.515)           None  None\n",
       "1083  魏詩  卷十一       雜歌謠辭　諺語附       行者歌(P.515)           None  None\n",
       "1084  魏詩  卷十一       雜歌謠辭　諺語附    太和中京師歌(P.515)           None  None\n",
       "1085  魏詩  卷十一       雜歌謠辭　諺語附    明帝時宮人謠(P.516)           None  None\n",
       "1086  魏詩  卷十一       雜歌謠辭　諺語附   明帝景初中童謠(P.516)           None  None\n",
       "1087  魏詩  卷十一       雜歌謠辭　諺語附    正始中時人謠(P.516)           None  None\n",
       "1088  魏詩  卷十一       雜歌謠辭　諺語附      嘉平中謠(P.516)           None  None\n",
       "1089  魏詩  卷十一       雜歌謠辭　諺語附  蔣濟為護軍時謠言(P.517)           None  None\n",
       "1090  魏詩  卷十一       雜歌謠辭　諺語附      曹操引諺(P.517)           None  None\n",
       "1091  魏詩  卷十一       雜歌謠辭　諺語附     曹操引里諺(P.517)           None  None\n",
       "1092  魏詩  卷十一       雜歌謠辭　諺語附     曹丕引里語(P.517)           None  None\n",
       "1093  魏詩  卷十一       雜歌謠辭　諺語附     曹丕引里語(P.518)           None  None\n",
       "1094  魏詩  卷十一       雜歌謠辭　諺語附      曹植引諺(P.518)           None  None\n",
       "1095  魏詩  卷十一       雜歌謠辭　諺語附     徐幹引古語(P.518)           None  None\n",
       "1096  魏詩  卷十一       雜歌謠辭　諺語附      陳琳引諺(P.518)           None  None\n",
       "1097  魏詩  卷十一       雜歌謠辭　諺語附      王昶引諺(P.519)           None  None\n",
       "1098  魏詩  卷十一       雜歌謠辭　諺語附      王昶引語(P.519)           None  None\n",
       "1099  魏詩  卷十一       雜歌謠辭　諺語附      魚豢引諺(P.519)           None  None\n",
       "\n",
       "[200 rows x 6 columns]"
      ]
     },
     "execution_count": 15,
     "metadata": {},
     "output_type": "execute_result"
    }
   ],
   "source": [
    "RoughFrame[900:1100]\n",
    "#from this we can hypothesize: if index-3 is \"None\", then that item is an author listing.\n",
    "# We could exclude those."
   ]
  },
  {
   "cell_type": "code",
   "execution_count": 16,
   "metadata": {},
   "outputs": [],
   "source": [
    "#a simple function to return list of works by an author.\n",
    "def findauthorworks(author=\"\"):\n",
    "    for item in MetaList2:\n",
    "        if author in item[2]:\n",
    "            print(item)"
   ]
  },
  {
   "cell_type": "code",
   "execution_count": null,
   "metadata": {},
   "outputs": [],
   "source": [
    "findauthorworks(author=\"曹植\")"
   ]
  },
  {
   "cell_type": "code",
   "execution_count": 18,
   "metadata": {},
   "outputs": [
    {
     "name": "stdout",
     "output_type": "stream",
     "text": [
      "Total discrete authors/labels: 1545\n"
     ]
    }
   ],
   "source": [
    "#Count total number of authors (using `set` type)\n",
    "#TODO: discriminate between authors and labels\n",
    "\n",
    "AuthorList=[]\n",
    "for item in MetaList2:\n",
    "    AuthorList.append(item[2])\n",
    "\n",
    "AuthorSet = set(AuthorList)\n",
    "print(\"Total discrete authors/labels: {}\".format(len(AuthorSet)))"
   ]
  },
  {
   "cell_type": "code",
   "execution_count": null,
   "metadata": {},
   "outputs": [],
   "source": [
    "#using a counter to get the indexes\n",
    "counter = -1\n",
    "for item in MetaList2:\n",
    "    counter +=1\n",
    "    if \"附\" in item[2]:\n",
    "        print(counter, item)"
   ]
  },
  {
   "cell_type": "code",
   "execution_count": null,
   "metadata": {},
   "outputs": [],
   "source": [
    "PTPoetry.flat_bodies[1148:1159]"
   ]
  },
  {
   "cell_type": "markdown",
   "metadata": {},
   "source": [
    "## OK, the metadata will take some more organization.  We want to look at the texts."
   ]
  },
  {
   "cell_type": "code",
   "execution_count": null,
   "metadata": {},
   "outputs": [],
   "source": [
    "# trying to adapt a method from the `Song shu` subclass, but that is confusing...\n",
    "# first have a look:\n",
    "PTPoetry.flat_bodies[10]"
   ]
  },
  {
   "cell_type": "code",
   "execution_count": 22,
   "metadata": {},
   "outputs": [],
   "source": [
    "TitlePoem = []\n",
    "for poem in PTPoetry.flat_bodies:\n",
    "    title = poem.find('h3')\n",
    "    text = poem.find('div', attrs={'style': \"text-indent:0em;padding-left:0em;\"})\n",
    "    TitlePoem.append((title, text))\n",
    "#    PTPoetry.flat_passages.append((title, text))\n",
    "    "
   ]
  },
  {
   "cell_type": "markdown",
   "metadata": {},
   "source": [
    "Problems:\n",
    "\n",
    "- flat_passages doesn't fill in correctly.\n",
    "- TitlePoem list does, but my method is including the notes, and I don't want that.\n",
    "\n",
    ":point_right: My BS skills are not up to snuff"
   ]
  },
  {
   "cell_type": "code",
   "execution_count": 120,
   "metadata": {},
   "outputs": [
    {
     "data": {
      "text/plain": [
       "<div style=\"text-indent:0em;padding-left:0em;\">力拔山兮氣蓋世。時不利兮騅不逝。騅不逝兮可奈何。虞兮虞兮奈若何。<a href=\"#\" onclick=\"q00.style.display=q00.style.display=='none'?'':'none'\" title=\"夾註\"><img align=\"absmiddle\" border=\"0\" src=\"/ihp/qn.gif\"/></a><span id=\"q00\" style=\"display:none;width:;height:;color:green;font-size:13px\">○漢書項羽傳。史記項羽本紀。御覽八十七、五百七十。樂府詩集五十八作力拔山操。文選補遺三十五作垓下帳中歌。詩紀二作垓下歌。○逯案。文選補遺與詩紀標題各異。然皆涉杜撰。今從漢書只曰歌。樂府詩集引琴集云。力拔山操。項羽所作也。則此歌曰操。亦後起之名。</span> </div>"
      ]
     },
     "execution_count": 120,
     "metadata": {},
     "output_type": "execute_result"
    }
   ],
   "source": [
    "TitlePoem[203][1]"
   ]
  },
  {
   "cell_type": "markdown",
   "metadata": {},
   "source": [
    "## failed tries to strip down to titles and texts..."
   ]
  },
  {
   "cell_type": "code",
   "execution_count": 126,
   "metadata": {},
   "outputs": [
    {
     "name": "stderr",
     "output_type": "stream",
     "text": [
      "INFO:root:Remove 標註, page number, and page dividers from the tree structure.\n",
      "INFO:root:Remove the new lines added by the page dividers, connect the paragraphs before and after the new lines.\n"
     ]
    }
   ],
   "source": [
    "PTPoetry.strip_all_irrelevant_tags()"
   ]
  },
  {
   "cell_type": "code",
   "execution_count": 137,
   "metadata": {},
   "outputs": [],
   "source": [
    "PTPoetry.strip_tag('span', {'id':'q00'})"
   ]
  },
  {
   "cell_type": "code",
   "execution_count": 77,
   "metadata": {},
   "outputs": [],
   "source": [
    "#adapting from `Song shu` subclass\n",
    "\n",
    "for body,path in zip(PTPoetry.flat_bodies, PTPoetry.paths):\n",
    "    texts  = body.find_all('div', attrs={'style': \"text-indent:0em;padding-left:0em;\"})\n",
    "    PTPoetry.flat_passages.append(texts)"
   ]
  },
  {
   "cell_type": "code",
   "execution_count": 78,
   "metadata": {},
   "outputs": [
    {
     "data": {
      "text/plain": [
       "[<div style=\"text-indent:0em;padding-left:3em;\"> <font size=\"-2\">史記曰。箕子朝周。過故殷墟。感宮室毀壞生禾黍。箕子傷之。欲哭則不可。欲泣為其近婦人。乃作麥秀之詩以歌之。其詩曰。</font> </div>,\n",
       " <div style=\"text-indent:0em;padding-left:0em;\">麥秀漸漸<a href=\"#\" onclick=\"q00.style.display=q00.style.display=='none'?'':'none'\" title=\"夾註\"><img align=\"absmiddle\" border=\"0\" src=\"/ihp/qn.gif\"/></a><span id=\"q00\" style=\"display:none;width:;height:;color:green;font-size:13px\">文選注不重漸字。尚書大傳作蔪蔪。</span>兮禾黍油油。<a href=\"#\" onclick=\"q01.style.display=q01.style.display=='none'?'':'none'\" title=\"夾註\"><img align=\"absmiddle\" border=\"0\" src=\"/ihp/qn.gif\"/></a><span id=\"q01\" style=\"display:none;width:;height:;color:green;font-size:13px\">文選注作黍米目黽目黽。</span>彼狡童<a href=\"#\" onclick=\"q02.style.display=q02.style.display=='none'?'':'none'\" title=\"夾註\"><img align=\"absmiddle\" border=\"0\" src=\"/ihp/qn.gif\"/></a><span id=\"q02\" style=\"display:none;width:;height:;color:green;font-size:13px\">史記作僮。文選注同。</span>兮不與我好兮。<a href=\"#\" onclick=\"q03.style.display=q03.style.display=='none'?'':'none'\" title=\"夾註\"><img align=\"absmiddle\" border=\"0\" src=\"/ihp/qn.gif\"/></a><span id=\"q03\" style=\"display:none;width:;height:;color:green;font-size:13px\">尚書大傳作不我好仇。御覽、樂府同。文選注作不我好。○史記宋世家。尚書大傳。文選十六思舊賦注引尚書大傳。御覽五百七十引史記。樂府詩集五十七作傷殷操。詩紀前集一。</span> </div>]"
      ]
     },
     "execution_count": 78,
     "metadata": {},
     "output_type": "execute_result"
    }
   ],
   "source": [
    "PTPoetry.flat_passages[10]"
   ]
  },
  {
   "cell_type": "code",
   "execution_count": 77,
   "metadata": {},
   "outputs": [
    {
     "data": {
      "text/plain": [
       "       type       variable                 method current_length\n",
       "0      meta      flat_meta      self.extract_meta              0\n",
       "1      path          paths     self.extract_paths           7767\n",
       "2  passages  flat_passages  self.extract_passages              0"
      ]
     },
     "execution_count": 77,
     "metadata": {},
     "output_type": "execute_result"
    }
   ],
   "source": [
    "PTPoetry"
   ]
  },
  {
   "cell_type": "code",
   "execution_count": null,
   "metadata": {},
   "outputs": [],
   "source": []
  }
 ],
 "metadata": {
  "kernel_info": {
   "name": "python3"
  },
  "kernelspec": {
   "display_name": "Python 3",
   "language": "python",
   "name": "python3"
  },
  "language_info": {
   "codemirror_mode": {
    "name": "ipython",
    "version": 3
   },
   "file_extension": ".py",
   "mimetype": "text/x-python",
   "name": "python",
   "nbconvert_exporter": "python",
   "pygments_lexer": "ipython3",
   "version": "3.6.6"
  },
  "nteract": {
   "version": "0.12.3"
  }
 },
 "nbformat": 4,
 "nbformat_minor": 2
}
