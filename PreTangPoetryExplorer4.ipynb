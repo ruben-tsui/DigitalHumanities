{
 "cells": [
  {
   "cell_type": "markdown",
   "metadata": {},
   "source": [
    "### PreTangPoetry explorer"
   ]
  },
  {
   "cell_type": "code",
   "execution_count": 1,
   "metadata": {},
   "outputs": [],
   "source": [
    "# import PTPoetry class (derived from the Book class)\n",
    "from PTPoetry import PTPoetry\n",
    "from bs4 import BeautifulSoup\n",
    "import bs4\n",
    "import re, sys"
   ]
  },
  {
   "cell_type": "code",
   "execution_count": 2,
   "metadata": {},
   "outputs": [],
   "source": [
    "MyBooks = PTPoetry(creator=\"RGT\", date=\"2018-11-19\")"
   ]
  },
  {
   "cell_type": "code",
   "execution_count": 3,
   "metadata": {},
   "outputs": [
    {
     "name": "stderr",
     "output_type": "stream",
     "text": [
      "100%|████████████████████████████████████████████████████████████████████████| 2000/2000 [00:03<00:00, 588.42it/s]\n"
     ]
    },
    {
     "name": "stdout",
     "output_type": "stream",
     "text": [
      "Wall time: 3.47 s\n"
     ]
    }
   ],
   "source": [
    "%%time\n",
    "MyBooks.load_htmls(path=\"../Four Hanji texts/PreTangPoetry/\", limit=2000)"
   ]
  },
  {
   "cell_type": "code",
   "execution_count": 4,
   "metadata": {},
   "outputs": [
    {
     "data": {
      "text/plain": [
       "'集／總集／先秦漢魏晉南北朝詩／漢詩／卷十／樂府古辭二／雜曲歌辭／古歌(P.297)'"
      ]
     },
     "execution_count": 4,
     "metadata": {},
     "output_type": "execute_result"
    }
   ],
   "source": [
    "# Randomly checks a bookmark\n",
    "idx = 701 #1451\n",
    "MyBooks.flat_bodies[idx].body.a.text"
   ]
  },
  {
   "cell_type": "code",
   "execution_count": 5,
   "metadata": {},
   "outputs": [
    {
     "name": "stderr",
     "output_type": "stream",
     "text": [
      "100%|████████████████████████████████████████████████████████████████████████| 2000/2000 [00:03<00:00, 580.94it/s]\n",
      "INFO:root:Remove 標註, page number, and page dividers from the tree structure.\n",
      "100%|████████████████████████████████████████████████████████████████████████| 2000/2000 [00:02<00:00, 959.50it/s]\n",
      "INFO:root:Remove the new lines added by the page dividers, connect the paragraphs before and after the new lines.\n"
     ]
    },
    {
     "name": "stdout",
     "output_type": "stream",
     "text": [
      "Wall time: 6.8 s\n"
     ]
    }
   ],
   "source": [
    "%%time\n",
    "MyBooks.strip_all_irrelevant_tags()"
   ]
  },
  {
   "cell_type": "markdown",
   "metadata": {},
   "source": [
    "### Preliminary exploration\n",
    "##### We want to find out how many nodes (children) there are under each flat_bodies[i]"
   ]
  },
  {
   "cell_type": "code",
   "execution_count": 6,
   "metadata": {},
   "outputs": [
    {
     "name": "stdout",
     "output_type": "stream",
     "text": [
      "2000\n",
      "Wall time: 290 ms\n"
     ]
    }
   ],
   "source": [
    "%%time\n",
    "# This block asserts that each of the flat_bodies nodes has exactly 5 children and\n",
    "# that the children at index positions 0, 2, 4 are all newlines ('\\n') \n",
    "cnt = 0\n",
    "for bs in MyBooks.flat_bodies:\n",
    "    assert len(list(bs.html.body.children)) == 5\n",
    "    assert list(bs.html.body.children)[0] == '\\n'\n",
    "    assert list(bs.html.body.children)[2] == '\\n'\n",
    "    assert list(bs.html.body.children)[4] == '\\n'\n",
    "    cnt += 1\n",
    "print(cnt)"
   ]
  },
  {
   "cell_type": "markdown",
   "metadata": {},
   "source": [
    "### Now extract paths"
   ]
  },
  {
   "cell_type": "code",
   "execution_count": 7,
   "metadata": {},
   "outputs": [
    {
     "name": "stderr",
     "output_type": "stream",
     "text": [
      "100%|██████████████████████████████████████████████████████████████████████| 2000/2000 [00:00<00:00, 14424.67it/s]\n"
     ]
    },
    {
     "name": "stdout",
     "output_type": "stream",
     "text": [
      "Wall time: 144 ms\n"
     ]
    }
   ],
   "source": [
    "%%time\n",
    "MyBooks.extract_paths()"
   ]
  },
  {
   "cell_type": "code",
   "execution_count": 18,
   "metadata": {},
   "outputs": [
    {
     "data": {
      "text/plain": [
       "'集／總集／先秦漢魏晉南北朝詩／魏詩／卷十／阮籍／詠懷詩八十二首(P.496)'"
      ]
     },
     "execution_count": 18,
     "metadata": {},
     "output_type": "execute_result"
    }
   ],
   "source": [
    "# check some random page\n",
    "idx = 1072\n",
    "MyBooks.paths[idx]"
   ]
  },
  {
   "cell_type": "code",
   "execution_count": 19,
   "metadata": {},
   "outputs": [
    {
     "data": {
      "text/plain": [
       "'詠懷詩八十二首'"
      ]
     },
     "execution_count": 19,
     "metadata": {},
     "output_type": "execute_result"
    }
   ],
   "source": [
    "MyBooks.title_candidates[idx]"
   ]
  },
  {
   "cell_type": "markdown",
   "metadata": {},
   "source": [
    "### Next we explore the children of html.body.span"
   ]
  },
  {
   "cell_type": "code",
   "execution_count": null,
   "metadata": {},
   "outputs": [],
   "source": [
    "%%time\n",
    "# This block of code finds out how many children each of the main (<span>) nodes\n",
    "# has and what type(s) of nodes its children are\n",
    "cnt = 0\n",
    "counts = {}\n",
    "for i, bs in enumerate(MyBooks.flat_bodies):\n",
    "    n = len(list(bs.html.body.span))\n",
    "    if n in counts:\n",
    "        counts[n].append(i)\n",
    "    else:\n",
    "        counts[n] = [i]\n",
    "    cnt += 1\n",
    "print(cnt)"
   ]
  },
  {
   "cell_type": "code",
   "execution_count": 21,
   "metadata": {},
   "outputs": [
    {
     "data": {
      "text/plain": [
       "dict_keys([])"
      ]
     },
     "execution_count": 21,
     "metadata": {},
     "output_type": "execute_result"
    }
   ],
   "source": [
    "counts.keys()"
   ]
  },
  {
   "cell_type": "code",
   "execution_count": null,
   "metadata": {},
   "outputs": [],
   "source": [
    "# what are the indexes that contain 'cnt' nodes\n",
    "cnt = 9\n",
    "', '.join([str(i) for i in counts[cnt]])"
   ]
  },
  {
   "cell_type": "code",
   "execution_count": 14,
   "metadata": {},
   "outputs": [
    {
     "name": "stderr",
     "output_type": "stream",
     "text": [
      "100%|███████████████████████████████████████████████████████████████████████| 2000/2000 [00:00<00:00, 7353.16it/s]\n"
     ]
    }
   ],
   "source": [
    "# clean children of html.body.span (strips empty nodes)\n",
    "MyBooks.clean_children()"
   ]
  },
  {
   "cell_type": "code",
   "execution_count": 23,
   "metadata": {},
   "outputs": [
    {
     "data": {
      "text/plain": [
       "1072"
      ]
     },
     "execution_count": 23,
     "metadata": {},
     "output_type": "execute_result"
    }
   ],
   "source": [
    "idx"
   ]
  },
  {
   "cell_type": "code",
   "execution_count": 24,
   "metadata": {},
   "outputs": [
    {
     "name": "stdout",
     "output_type": "stream",
     "text": [
      "b\n",
      "div\n"
     ]
    },
    {
     "data": {
      "text/plain": [
       "['\\u3000\\u3000詠懷詩八十二首']"
      ]
     },
     "execution_count": 24,
     "metadata": {},
     "output_type": "execute_result"
    }
   ],
   "source": [
    "#idx = 694\n",
    "titles = []\n",
    "poem_texts = []\n",
    "for c in MyBooks.flat_bodies[idx]:\n",
    "    print(c.name)\n",
    "    pass\n",
    "    if c.name in ('h3', 'b'):\n",
    "        titles.append(c.text)\n",
    "    elif c.name == 'div':\n",
    "        poem_texts.append(c.text)\n",
    "poem_texts\n",
    "MyBooks.flat_bodies[idx]\n",
    "titles"
   ]
  },
  {
   "cell_type": "code",
   "execution_count": 27,
   "metadata": {},
   "outputs": [
    {
     "data": {
      "text/plain": [
       "'集／總集／先秦漢魏晉南北朝詩／魏詩／卷十／阮籍／詠懷詩八十二首(P.496)'"
      ]
     },
     "execution_count": 27,
     "metadata": {},
     "output_type": "execute_result"
    }
   ],
   "source": [
    "MyBooks.title_candidates[idx]\n",
    "MyBooks.paths[idx]"
   ]
  },
  {
   "cell_type": "code",
   "execution_count": 28,
   "metadata": {},
   "outputs": [
    {
     "data": {
      "text/plain": [
       "<span id=\"fontstyle\" style=\"FONT-SIZE: 12pt;letter-spacing:1pt; LINE-HEIGHT: 18pt;width:99%;word-break:break-all\"><b><h3>　　詠懷詩八十二首</h3></b><div style=\"text-indent:0em;padding-left:3em;\"> <font size=\"-2\">詩紀云。阮嗣宗集傳之既久。頗存偽闕。世之較錄者往往肆為補綴。作者之旨。淆亂甚焉。今以諸本參校。其義稍優者為正文。互異者分註於下。其舊有闕文疑字而今本竄益者。廓其傍。俟再考正。</font> 夜中<span id=\"q00\" style=\"display:none;width:;height:;color:green;font-size:13px\">秘府論作中夜。</span>不能寐。<span id=\"q01\" style=\"display:none;width:;height:;color:green;font-size:13px\">初學記或作寢。</span>起坐彈鳴琴。薄帷鑒<span id=\"q02\" style=\"display:none;width:;height:;color:green;font-size:13px\">李善本文選作鑑。同。</span>明月。清風吹我襟。<span id=\"q03\" style=\"display:none;width:;height:;color:green;font-size:13px\">文選作衿。類聚、初學記、御覽、文章正宗同。</span>孤鴻號外野。翔<span id=\"q04\" style=\"display:none;width:;height:;color:green;font-size:13px\">李善本文選作朔。六臣本注云。善作朔字。文章正宗作朔。</span>鳥鳴<span id=\"q05\" style=\"display:none;width:;height:;color:green;font-size:13px\">類聚作歸。</span>北林。徘徊將何見。憂思獨傷心。<span id=\"q06\" style=\"display:none;width:;height:;color:green;font-size:13px\">○本集下。文選二十三。類聚二十六。文章正宗二十九。詩紀十九。又文鏡秘府論南卷引琴、襟、林三韵。初學記一引琴、衿二韵。御覽七百引衿一韵。</span> 二妃遊江濱。逍遙<span id=\"q07\" style=\"display:none;width:;height:;color:green;font-size:13px\">六臣本文選誤作道。</span>順<span id=\"q08\" style=\"display:none;width:;height:;color:green;font-size:13px\">玉臺作從。類聚同。</span>風翔。交甫懷<span id=\"q09\" style=\"display:none;width:;height:;color:green;font-size:13px\">玉臺作解。</span>佩環。<span id=\"q10\" style=\"display:none;width:;height:;color:green;font-size:13px\">文選作環佩。玉臺、類聚同。初學記作玉佩。御覽同。</span>婉孌<span id=\"q11\" style=\"display:none;width:;height:;color:green;font-size:13px\">類聚作娩。</span>有芬芳。猗<span id=\"q12\" style=\"display:none;width:;height:;color:green;font-size:13px\">類聚作綺。初學記作倚。</span>靡情歡愛。千載<span id=\"q13\" style=\"display:none;width:;height:;color:green;font-size:13px\">類聚作歲。</span>不相忘。傾城迷下蔡。容好<span id=\"q14\" style=\"display:none;width:;height:;color:green;font-size:13px\">類聚作華。</span>結中<span id=\"q15\" style=\"display:none;width:;height:;color:green;font-size:13px\">初學記作衷。</span>腸。感激生憂思。萱<span id=\"q16\" style=\"display:none;width:;height:;color:green;font-size:13px\">李善本文選作諼。玉臺作護。文章正宗同。</span>草樹蘭房。膏<span id=\"q17\" style=\"display:none;width:;height:;color:green;font-size:13px\">玉臺作蘭。</span>沐為誰施。其雨怨朝陽。如何金石<span id=\"q18\" style=\"display:none;width:;height:;color:green;font-size:13px\">玉臺誤作磐。</span>交。一旦更離傷。<span id=\"q19\" style=\"display:none;width:;height:;color:green;font-size:13px\">○本集下。文選二十三。玉臺新詠二。文章正宗二十九。詩紀十九。又類聚十八作魏阮籍詩。引翔、芳、忘、腸、房五韵。初學記十九作阮籍詩。引翔、芳、腸三韵及翔、芳、忘、腸、房五韵。御覽三百八十一引翔、芳二韵。</span> 嘉樹<span id=\"q20\" style=\"display:none;width:;height:;color:green;font-size:13px\">事類賦作木。</span>下成蹊。東園桃與李。秋風吹飛藿。零落從此始。繁華有憔悴。堂上生荊杞。驅馬舍之去。去上西山趾。一身不自保。何況戀妻子。凝霜被野草。歲暮亦云已。<span id=\"q21\" style=\"display:none;width:;height:;color:green;font-size:13px\">○本集下。文選二十三。文章正宗二十九。詩紀十九。藝文類聚二十六。又事類賦瓜賦注引李一韵。</span> 天馬出西北。由來從東道。春秋非有託。<span id=\"q22\" style=\"display:none;width:;height:;color:green;font-size:13px\">六臣本文選注云。五臣作訖。</span>富貴焉常保。清露被臯蘭。<span id=\"q23\" style=\"display:none;width:;height:;color:green;font-size:13px\">初學記作蘭皋。</span>凝霜霑野草。朝為媚<span id=\"q24\" style=\"display:none;width:;height:;color:green;font-size:13px\">本集作美。詩紀云。五臣作美。六臣本文選注云。五臣作美。草堂詩箋作美。</span>少年。夕暮成<span id=\"q25\" style=\"display:none;width:;height:;color:green;font-size:13px\">草堂詩箋作為。</span>醜老。自非王子晉。誰能常美好。<span id=\"q26\" style=\"display:none;width:;height:;color:green;font-size:13px\">○本集下。文選二十三。文章正宗二十九。藝文類聚二十六。詩紀十九。又初學記二引草、老二韵。草堂詩箋十四遣興詩注引老一韵。</span> 平生少年時。輕薄好絃歌。西遊咸陽中。趙李相經過。娛樂未終極。白日忽蹉跎。<span id=\"q27\" style=\"display:none;width:;height:;color:green;font-size:13px\">文選作。</span>驅馬復來歸。反顧望三河。黃金百鎰<span id=\"q28\" style=\"display:none;width:;height:;color:green;font-size:13px\">李善本文選作溢。六臣本文選注云。善作溢字。案溢通鑑。</span>盡。資用常苦<span id=\"q29\" style=\"display:none;width:;height:;color:green;font-size:13px\">類聚作若。</span>多。北臨太行道。失路將如何。<span id=\"q30\" style=\"display:none;width:;height:;color:green;font-size:13px\">○本集下。文選二十三。類聚二十六。詩紀十九。</span> 昔聞東陵瓜。近在青門外。連畛<span id=\"q31\" style=\"display:none;width:;height:;color:green;font-size:13px\">李善本文選作軫。文章正宗同。</span>距<span id=\"q32\" style=\"display:none;width:;height:;color:green;font-size:13px\">水經注作拒。御覽作短。</span>阡陌。子母<span id=\"q33\" style=\"display:none;width:;height:;color:green;font-size:13px\">御覽作母子。</span>相鈎<span id=\"q34\" style=\"display:none;width:;height:;color:green;font-size:13px\">李善本文選作拘。類聚、御覽同。水經注作鉤。初學記同。</span>帶。<span id=\"q35\" style=\"display:none;width:;height:;color:green;font-size:13px\">白帖誤作蔕。</span>五色曜朝日。嘉賓四面會。膏火自煎熬。多財為患害。布衣可終身。寵祿豈足賴。<span id=\"q36\" style=\"display:none;width:;height:;color:green;font-size:13px\">○本集下。文選二十三。文章正宗二十九。詩紀十九。又水經注十九引外、帶二韵。類聚八十</span>七作晉阮籍詩。引外、帶、會三韵。初學記二十八作阮籍詩。引外、帶二韵。白帖三十作阮籍瓜詩。引蔕一韵。御覽九百七十八作阮籍詩。引外、帶二韵。\t\t\t\t\t\t炎暑惟茲夏。三旬將欲移。芳樹垂綠葉。青<span id=\"q37\" style=\"display:none;width:;height:;color:green;font-size:13px\">文選作清。</span>雲自逶迤。四時更代謝。日月遞參差。<span id=\"q38\" style=\"display:none;width:;height:;color:green;font-size:13px\">文選作差馳。本集同。又注。一作參差。</span>徘徊空堂上。忉怛莫我知。願覩卒歡好。不見悲別離。<span id=\"q39\" style=\"display:none;width:;height:;color:green;font-size:13px\">○本集下。文選二十三。詩紀十九。</span> 灼灼西隤<span id=\"q40\" style=\"display:none;width:;height:;color:green;font-size:13px\">六臣本文選作頹。注云。善作隤。</span>日。餘光照我衣。廻風吹四壁。寒鳥相因依。周周尚銜羽。蛩蛩亦念飢。如何當路子。磬折忘所歸。豈為夸譽<span id=\"q41\" style=\"display:none;width:;height:;color:green;font-size:13px\">六臣本文選注云。五臣作與字。</span>名。憔悴使心悲。<span id=\"q42\" style=\"display:none;width:;height:;color:green;font-size:13px\">本集云。一作非。</span>寧與燕雀翔。<span id=\"q43\" style=\"display:none;width:;height:;color:green;font-size:13px\">古今黈作辯。</span>不隨黃鵠飛。黃鵠遊四海。中路將安歸。<span id=\"q44\" style=\"display:none;width:;height:;color:green;font-size:13px\">○本集下。文選二十三。文章正宗二十九。詩紀十九。又群書校補古今黈五引飛、歸二韵。</span> 步<span id=\"q45\" style=\"display:none;width:;height:;color:green;font-size:13px\">水經注作朝。</span>出上東門。北<span id=\"q46\" style=\"display:none;width:;height:;color:green;font-size:13px\">水經注作遙。白帖同。</span>望首陽岑。下有采薇士。上有嘉樹林。良辰在何許。凝霜<span id=\"q47\" style=\"display:none;width:;height:;color:green;font-size:13px\">初學記作雪。</span>霑衣襟。寒風振山岡。玄雲起重陰。鳴鴈飛南征。鶗鴂發哀音。素質游<span id=\"q48\" style=\"display:none;width:;height:;color:green;font-size:13px\">本集云。一作繇。六臣本文選作由。</span>商聲。悽愴傷我心。<span id=\"q49\" style=\"display:none;width:;height:;color:green;font-size:13px\">○本集下。文選二十三。類聚二十六。文章正宗二十九。詩紀十九。又水經注十六引岑一韵。初學記三引衿、陰二韵。白帖三作魏阮籍詩。引岑、林二韵。</span> 北里多奇舞。<span id=\"q50\" style=\"display:none;width:;height:;color:green;font-size:13px\">文選注作儛。</span>濮上有微音。輕薄閒游<span id=\"q51\" style=\"display:none;width:;height:;color:green;font-size:13px\">六臣本文選注云。五臣作游閒。</span>子。俯仰乍浮沉。捷徑從狹路。僶俛趨<span id=\"q52\" style=\"display:none;width:;height:;color:green;font-size:13px\">文選作趣。</span>荒淫。焉見王子喬。乘雲翔鄧林。獨有延年術。可以<span id=\"q53\" style=\"display:none;width:;height:;color:green;font-size:13px\">類聚作用。六臣文選注云。五臣作用。詩紀云。五臣作用。</span>慰我<span id=\"q54\" style=\"display:none;width:;height:;color:green;font-size:13px\">本集作吾。</span>心。<span id=\"q55\" style=\"display:none;width:;height:;color:green;font-size:13px\">○本集下。文選二十三。詩紀十九。又類聚二十六引音、沉、林、心四韵。文選五十四辯命論注引一句。</span> 湛湛長江水。上有楓樹林。臯蘭被徑路。青驪逝駸駸。遠望令人悲。春氣<span id=\"q56\" style=\"display:none;width:;height:;color:green;font-size:13px\">本集作風。</span>感我心。三楚多秀士。朝雲進荒淫。朱華振芬芳。高蔡相追尋。一為黃雀哀。淚<span id=\"q57\" style=\"display:none;width:;height:;color:green;font-size:13px\">文選作涕。</span>下誰能禁。<span id=\"q58\" style=\"display:none;width:;height:;color:green;font-size:13px\">○本集下。文選二十三。詩紀十九。</span> 昔日繁華子。安陵與龍陽。夭夭桃李花。<span id=\"q59\" style=\"display:none;width:;height:;color:green;font-size:13px\">類聚作華。</span>灼灼有輝光。悅懌<span id=\"q60\" style=\"display:none;width:;height:;color:green;font-size:13px\">類聚作澤。</span>若九春。磬<span id=\"q61\" style=\"display:none;width:;height:;color:green;font-size:13px\">類聚作罄。</span>折似秋霜。流盻<span id=\"q62\" style=\"display:none;width:;height:;color:green;font-size:13px\">玉臺作眄。類聚同。</span>發姿媚。<span id=\"q63\" style=\"display:none;width:;height:;color:green;font-size:13px\">玉臺作媚姿。</span>言笑吐芬芳。攜手等歡愛。宿昔同衣<span id=\"q64\" style=\"display:none;width:;height:;color:green;font-size:13px\">玉臺作衾。類聚同。</span>裳。願為雙飛鳥。比翼共翺翔。丹青著明誓。永世<span id=\"q65\" style=\"display:none;width:;height:;color:green;font-size:13px\">六臣本文選注云。五臣作千載字。</span>不相忘<span id=\"q66\" style=\"display:none;width:;height:;color:green;font-size:13px\">○本集下。文選二十三。玉臺新詠二。詩紀十九。又類聚三十三作魏阮籍詩。引陽、光、霜、芳、裳五韵。</span> 登高臨四野。北望青山阿。松柏翳岡岑。飛鳥鳴相過。感慨懷辛酸。怨毒常苦多。李公悲東門。蘇子狹三河。求仁自得仁。豈復歎咨嗟。<span id=\"q67\" style=\"display:none;width:;height:;color:green;font-size:13px\">○本集下。文選二十三。詩紀十九。</span> 開秋兆<span id=\"q68\" style=\"display:none;width:;height:;color:green;font-size:13px\">御覽作肇。</span>涼氣。蟋蟀鳴床帷。感物懷殷憂。悄悄<span id=\"q69\" style=\"display:none;width:;height:;color:green;font-size:13px\">御覽作消然。</span>令心悲。多言焉所告。繁辭將訴誰。微風吹羅袂。明月耀清暉。晨雞鳴高樹。命駕起旋歸。<span id=\"q70\" style=\"display:none;width:;height:;color:green;font-size:13px\">○本集下。文選二十三。詩紀十九。又御覽九百四十九作阮籍詩。引帷、悲二韵。</span> 昔年十四五。志尚好詩書。<span id=\"q71\" style=\"display:none;width:;height:;color:green;font-size:13px\">文選作書詩。類聚同。</span>被褐懷珠玉。顏閔相與期。開軒<span id=\"q72\" style=\"display:none;width:;height:;color:green;font-size:13px\">六臣本文選注云。五臣作都字。</span>臨四野。登高望<span id=\"q73\" style=\"display:none;width:;height:;color:green;font-size:13px\">六臣本文選作有。注云。善作望。</span>所思。丘墓蔽山岡。萬代<span id=\"q74\" style=\"display:none;width:;height:;color:green;font-size:13px\">類聚作世。本集云。一作世。</span>同一時。千秋萬<span id=\"q75\" style=\"display:none;width:;height:;color:green;font-size:13px\">類聚作百。六臣本文選注云。五臣作百字。</span>歲後。榮名安所之。乃悟<span id=\"q76\" style=\"display:none;width:;height:;color:green;font-size:13px\">詩紀云。文選作悞。案李善本文選作悞。六臣本文選注云。善作悞字。</span>羡門子。噭噭令<span id=\"q77\" style=\"display:none;width:;height:;color:green;font-size:13px\">本集、文選並作今。</span>自嗤。<span id=\"q78\" style=\"display:none;width:;height:;color:green;font-size:13px\">李善本文選作蚩。六臣本文選注云。善作蚩字。○本集下。文選二十三。詩紀十九。又類聚二十六引詩、期、思、時、之五韵。</span> 徘徊蓬池上。還顧望<span id=\"q79\" style=\"display:none;width:;height:;color:green;font-size:13px\">寰宇記作回首。</span>大梁。綠<span id=\"q80\" style=\"display:none;width:;height:;color:green;font-size:13px\">類聚作淥。</span>水揚洪波。曠野莽<span id=\"q81\" style=\"display:none;width:;height:;color:green;font-size:13px\">類聚作渀。</span>茫茫。走獸交橫馳。飛鳥相 <span id=\"q82\" style=\"display:none;width:;height:;color:green;font-size:13px\">六臣本文選注云。五臣作自字。</span>隨翔。是時鶉火中。日月正相望。朔風厲嚴寒。陰氣下微霜。羈<span id=\"q83\" style=\"display:none;width:;height:;color:green;font-size:13px\">六臣本文選作羇。</span>旅無儔<span id=\"q84\" style=\"display:none;width:;height:;color:green;font-size:13px\">文選作疇。</span>匹。俛仰懷哀傷。小人計其功。君子道其常。豈惜終憔悴。詠言著斯章。<span id=\"q85\" style=\"display:none;width:;height:;color:green;font-size:13px\">○本集下。文選二十三。詩紀十九。又類聚二十六引梁、茫二韵。太平寰宇記一引梁一韵。</span> 獨坐空堂上。誰可與歡<span id=\"q86\" style=\"display:none;width:;height:;color:green;font-size:13px\">本集作親。</span>者。出<span id=\"q87\" style=\"display:none;width:;height:;color:green;font-size:13px\">六臣本文選注云。五臣作山字。</span>門臨永路。不見行車馬。登高望九州。悠悠分曠野。孤鳥西北飛。離獸東南下。日暮思親友。晤言用自寫。<span id=\"q88\" style=\"display:none;width:;height:;color:green;font-size:13px\">○本集下。文選二十三。詩紀十九。</span> 懸車在西南。羲和將欲傾。流光耀四海。忽忽至夕冥。朝為咸池暉。濛汜受其榮。豈知<span id=\"q89\" style=\"display:none;width:;height:;color:green;font-size:13px\">詩紀云集作放。</span>窮達士。一死不再生。視彼桃李花。誰能久熒熒。君子在何許。歎息<span id=\"q90\" style=\"display:none;width:;height:;color:green;font-size:13px\">本集云。一作昵世。詩紀云。集作曠世。</span>未合并。瞻仰景山松。可以慰吾情。<span id=\"q91\" style=\"display:none;width:;height:;color:green;font-size:13px\">○本集下。風雅翼選詩三。廣文選九。詩紀十九。</span> 西方有佳人。皎若白<span id=\"q92\" style=\"display:none;width:;height:;color:green;font-size:13px\">御覽或作皎皎如。</span>日<span id=\"q93\" style=\"display:none;width:;height:;color:green;font-size:13px\">御覽或作素。</span>光。被服纖羅衣。左右珮雙璜。<span id=\"q94\" style=\"display:none;width:;height:;color:green;font-size:13px\">類聚作佩雙璫。御覽或同。或作佩雙璜。</span>修容耀姿美。順風振微芳。登高眺所思。舉袂當<span id=\"q95\" style=\"display:none;width:;height:;color:green;font-size:13px\">本集云。一作向。詩紀云。集作向。</span>朝陽。寄顏雲霄閒。揮袖淩虛翔。飄颻恍惚中。流眄<span id=\"q96\" style=\"display:none;width:;height:;color:green;font-size:13px\">本集作盼。廣文選作盻。</span>顧我傍。悅懌未交接。晤言用感傷。<span id=\"q97\" style=\"display:none;width:;height:;color:green;font-size:13px\">○本集下。風雅翼選詩三。廣文選九。詩紀十九。又類聚十八作阮籍詩。引光、璫二韵。御覽三百八十一作阮籍詩。引光、璜二韵。又八百十六作阮籍詩。引光、璫二韵。</span> 楊朱泣歧路。墨子悲染絲。揖讓長離別。飄颻難與期。豈徒燕婉情。存亡誠有之。蕭索人所悲。禍釁不可辭。趙女媚中山。謙柔愈見欺。嗟嗟塗上士。何用自保持。<span id=\"q98\" style=\"display:none;width:;height:;color:green;font-size:13px\">○本集下。風雅翼選詩補遺下。詩紀十九。</span> 於心懷寸陰。羲陽將欲冥。揮袂撫長劍。仰觀浮雲征。<span id=\"q99\" style=\"display:none;width:;height:;color:green;font-size:13px\">本集云。一作行。</span>雲間有玄鶴。抗志揚哀聲。一飛沖青天。曠世不再鳴。豈與鶉鷃遊。連翩戲中庭。<span id=\"q100\" style=\"display:none;width:;height:;color:green;font-size:13px\">京師曹氏家藏阮步兵詩一卷。唐人所書。與世所傳多異。其一篇云。放心懷寸陰。羲和將欲冥。揮袂撫長劍。仰觀浮雲行。雲間有立鵠。抗首揚哀聲。一飛沖青天。彊世不再鳴。安與鶉鷃徒。翩翩戲中庭。孔宗翰亦有本。與此多同。○以上詩紀原注。○本集下。風雅翼選詩補遺下。詩紀十九。</span> 夏后乘靈輿。夸父為鄧林。存亡從變化。日月有浮沈。鳳皇鳴參差。伶倫發其音。王子好簫管。世世相追尋。誰言不可見。<span id=\"q101\" style=\"display:none;width:;height:;color:green;font-size:13px\">文選注作雖云不可知。</span>青鳥明我心。<span id=\"q102\" style=\"display:none;width:;height:;color:green;font-size:13px\">○本集下。風雅翼選詩補遺下。詩紀十九。又文選三十一雜體詩注引心一韵。</span>東南有射山。汾水出其陽。六龍服氣輿。雲蓋切<span id=\"q103\" style=\"display:none;width:;height:;color:green;font-size:13px\">本集作覆。廣文選同。詩紀云。一作覆。</span>天綱。仙者四五<span id=\"q104\" style=\"display:none;width:;height:;color:green;font-size:13px\">廣文選作五六。</span>人。逍遙晏<span id=\"q105\" style=\"display:none;width:;height:;color:green;font-size:13px\">本集作宴。注云。一作晏。</span>蘭房。寢息一純和。呼噏成露霜。沐浴丹淵中。炤燿日月光。豈安通<span id=\"q106\" style=\"display:none;width:;height:;color:green;font-size:13px\">本集云。一作邇。詩紀云。集作邇。</span>靈臺。游瀁去高翔。<span id=\"q107\" style=\"display:none;width:;height:;color:green;font-size:13px\">○本集下。廣文選九。詩紀十九。</span> 殷憂<span id=\"q108\" style=\"display:none;width:;height:;color:green;font-size:13px\">廣文選誤作勤。</span>令志結。怵惕常若驚。逍遙未終晏。朱華忽西傾。蟋蟀在戶牖。蟪蛄號中庭。心腸未相好。誰云亮我情。願為雲間鳥。千里一哀鳴。三芝延瀛洲。遠遊可長生。<span id=\"q109\" style=\"display:none;width:;height:;color:green;font-size:13px\">○本集下。廣文選九。詩紀十九。</span> 拔劍臨白刃。安能相中傷。但畏工言子。稱我三江旁。飛泉流玉山。懸車棲扶桑。日月徑千里。素風發微霜。勢<span id=\"q110\" style=\"display:none;width:;height:;color:green;font-size:13px\">本集云。一作勢。廣文選作世。詩紀云。外編作世。</span>路有窮達。咨嗟安可長。<span id=\"q111\" style=\"display:none;width:;height:;color:green;font-size:13px\">○本集下。廣文選九。詩紀十九。</span> 朝登洪坡<span id=\"q112\" style=\"display:none;width:;height:;color:green;font-size:13px\">本集云。一作波。廣文選作波。</span>顛。<span id=\"q113\" style=\"display:none;width:;height:;color:green;font-size:13px\">寰宇記作臺。</span>日夕望西山。荊棘被原野。群鳥飛翩翩。鸞鷖時<span id=\"q114\" style=\"display:none;width:;height:;color:green;font-size:13px\">本集作特。詩紀云。集作特。</span>棲宿。性命有自然。建<span id=\"q115\" style=\"display:none;width:;height:;color:green;font-size:13px\">本集云。一作庭。廣文選作庭。</span>木誰能近。射干<span id=\"q116\" style=\"display:none;width:;height:;color:green;font-size:13px\">廣文選作秋月。</span>復嬋娟。不見林中葛。延蔓相勾連。<span id=\"q117\" style=\"display:none;width:;height:;color:green;font-size:13px\">○本集下。廣文選九。詩紀十九。又太平寰宇記五十六作阮籍詩。引山一韵。</span> 周鄭天下交。<span id=\"q118\" style=\"display:none;width:;height:;color:green;font-size:13px\">類聚作郟。</span>街術<span id=\"q119\" style=\"display:none;width:;height:;color:green;font-size:13px\">類聚作衛衢。</span>當三河。妖冶<span id=\"q120\" style=\"display:none;width:;height:;color:green;font-size:13px\">初學記作奼俊。</span>閒都子。煥燿<span id=\"q121\" style=\"display:none;width:;height:;color:green;font-size:13px\">類聚作英曜。初學記同。</span>何芬<span id=\"q122\" style=\"display:none;width:;height:;color:green;font-size:13px\">本集云。</span>一作紛。葩。玄髮<span id=\"q123\" style=\"display:none;width:;height:;color:green;font-size:13px\">御覽作鬢。</span>發<span id=\"q124\" style=\"display:none;width:;height:;color:green;font-size:13px\">本集作照。注云。一作發。詩紀云。一作照。</span>朱顏。睇眄<span id=\"q125\" style=\"display:none;width:;height:;color:green;font-size:13px\">御覽作盻。</span>有光華。傾城思一顧。遺視來相誇。<span id=\"q126\" style=\"display:none;width:;height:;color:green;font-size:13px\">類聚、初學記作過。是。本集云。一作過。</span>願為三春遊。朝陽忽蹉跎。盛衰在須臾。離別將如何。<span id=\"q127\" style=\"display:none;width:;height:;color:green;font-size:13px\">○本集下。詩紀十九。又類聚十八作阮籍詩。引河、葩、華、過、五韵。初學記十九作阮籍詩。引葩、華、過、四韵。御覽三百八十一作阮籍詩。引葩、華二韵。</span>若花<span id=\"q128\" style=\"display:none;width:;height:;color:green;font-size:13px\">本集、廣文選作木。詩紀云。一作木。</span>燿四<span id=\"q129\" style=\"display:none;width:;height:;color:green;font-size:13px\">本集作西。注云。一作四。詩紀云。一作西。</span>海。扶桑翳瀛洲。<span id=\"q130\" style=\"display:none;width:;height:;color:green;font-size:13px\">文選注作州。</span>日月經天塗。明暗不相讐。<span id=\"q131\" style=\"display:none;width:;height:;color:green;font-size:13px\">本集作侔。注云。一作讐。一作投。詩紀云。集作侔。廣文選作投。</span>窮達自有常。得失又何求。豈效路上童。攜手共遨遊。陰陽有變化。誰云沈不浮。朱鱉躍飛泉。夜飛過吴洲。俛仰運天地。再撫四海流。繫累名利場。駑駿同一輈。豈若遺耳目。升遐去殷憂。<span id=\"q132\" style=\"display:none;width:;height:;color:green;font-size:13px\">○本集下。廣文選九。詩紀十九。又文選二十七北使洛詩注引州一韵。</span> 昔余遊大梁。登于黃華顛。共工宅玄冥。高臺造青天。幽荒邈悠悠。悽愴懷所憐。所憐者誰子。明察自照妍。<span id=\"q133\" style=\"display:none;width:;height:;color:green;font-size:13px\">本集作應自然。注云。一作自照妍。詩紀云。一作應自然。</span>應龍沈冀州。妖女不得眠。肆侈<span id=\"q134\" style=\"display:none;width:;height:;color:green;font-size:13px\">詩紀云。一作佞。</span>陵世俗。豈云永厥年。<span id=\"q135\" style=\"display:none;width:;height:;color:green;font-size:13px\">○本集下。詩紀十九。</span> 驅車出門去。意欲遠征行。征行安所如。背棄夸與名。夸名不在己。但願適中情。單帷蔽皎日。高榭隔微聲。讒邪使交疏。<span id=\"q136\" style=\"display:none;width:;height:;color:green;font-size:13px\">本集云。一作流。</span>浮雲令晝冥。嬿婉同衣裳。一顧傾人城。從容在一時。繁華不再榮。晨朝奄復暮。不見所歡形。黃鳥東南飛。寄言謝友生。<span id=\"q137\" style=\"display:none;width:;height:;color:green;font-size:13px\">○本集下。廣文選九。詩紀十九。</span> 駕言發魏都。南向望吹壹。簫管有遺音。梁王安在哉。戰士食糟糠。賢者處蒿萊。歌舞曲未終。秦兵已復<span id=\"q138\" style=\"display:none;width:;height:;color:green;font-size:13px\">類聚作復已。</span>來。夾林<span id=\"q139\" style=\"display:none;width:;height:;color:green;font-size:13px\">廣文選作林夾。</span>非吾有。朱宮生塵埃。軍敗華陽下。身竟為土灰。<span id=\"q140\" style=\"display:none;width:;height:;color:green;font-size:13px\">○本集下。廣文選九。詩紀十九。又類聚二十六引臺、哉、萊、來四韵。</span> 朝陽不再盛。白日忽西幽。去此若俯仰。如何似九秋。人生<span id=\"q141\" style=\"display:none;width:;height:;color:green;font-size:13px\">廣文選作人言。</span>若塵露。<span id=\"q142\" style=\"display:none;width:;height:;color:green;font-size:13px\">廣文選作路。</span>天道邈<span id=\"q143\" style=\"display:none;width:;height:;color:green;font-size:13px\">本集作竟。注云。一作邈。廣文選作日。</span>悠悠。齊景升丘山。涕泗紛交流。孔聖<span id=\"q144\" style=\"display:none;width:;height:;color:green;font-size:13px\">廣文選作孟。</span>臨長川。惜逝忽若浮。去者余不及。來者吾不留。願登太華山。上與松子遊。漁父知世患。乘流泛輕舟。<span id=\"q145\" style=\"display:none;width:;height:;color:green;font-size:13px\">○本集下。廣文選九。詩紀十九。</span> 一日復一夕。一夕<span id=\"q146\" style=\"display:none;width:;height:;color:green;font-size:13px\">昌黎集注作朝。</span>復一朝。顏色改平常。精神自損<span id=\"q147\" style=\"display:none;width:;height:;color:green;font-size:13px\">本集云。一作捐。</span>消。胸中懷湯火。變化故相招。萬事無窮極。<span id=\"q148\" style=\"display:none;width:;height:;color:green;font-size:13px\">廣文選作理。詩紀云。一作理。</span>知謀苦不饒。但恐須臾間。魂氣隨風飄。終身履薄冰。誰知我心焦。<span id=\"q149\" style=\"display:none;width:;height:;color:green;font-size:13px\">○本集下。廣文選九。又朱校昌黎集七詩注。詩紀十九。</span> 一日復一朝。<span id=\"q150\" style=\"display:none;width:;height:;color:green;font-size:13px\">類聚作日。</span>一昏<span id=\"q151\" style=\"display:none;width:;height:;color:green;font-size:13px\">類聚作夕。</span>復一晨。容<span id=\"q152\" style=\"display:none;width:;height:;color:green;font-size:13px\">杜詩注作客。</span>色改平常。精神<span id=\"q153\" style=\"display:none;width:;height:;color:green;font-size:13px\">類聚作魂。杜詩注昌黎集注同。</span>自飄淪。臨觴多哀楚。思我故時<span id=\"q154\" style=\"display:none;width:;height:;color:green;font-size:13px\">類聚作情。</span>人。對酒不能言。悽愴懷酸辛。願耕東臯陽。誰與守其真。愁苦在一時。高行傷微身。曲直何所為。龍蛇為我鄰。<span id=\"q155\" style=\"display:none;width:;height:;color:green;font-size:13px\">廣文選誤作憐。○本集下。廣文選九。詩紀十九。又類聚二十六引晨、淪、人、辛四韵。朱校昌黎集卷七詩注引晨、淪二韵。黃氏集千家註杜工部詩史補遺六詩注引淪一韵。</span> 世務何繽紛。人道苦不遑。壯年以時逝。朝露待太陽。願攬羲和轡。白日不移光。天階路殊絕。雲漢邈無梁。濯髮暘谷濱。遠遊崑岳傍。登彼列仙岨。採此秋蘭芳。時路烏足爭。太極可翺翔。<span id=\"q156\" style=\"display:none;width:;height:;color:green;font-size:13px\">○本集下。廣文選九。詩紀十九。</span> 誰言萬事囏。逍遙可終生。臨堂翳華樹。悠悠念無形。彷徨思親友。倏忽復至冥。寄言東飛鳥。可用慰我情。<span id=\"q157\" style=\"display:none;width:;height:;color:green;font-size:13px\">○本集下。詩紀十九。又文選三十一雜體詩注引逍遙可終生一句。</span> 嘉時在今辰。零雨灑塵埃。臨路望所思。日夕復不來。人情有感慨。蕩漾焉能排。<span id=\"q158\" style=\"display:none;width:;height:;color:green;font-size:13px\">文選注作焉可能。是。應據正。</span> 揮涕懷哀傷。辛酸誰語<span id=\"q159\" style=\"display:none;width:;height:;color:green;font-size:13px\">本集云。一作與。</span>哉。<span id=\"q160\" style=\"display:none;width:;height:;color:green;font-size:13px\">○本集下。文選三十一雜體詩注兩引蕩漾焉可能一句。</span> 炎光延萬里。洪川蕩湍瀨。彎弓掛扶桑。長劍倚天外。泰山成砥礪。黃河為裳帶。視彼莊周子。榮枯何足賴。捐身棄中野。烏鳶作患害。豈若雄傑士。功名從此大。<span id=\"q161\" style=\"display:none;width:;height:;color:green;font-size:13px\">○本集下。廣文選九。詩紀十九。</span> 壯士何慷慨。志欲威八荒。驅車遠行役。受命念自忘。良弓挾烏號。明甲有精光。臨難不顧生。身死魂飛揚。豈為全軀士。效命爭戰場。忠為百世榮。義使令名彰。垂聲謝後世。氣節故有常。<span id=\"q162\" style=\"display:none;width:;height:;color:green;font-size:13px\">○同上</span> 混元生兩儀。四象運衡璣。曒日布炎精。素月垂景輝。晷度有昭回。哀哉人命微。飄若風塵逝。忽若慶雲晞。脩齡適余願。光寵非己威。安期步天路。松子與世違。焉得淩霄翼。飄颻登雲湄。<span id=\"q163\" style=\"display:none;width:;height:;color:green;font-size:13px\">本集作巍。注云。一作湄。廣文選作巍。</span>嗟哉尼父志。何為居九夷。<span id=\"q164\" style=\"display:none;width:;height:;color:green;font-size:13px\">○同上</span> 天網彌四野。六翮掩不舒。隨波紛綸客。<span id=\"q165\" style=\"display:none;width:;height:;color:green;font-size:13px\">本集云。一作落。詩紀云。集作落。</span>汎汎若浮鳧。<span id=\"q166\" style=\"display:none;width:;height:;color:green;font-size:13px\">本集作鳧鷖。廣文選同。詩紀云。一作鳧鷖。</span>生命無期度。朝夕有不虞。列仙停脩齡。養志在沖虛。飄颻雲日間。邈與世路殊。榮名非己寶。聲色焉足娛。採藥無旋返。神仙志不符。逼此良可惑。令我久<span id=\"q167\" style=\"display:none;width:;height:;color:green;font-size:13px\">廣文選作多。</span>躊躇。<span id=\"q168\" style=\"display:none;width:;height:;color:green;font-size:13px\">○同上</span> 王業須良輔。建功俟英雄。元凱康哉美。多士頌聲隆。陰陽有舛錯。日月不常融。天時有否泰。人事多盈沖。園綺遯南嶽。<span id=\"q169\" style=\"display:none;width:;height:;color:green;font-size:13px\">本集作岳。</span>伯陽隱西戎。保身念道真。寵耀焉足崇。人誰不善始。尠能尅<span id=\"q170\" style=\"display:none;width:;height:;color:green;font-size:13px\">廣文選作克。</span>厥終。休哉上世士。萬載垂清風。<span id=\"q171\" style=\"display:none;width:;height:;color:green;font-size:13px\">○同上</span> 鴻鵠相隨飛。<span id=\"q172\" style=\"display:none;width:;height:;color:green;font-size:13px\">類聚或作去。</span>飛飛<span id=\"q173\" style=\"display:none;width:;height:;color:green;font-size:13px\">類聚或作隨飛。文選注同。</span>適<span id=\"q174\" style=\"display:none;width:;height:;color:green;font-size:13px\">本集云。一作浩渺運。廣文選作浩渺運。</span>荒裔。雙<span id=\"q175\" style=\"display:none;width:;height:;color:green;font-size:13px\">本集云。一作揮。廣文選作揮。</span>翮臨<span id=\"q176\" style=\"display:none;width:;height:;color:green;font-size:13px\">文選注作浸。類聚作凌。廣文選同。</span>長風。須臾萬里逝。朝餐琅玕實。夕宿<span id=\"q177\" style=\"display:none;width:;height:;color:green;font-size:13px\">本集云。一作栖。廣文選作栖。</span> 丹<span id=\"q178\" style=\"display:none;width:;height:;color:green;font-size:13px\">類聚或作酉。</span>山際。抗<span id=\"q179\" style=\"display:none;width:;height:;color:green;font-size:13px\">類聚或作託。</span>身青雲中。網羅孰<span id=\"q180\" style=\"display:none;width:;height:;color:green;font-size:13px\">類聚或作不。</span>能制。豈與鄉曲士。携手共言誓。<span id=\"q181\" style=\"display:none;width:;height:;color:green;font-size:13px\">詩紀注云。從藝文定正。○本集下。類聚二十六。廣文選九。詩紀十九。又藝文類聚九十作阮籍詩。引裔、逝、際、制四韵。文選十四舞鶴賦注引裔、逝二韵。</span> 儔物終始殊。修短各異方。琅玕生高山。芝英耀朱堂。熒熒桃李花。成蹊將夭傷。焉敢希千術。三春表微光。自非凌風樹。憔悴烏<span id=\"q182\" style=\"display:none;width:;height:;color:green;font-size:13px\">詩紀云。一作要。</span>有常。<span id=\"q183\" style=\"display:none;width:;height:;color:green;font-size:13px\">○本集下。詩紀十九。</span> 幽蘭不可佩。朱草為誰榮。脩竹隱山陰。射干臨增城。葛藟延幽谷。緜緜瓜瓞生。樂極消靈神。哀深傷人情。竟知憂無益。豈若歸太清。<span id=\"q184\" style=\"display:none;width:;height:;color:green;font-size:13px\">○本集下。詩紀十九。又類聚二十六引榮、城二韵。</span> 鷽<span id=\"q185\" style=\"display:none;width:;height:;color:green;font-size:13px\">類聚作鸒。</span>鳩飛桑榆。海鳥運天池。豈不識宏大。羽翼不相宜。<span id=\"q186\" style=\"display:none;width:;height:;color:green;font-size:13px\">文選注作儀。</span>招搖安可翔。不若棲樹枝。下集蓬艾<span id=\"q187\" style=\"display:none;width:;height:;color:green;font-size:13px\">類聚作蒿。</span>間。上遊園圃<span id=\"q188\" style=\"display:none;width:;height:;color:green;font-size:13px\">類聚作囿。</span>籬。但爾亦自足。用子為追隨。<span id=\"q189\" style=\"display:none;width:;height:;color:green;font-size:13px\">詩紀注云。此首藝文類聚所載與今本不同。而義意近優。觀李善文選注江文通擬詠懷詩所引與藝文同。亦一證也。今從藝文定正。○本集下。類聚二十六。詩紀十九。又文選二十五於安城答靈運詩注引儀一韵。</span> 生命辰安在。<span id=\"q190\" style=\"display:none;width:;height:;color:green;font-size:13px\">詩紀作在安。</span>憂戚涕沾襟。高鳥翔山岡。鷰雀棲下林。青雲蔽前庭。素琴悽我心。崇山有鳴鶴。豈可相追尋。<span id=\"q191\" style=\"display:none;width:;height:;color:green;font-size:13px\">○本集下。詩紀十九。</span> 鳴鳩嬉庭樹。焦明遊浮雲。焉見孤翔鳥。翩翩無匹群。死生自然理。消散何繽紛。<span id=\"q192\" style=\"display:none;width:;height:;color:green;font-size:13px\">詩紀云。漢魏詩集合前為一首。○同上</span> 步遊三衢旁。惆悵念所思。豈為今朝見。恍惚誠有之。澤中生喬松。萬世未<span id=\"q193\" style=\"display:none;width:;height:;color:green;font-size:13px\">詩紀云。一作安。</span>可期。高鳥摩天飛。凌雲共遊嬉。豈有孤行士。垂涕悲故時。<span id=\"q194\" style=\"display:none;width:;height:;color:green;font-size:13px\">○同上</span> 清露為凝霜。華草成蒿萊。<span id=\"q195\" style=\"display:none;width:;height:;color:green;font-size:13px\">詩紀誤作菜。</span>誰云君子賢。明達<span id=\"q196\" style=\"display:none;width:;height:;color:green;font-size:13px\">詩紀云。集作自。</span>安可能。乘雲招松喬。呼噏永矣哉。<span id=\"q197\" style=\"display:none;width:;height:;color:green;font-size:13px\">○同上○逯案。魏書李彪傳引阮詠懷詩曰。宴衍清都中。一去永矣哉。當是此篇逸文。</span> 丹心失恩澤。重德喪所宜。善言焉可長。慈惠未易施。不見南飛鷰。羽翼正差池。高子怨新詩。三閭悼乖離。何為混沌氏。倏忽體貌隳。<span id=\"q198\" style=\"display:none;width:;height:;color:green;font-size:13px\">○同上</span> 十日出暘谷。弭節馳萬里。經天耀四海。倏忽潛濛氾。誰言焱炎久。遊沒何<span id=\"q199\" style=\"display:none;width:;height:;color:green;font-size:13px\">本集云。一作河。</span>行俟。逝<span id=\"q200\" style=\"display:none;width:;height:;color:green;font-size:13px\">詩紀缺此字。</span>者豈長生。亦去荊與杞。千歲猶崇朝。一餐聊自已。<span id=\"q201\" style=\"display:none;width:;height:;color:green;font-size:13px\">本集云。一作百金子。詩紀缺以上三字。</span>是非得失間。焉足相譏理。計利知術窮。哀情遽<span id=\"q202\" style=\"display:none;width:;height:;color:green;font-size:13px\">詩紀字缺。</span>能止。<span id=\"q203\" style=\"display:none;width:;height:;color:green;font-size:13px\">○同上</span> 自然有成理。生死道無常。智巧萬端出。大要不易方。如何夸毘子。作色懷驕腸。乘軒驅良馬。憑几向膏粱。被服纖羅衣。深榭設閑房。不見日夕華。翩翩飛路旁。<span id=\"q204\" style=\"display:none;width:;height:;color:green;font-size:13px\">○同上</span> 夸談快憤懣。情<span id=\"q205\" style=\"display:none;width:;height:;color:green;font-size:13px\">本集作憤。注云。一作情。詩紀云。一作惰。</span>慵發煩心。西北登不周。東南望鄧林。曠野彌九州。崇山抗高岑。一餐度萬世。千歲再浮沈。誰云玉石同。淚下不可禁。<span id=\"q206\" style=\"display:none;width:;height:;color:green;font-size:13px\">○同上</span> 人言願延年。延年欲焉之。黃鵠呼子安。千秋未可期。獨坐山嵓中。惻愴懷所思。王子一何好。猗靡相攜持。悅懌猶今辰。計校在一時。置此明朝事。日夕將見期。<span id=\"q207\" style=\"display:none;width:;height:;color:green;font-size:13px\">詩紀云。今本作潛見安能處。山巖在一時。置此明朝事。日夕將見欺。○同上</span> 貴賤在天命。窮達自有時。婉孌佞邪子。隨利來相欺。孤思損惠施。但為讒夫蚩。<span id=\"q208\" style=\"display:none;width:;height:;color:green;font-size:13px\">本集作嗤。注云。一作蚩。</span>鶺鴒鳴雲中。載飛靡所期。焉知傾側士。一旦不可持。<span id=\"q209\" style=\"display:none;width:;height:;color:green;font-size:13px\">○同上</span> 驚風振四野。迴雲蔭堂隅。<span id=\"q210\" style=\"display:none;width:;height:;color:green;font-size:13px\">初學記作除。</span>床帷為誰設。几杖為誰扶。雖非明君子。豈闇桑與榆。世有此聾聵。<span id=\"q211\" style=\"display:none;width:;height:;color:green;font-size:13px\">詩紀缺以上三字。</span>芒芒將焉如。翩翩從風飛。悠悠去故居。離麾玉山下。遺棄毀與譽。<span id=\"q212\" style=\"display:none;width:;height:;color:green;font-size:13px\">○本集下。詩紀十九。又初學記五作阮籍詩。引除一韵。</span> 危冠切浮雲。長劍出天外。細故何足慮。高度跨一世。非子為我御。逍遙遊荒裔。顧謝西王母。吾將從此逝。豈與蓬戶士。彈琴誦言誓。<span id=\"q213\" style=\"display:none;width:;height:;color:green;font-size:13px\">○本集下。詩紀十九。</span> 河上有丈人。緯蕭棄明珠。甘彼藜藿食。樂是蓬蒿廬。豈效繽紛子。良馬騁輕輿。朝生衢路旁。夕瘞橫術<span id=\"q214\" style=\"display:none;width:;height:;color:green;font-size:13px\">類聚作街。</span>隅。歡笑不終宴。<span id=\"q215\" style=\"display:none;width:;height:;color:green;font-size:13px\">詩紀作晏。</span>俛仰復欷歔。鑒茲二三者。憤懣從此舒。<span id=\"q216\" style=\"display:none;width:;height:;color:green;font-size:13px\">○本集下。類聚二十六。詩紀十九。</span> 儒者通六藝。<span id=\"q217\" style=\"display:none;width:;height:;color:green;font-size:13px\">詩紀云。一作義。</span>立志不可干。違禮不為動。非法不肯言。渴飲清泉流。饑食并<span id=\"q218\" style=\"display:none;width:;height:;color:green;font-size:13px\">詩紀云。一作甘。</span>一簞。歲時無以祀。衣服常苦寒。屣履詠南風。縕袍笑華軒。信道守詩書。義不受一餐。烈烈褒貶辭。老氏用長歎。<span id=\"q219\" style=\"display:none;width:;height:;color:green;font-size:13px\">○本集下。詩紀十九。</span> 少年學擊刺。<span id=\"q220\" style=\"display:none;width:;height:;color:green;font-size:13px\">詩紀云。集作劍。</span>妙伎過曲城。英風截雲霓。超世發奇聲。揮劍臨沙漠。飲馬九野坰。旗幟何翩翩。但聞金鼓鳴。軍旅令人悲。烈烈有哀情。念我平常時。悔恨從此生。<span id=\"q221\" style=\"display:none;width:;height:;color:green;font-size:13px\">○同上</span> 平晝整衣冠。思見客與賓。賓客者誰子。倐忽若飛塵。裳衣佩雲氣。言語究靈神。須臾相背棄。何時見斯人。<span id=\"q222\" style=\"display:none;width:;height:;color:green;font-size:13px\">○同上</span> 多慮令志散。寂寞使心憂。翺翔觀陂<span id=\"q223\" style=\"display:none;width:;height:;color:green;font-size:13px\">本集作彼。注云。一作陂。詩紀云。一作彼。</span>澤。撫劍登輕舟。但願長<span id=\"q224\" style=\"display:none;width:;height:;color:green;font-size:13px\">魏書作常。</span>閒暇。後歲復來遊。<span id=\"q225\" style=\"display:none;width:;height:;color:green;font-size:13px\">○本集下。詩紀十九。又三國志六十二李彪傳引遊一韵。</span> 朝出上東門。遙望首陽基。<span id=\"q226\" style=\"display:none;width:;height:;color:green;font-size:13px\">水經注作岑。</span>松柏鬱森沈。鸝黃相與嬉。逍遙<span id=\"q227\" style=\"display:none;width:;height:;color:green;font-size:13px\">水經注作遙遙。</span>九曲間。徘徊欲何之。念我平居時。鬱然思妖姬。<span id=\"q228\" style=\"display:none;width:;height:;color:green;font-size:13px\">○本集下。詩紀十九。又水經注穀水注引岑、之二韵。</span> 王子十五年。遊衍伊洛濱。朱顏茂春華。辯慧懷清真。焉見浮丘公。舉手謝時人。輕蕩易恍惚。飄颻棄其身。飛飛鳴且翔。揮翼且酸辛。<span id=\"q229\" style=\"display:none;width:;height:;color:green;font-size:13px\">○本集下。詩紀十九。</span> 塞<span id=\"q230\" style=\"display:none;width:;height:;color:green;font-size:13px\">本集作寒。注云。一作塞。詩紀云。一作寒。</span>門不可出。海水焉可浮。朱明不相見。奄昧獨無侯。持瓜思東陵。黃雀誠獨羞。失勢在須臾。帶劍上吾丘。悼彼桑林子。涕下自交流。假乘汧渭間。鞍馬去行遊。<span id=\"q231\" style=\"display:none;width:;height:;color:green;font-size:13px\">○同上</span> 洪生資制度。被服正有常。尊卑設次序。事物齊紀綱。容飾整顏色。磬折執圭璋。堂上置玄酒。室中盛稻粱。外厲貞素談。戶內滅芬芳。放口從衷出。復說道義方。委曲周旋儀。姿態愁我腸。<span id=\"q232\" style=\"display:none;width:;height:;color:green;font-size:13px\">○同上</span> 北臨乾昧谿。西行遊少任。遙顧望天津。駘蕩樂我心。綺靡存亡門。<span id=\"q233\" style=\"display:none;width:;height:;color:green;font-size:13px\">本集作間。</span>一遊不再尋。儻遇晨風鳥。飛駕出南<span id=\"q234\" style=\"display:none;width:;height:;color:green;font-size:13px\">詩紀云。一作東。</span>林。漭瀁瑤光中。忽忽肆荒淫。休息晏清都。超世又<span id=\"q235\" style=\"display:none;width:;height:;color:green;font-size:13px\">以上三字詩紀缺。</span>誰禁。<span id=\"q236\" style=\"display:none;width:;height:;color:green;font-size:13px\">詩紀云。一作起坐復誰禁。○同上</span> 人知結交易。交友誠獨難。險路多疑惑。明珠未可干。彼求饗太牢。我欲并一餐。損益生怨毒。咄咄復何言。<span id=\"q237\" style=\"display:none;width:;height:;color:green;font-size:13px\">○同上</span> 有悲則有情。無悲亦無思。<span id=\"q238\" style=\"display:none;width:;height:;color:green;font-size:13px\">本集云。一作無情亦無悲。詩紀云。集作無情亦無悲。</span>苟非嬰網罟。何必萬里畿。翔風拂重霄。慶雲招所晞。灰心寄枯宅。曷顧人間姿。始<span id=\"q239\" style=\"display:none;width:;height:;color:green;font-size:13px\">本集云。一作曲。詩紀缺此字。注云。集作曲。</span>得忘我難。焉知嘿自遺。 <span id=\"q240\" style=\"display:none;width:;height:;color:green;font-size:13px\">○同上</span> 木槿榮<span id=\"q241\" style=\"display:none;width:;height:;color:green;font-size:13px\">詩紀作熒。</span>丘墓。煌煌有光色。白日頹林中。翩翩零路側。蟋蟀吟戶牖。蟪蛄鳴荊棘。蜉蝣玩<span id=\"q242\" style=\"display:none;width:;height:;color:green;font-size:13px\">類聚作願。</span>三朝。采采脩<span id=\"q243\" style=\"display:none;width:;height:;color:green;font-size:13px\">類聚作循。</span>羽翼。衣裳為誰施。俛仰自收拭。生命幾何時。慷慨各努力。<span id=\"q244\" style=\"display:none;width:;height:;color:green;font-size:13px\">○本集下。詩紀十九。又類聚二十六引色、側、棘、翼四韵。</span> 脩塗馳軒車。長川載輕舟。性命豈自然。勢路有所由。<span id=\"q245\" style=\"display:none;width:;height:;color:green;font-size:13px\">本集作繇。</span>高名令志惑。重利使心憂。親昵懷反側。骨肉還相讐。更希毀珠玉。可用登遨遊。<span id=\"q246\" style=\"display:none;width:;height:;color:green;font-size:13px\">○本集下。詩紀十九。</span> 橫術有奇士。黃駿服其箱。朝起瀛洲野。日夕宿明光。再撫四海外。羽翼自飛揚。去置世上事。豈足愁我腸。一去長離絕。千歲復相望。<span id=\"q247\" style=\"display:none;width:;height:;color:green;font-size:13px\">○同上○逯案。書鈔百五十七引光一韵。有注云。明光。丹丘也。日定所舍也云云。似是阮集舊注。</span> 猗歟上世士。恬淡志安貧。季葉道陵遲。馳騖紛垢塵。寗子豈不類。楊歌誰肯殉。<span id=\"q248\" style=\"display:none;width:;height:;color:green;font-size:13px\">詩紀云。一作詢。</span>栖栖非我偶。徨徨非己倫。咄嗟榮辱事。去來味<span id=\"q249\" style=\"display:none;width:;height:;color:green;font-size:13px\">本集云。一作未。</span>道真。道真信可娛。清潔存精神。巢由抗高節。從此適河濱。<span id=\"q250\" style=\"display:none;width:;height:;color:green;font-size:13px\">同上</span> 梁東有芳草。一朝再三榮。色容豔姿美。光華耀傾城。豈為明哲士。妖蠱諂媚生。輕薄在一時。安知百世名。路端便娟子。但<span id=\"q251\" style=\"display:none;width:;height:;color:green;font-size:13px\">文選注作常。</span>恐日月傾。焉見冥靈木。悠悠竟無形。<span id=\"q252\" style=\"display:none;width:;height:;color:green;font-size:13px\">○本集下。詩紀十九。又文選二十八會吟行注引傾一韵。</span> 秋<span id=\"q253\" style=\"display:none;width:;height:;color:green;font-size:13px\">本集云。一作稅。</span>駕<span id=\"q254\" style=\"display:none;width:;height:;color:green;font-size:13px\">詩紀云。作稅駕者。誤。</span>安可學。東野窮路旁。綸深魚淵潛。矰設鳥高翔。汎汎乘輕舟。演漾靡所望。吹噓誰以益。江湖相捐忘。都冶難為顏。脩容是我常。茲年在松喬。恍惚誠未央。<span id=\"q255\" style=\"display:none;width:;height:;color:green;font-size:13px\">詩紀云。莊子逸篇。尹儒學御三年。而無所得。夜夢受秋駕。明日往朝師。師曰。今將教子以秋駕。注曰。秋駕。法駕也。○本集下。詩紀十九。</span> 咄嗟行至老。僶俛常苦憂。臨川羡洪波。同始異支流。百年何足言。但苦怨與讐。讐怨者誰子。耳目還相羞。聲色為胡越。人情自逼遒。招彼玄通士。去來歸羡遊。<span id=\"q256\" style=\"display:none;width:;height:;color:green;font-size:13px\">○同上</span> 昔有神仙士。乃處射山阿。乘雲御飛龍。噓噏嘰瓊華。可聞不可見。慷慨歎咨嗟。自傷非儔類。愁苦來相加。下學而上達。忽忽將如何。<span id=\"q257\" style=\"display:none;width:;height:;color:green;font-size:13px\">○同上</span> 林中有奇鳥。自言是鳳凰。清朝飲醴泉。日夕棲山岡。高鳴徹九州。延頸望八荒。適逢商風起。羽翼自摧藏。一去崑崙西。何時復迴翔。但恨處非位。愴恨<span id=\"q258\" style=\"display:none;width:;height:;color:green;font-size:13px\">本集作悢。注云。一作恨。</span>使心傷。<span id=\"q259\" style=\"display:none;width:;height:;color:green;font-size:13px\">○同上</span> 出門望佳人。佳人豈在茲。三山招松喬。萬世誰與期。存亡<span id=\"q260\" style=\"display:none;width:;height:;color:green;font-size:13px\">詩紀云。一作日。</span>有長短。慷慨將焉知。忽忽朝日隤。行行將何之。不見季<span id=\"q261\" style=\"display:none;width:;height:;color:green;font-size:13px\">本集云。一作入。</span>秋草。摧折在今時。<span id=\"q262\" style=\"display:none;width:;height:;color:green;font-size:13px\">○同上</span> 昔有神仙者。羡門及松喬。噏習九陽間。升遐<span id=\"q263\" style=\"display:none;width:;height:;color:green;font-size:13px\">本集云。一作選。</span>嘰雲霄。人生樂長久。百年自言遼。白日隕隅谷。一夕不再朝。豈若遺世物。登明遂飄颻。<span id=\"q264\" style=\"display:none;width:;height:;color:green;font-size:13px\">○同上</span> 墓前<span id=\"q265\" style=\"display:none;width:;height:;color:green;font-size:13px\">本集云。一作在。</span>熒熒者。木槿耀朱華。榮好未終朝。連飈隕其葩。豈若西<span id=\"q266\" style=\"display:none;width:;height:;color:green;font-size:13px\">本集云。一作栖。</span>山草。琅玕與丹禾。垂影<span id=\"q267\" style=\"display:none;width:;height:;color:green;font-size:13px\">初學記作穎。</span>臨增<span id=\"q268\" style=\"display:none;width:;height:;color:green;font-size:13px\">初學記作曾。同。</span>城。餘光照九阿。寧微少年子。日久難咨嗟。<span id=\"q269\" style=\"display:none;width:;height:;color:green;font-size:13px\">○本集下。詩紀十九。又初學記二十七作阮籍詩。引禾一韵。</span> </div></span>"
      ]
     },
     "execution_count": 28,
     "metadata": {},
     "output_type": "execute_result"
    }
   ],
   "source": [
    "MyBooks.flat_bodies[idx]"
   ]
  },
  {
   "cell_type": "code",
   "execution_count": null,
   "metadata": {},
   "outputs": [],
   "source": []
  },
  {
   "cell_type": "code",
   "execution_count": 101,
   "metadata": {},
   "outputs": [],
   "source": [
    "def extract_collation_notes(bs):\n",
    "    ''' bs: can be an h3, div or other types of tags \n",
    "        returns: a dictionary of collation notes keyed with qxx \n",
    "    '''\n",
    "    collation_notes = {}\n",
    "    for t in bs.find_all('span', {'id': re.compile(pattern=r'^q\\d+')}):\n",
    "        a = t.get_attribute_list('id', )[0]  # ['q00']\n",
    "        collation_notes[a] = t.text\n",
    "    return collation_notes\n",
    "    "
   ]
  },
  {
   "cell_type": "code",
   "execution_count": 86,
   "metadata": {},
   "outputs": [],
   "source": [
    "def extract_title_poem_collation_notes(bs):\n",
    "    ''' title: Title (in h3), possibly with collcation notes\n",
    "        poem:  text of poem, possibly with collcation notes\n",
    "        collcation_notes: a dictionary of collcation notes with <span> id (q00, q01, etc.) as keys\n",
    "    '''\n",
    "    cnt = 0\n",
    "    rb = bs.html.body\n",
    "    raw_body_text = str(rb)\n",
    "    collation_notes = []\n",
    "    for t in rb.find_all('span', {'id': re.compile(pattern=r'^q\\d+')}):\n",
    "        cnt += 1\n",
    "        collation_notes.append(t.text)\n",
    "        raw_body_text = raw_body_text.replace(str(t), \"{}\")\n",
    "\n",
    "    rb = BeautifulSoup(raw_body_text, 'lxml') # parse it again\n",
    "    raw_body = []\n",
    "    for d in rb.html.body.find_all('div'):\n",
    "        raw_body.append(d.text)\n",
    "    return (raw_body, collation_notes)"
   ]
  },
  {
   "cell_type": "code",
   "execution_count": 88,
   "metadata": {},
   "outputs": [],
   "source": [
    "rb, cn = extract_poem_plus_collation_notes(bs)"
   ]
  },
  {
   "cell_type": "code",
   "execution_count": 67,
   "metadata": {},
   "outputs": [
    {
     "data": {
      "text/plain": [
       "(22, 21)"
      ]
     },
     "execution_count": 67,
     "metadata": {},
     "output_type": "execute_result"
    }
   ],
   "source": [
    "len(cn), rb[0].count(\"{}\")"
   ]
  },
  {
   "cell_type": "markdown",
   "metadata": {},
   "source": [
    "### Notes\n",
    "##### (1) For <span id='qxxx'></span>, the text for q00 or q000 (etc.) is the first collocation note, whether it is attached to the Title or not"
   ]
  },
  {
   "cell_type": "code",
   "execution_count": 8,
   "metadata": {},
   "outputs": [
    {
     "name": "stdout",
     "output_type": "stream",
     "text": [
      "䜎\n"
     ]
    }
   ],
   "source": [
    "print(chr(0x470E)) # the rare character 䜎"
   ]
  },
  {
   "cell_type": "code",
   "execution_count": null,
   "metadata": {},
   "outputs": [],
   "source": [
    "tag = PTPoetry.flat_bodies[idx]    # 1072,  1451\n",
    "cnt = 0\n",
    "#for t in tag.find_all('span', {'id': {\"q00\", \"q01\", \"q02\"}}):\n",
    "notes_id = []\n",
    "for t in tag.find_all('span'):\n",
    "    cnt += 1\n",
    "    attr_list = t.get_attribute_list('id')\n",
    "    if attr_list[0].startswith(\"q\"):  # only id='qxxx', where xxx is a number, is picked up\n",
    "        notes_id.extend(attr_list)\n",
    "\n",
    "cnt = 0\n",
    "for t in tag.find_all('span', {'id': set(notes_id)}):\n",
    "    cnt += 1\n",
    "    #print(cnt, \":\", t.text)\n",
    "\n",
    "raw_body = str(tag.html.body)\n",
    "type(raw_body)\n",
    "for j, note_id in enumerate(notes_id):\n",
    "    x = tag.find('span', id=note_id)\n",
    "    raw_body = raw_body.replace(str(x), \"{}\")\n",
    "    print(j, note_id, x.text)\n",
    "raw_body"
   ]
  },
  {
   "cell_type": "code",
   "execution_count": 12,
   "metadata": {},
   "outputs": [
    {
     "name": "stdout",
     "output_type": "stream",
     "text": [
      "詩紀云。阮嗣宗集傳之既久。頗存偽闕。世之較錄者往往肆為補綴。作者之旨。淆亂甚焉。今以諸本參校。其義稍優者為正文。互異者分註於下。其舊有闕文疑字而今本竄益者。廓其傍。俟再考正。\n"
     ]
    }
   ],
   "source": [
    "from bs4 import BeautifulSoup\n",
    "soup = BeautifulSoup(raw_body, 'lxml')\n",
    "opening_note = soup.find(\"div\").find_all(\"font\", size=\"-2\")\n",
    "if opening_note:\n",
    "    print(opening_note[0].text)"
   ]
  },
  {
   "cell_type": "code",
   "execution_count": 33,
   "metadata": {},
   "outputs": [
    {
     "data": {
      "text/plain": [
       "270"
      ]
     },
     "execution_count": 33,
     "metadata": {},
     "output_type": "execute_result"
    }
   ],
   "source": [
    "if opening_note:\n",
    "    poem_body = soup.find(\"div\").text.replace(opening_note[0].text, \"\").strip()\n",
    "poem_body.count(\"{}\")"
   ]
  },
  {
   "cell_type": "code",
   "execution_count": null,
   "metadata": {},
   "outputs": [],
   "source": [
    "tag = PTPoetry.flat_bodies[1451]\n",
    "raw_text = tag.html.body\n",
    "str(raw_text)"
   ]
  },
  {
   "cell_type": "code",
   "execution_count": 25,
   "metadata": {},
   "outputs": [
    {
     "data": {
      "text/plain": [
       "(270, 270)"
      ]
     },
     "execution_count": 25,
     "metadata": {},
     "output_type": "execute_result"
    }
   ],
   "source": [
    "raw_body.count(\"{}\"), len(notes_id)\n",
    "#assert raw_body.count(\"{}\") == len(notes_id)\n",
    "#notes_id\n",
    "#tag.find('span', id=notes_id[-1]).text"
   ]
  },
  {
   "cell_type": "code",
   "execution_count": 26,
   "metadata": {},
   "outputs": [
    {
     "data": {
      "text/plain": [
       "270"
      ]
     },
     "execution_count": 26,
     "metadata": {},
     "output_type": "execute_result"
    }
   ],
   "source": [
    "raw_body.count(\"{}\")"
   ]
  },
  {
   "cell_type": "code",
   "execution_count": 5,
   "metadata": {},
   "outputs": [],
   "source": [
    "# Pulls out the bookmark\n",
    "PTPoetry.extract_paths()"
   ]
  },
  {
   "cell_type": "code",
   "execution_count": null,
   "metadata": {},
   "outputs": [],
   "source": [
    "[(idx, value) for idx, value in enumerate(PTPoetry.paths[1500:1520])]"
   ]
  },
  {
   "cell_type": "code",
   "execution_count": 10,
   "metadata": {},
   "outputs": [
    {
     "name": "stdout",
     "output_type": "stream",
     "text": [
      "['集', '總集', '先秦漢魏晉南北朝詩', '梁詩', '卷二十三(P.1980)']\n",
      "['集', '總集', '先秦漢魏晉南北朝詩', '梁詩', '卷二十四(P.2008)']\n",
      "['集', '總集', '先秦漢魏晉南北朝詩', '梁詩', '卷二十五(P.2030)']\n",
      "['集', '總集', '先秦漢魏晉南北朝詩', '梁詩', '卷二十六(P.2061)']\n",
      "['集', '總集', '先秦漢魏晉南北朝詩', '梁詩', '卷二十七(P.2079)']\n",
      "['集', '總集', '先秦漢魏晉南北朝詩', '梁詩', '卷二十八(P.2107)']\n",
      "['集', '總集', '先秦漢魏晉南北朝詩', '梁詩', '卷二十九(P.2136)']\n",
      "['集', '總集', '先秦漢魏晉南北朝詩', '梁詩', '卷三十(P.2162)']\n",
      "['集', '總集', '先秦漢魏晉南北朝詩', '北魏詩(P.2195)']\n",
      "['集', '總集', '先秦漢魏晉南北朝詩', '北魏詩', '卷一(P.2195)']\n",
      "['集', '總集', '先秦漢魏晉南北朝詩', '北魏詩', '卷二(P.2212)']\n",
      "['集', '總集', '先秦漢魏晉南北朝詩', '北魏詩', '卷三(P.2227)']\n",
      "['集', '總集', '先秦漢魏晉南北朝詩', '北魏詩', '卷四(P.2246)']\n",
      "['集', '總集', '先秦漢魏晉南北朝詩', '北齊詩(P.2255)']\n",
      "['集', '總集', '先秦漢魏晉南北朝詩', '北齊詩', '卷一(P.2255)']\n",
      "['集', '總集', '先秦漢魏晉南北朝詩', '北齊詩', '卷二(P.2272)']\n",
      "['集', '總集', '先秦漢魏晉南北朝詩', '北齊詩', '卷三(P.2287)']\n",
      "['集', '總集', '先秦漢魏晉南北朝詩', '北齊詩', '卷四(P.2301)']\n",
      "['集', '總集', '先秦漢魏晉南北朝詩', '北周詩(P.2322)']\n",
      "['集', '總集', '先秦漢魏晉南北朝詩', '北周詩', '卷一(P.2322)']\n",
      "['集', '總集', '先秦漢魏晉南北朝詩', '北周詩', '卷二(P.2345)']\n",
      "['集', '總集', '先秦漢魏晉南北朝詩', '北周詩', '卷三(P.2365)']\n",
      "['集', '總集', '先秦漢魏晉南北朝詩', '北周詩', '卷四(P.2384)']\n",
      "['集', '總集', '先秦漢魏晉南北朝詩', '北周詩', '卷五(P.2413)']\n",
      "['集', '總集', '先秦漢魏晉南北朝詩', '北周詩', '卷六(P.2432)']\n",
      "['集', '總集', '先秦漢魏晉南北朝詩', '陳詩(P.2442)']\n",
      "['集', '總集', '先秦漢魏晉南北朝詩', '陳詩', '卷一(P.2442)']\n",
      "['集', '總集', '先秦漢魏晉南北朝詩', '陳詩', '卷二(P.2460)']\n",
      "['集', '總集', '先秦漢魏晉南北朝詩', '陳詩', '卷三(P.2483)']\n",
      "['集', '總集', '先秦漢魏晉南北朝詩', '陳詩', '卷四(P.2499)']\n",
      "['集', '總集', '先秦漢魏晉南北朝詩', '陳詩', '卷五(P.2522)']\n",
      "['集', '總集', '先秦漢魏晉南北朝詩', '陳詩', '卷六(P.2540)']\n",
      "['集', '總集', '先秦漢魏晉南北朝詩', '陳詩', '卷七(P.2565)']\n",
      "['集', '總集', '先秦漢魏晉南北朝詩', '陳詩', '卷八(P.2576)']\n",
      "['集', '總集', '先秦漢魏晉南北朝詩', '陳詩', '卷九(P.2598)']\n",
      "['集', '總集', '先秦漢魏晉南北朝詩', '陳詩', '卷十(P.2617)']\n",
      "['集', '總集', '先秦漢魏晉南北朝詩', '隋詩(P.2626)']\n",
      "['集', '總集', '先秦漢魏晉南北朝詩', '隋詩', '卷一(P.2626)']\n",
      "['集', '總集', '先秦漢魏晉南北朝詩', '隋詩', '卷二(P.2642)']\n",
      "['集', '總集', '先秦漢魏晉南北朝詩', '隋詩', '卷三(P.2659)']\n",
      "['集', '總集', '先秦漢魏晉南北朝詩', '隋詩', '卷四(P.2674)']\n",
      "['集', '總集', '先秦漢魏晉南北朝詩', '隋詩', '卷五(P.2687)']\n",
      "['集', '總集', '先秦漢魏晉南北朝詩', '隋詩', '卷六(P.2705)']\n",
      "['集', '總集', '先秦漢魏晉南北朝詩', '隋詩', '卷七(P.2724)']\n",
      "['集', '總集', '先秦漢魏晉南北朝詩', '隋詩', '卷八(P.2739)']\n",
      "['集', '總集', '先秦漢魏晉南北朝詩', '隋詩', '卷九(P.2753)']\n",
      "['集', '總集', '先秦漢魏晉南北朝詩', '隋詩', '卷十(P.2770)']\n",
      "['集', '總集', '先秦漢魏晉南北朝詩', '後記(P.2787)']\n"
     ]
    }
   ],
   "source": [
    "SplitPaths = []\n",
    "MetaList = []\n",
    "MetaList2 =[]\n",
    "\n",
    "for path in PTPoetry.paths:\n",
    "    x = path.split(\"／\")\n",
    "    SplitPaths.append(x)\n",
    "\n",
    "for path2 in SplitPaths:\n",
    "    try:\n",
    "        #making our collection this a list, not a tuple\n",
    "        y = [path2[3], path2[4], path2[5], path2[-1]]\n",
    "        MetaList.append(y)\n",
    "    except:\n",
    "        print(path2)\n",
    "        pass\n",
    "\n",
    "#But the method above is not right.  Authors not always at index 5, and at the start\n",
    "#of each author, index-1 will give the author, not the title.\n",
    "\n",
    "for item in MetaList:\n",
    "    titlepage = item[3].strip(\")\").split(\"(\")\n",
    "    if len(titlepage) == 1:\n",
    "        pass\n",
    "    MetaList2.append(item[0:3] + titlepage)\n",
    "    #TODO: failing to strip out the \"P.\" in the page number"
   ]
  },
  {
   "cell_type": "code",
   "execution_count": 11,
   "metadata": {},
   "outputs": [
    {
     "name": "stdout",
     "output_type": "stream",
     "text": [
      "['先秦詩', '卷三', '謠', '包山謠(P.43)'] \n",
      " ['先秦詩', '卷三', '謠', '包山謠', 'P.43']\n"
     ]
    }
   ],
   "source": [
    "print(MetaList[100], '\\n', MetaList2[100])"
   ]
  },
  {
   "cell_type": "code",
   "execution_count": 12,
   "metadata": {},
   "outputs": [],
   "source": [
    "#let's get a rawer set of bookmark data, to work with.  Everything except\n",
    "# the first three spots (集，總集，先秦漢魏晉南北朝詩)\n",
    "RoughMeta = []\n",
    "for path in PTPoetry.paths:\n",
    "    x = path.split(\"／\")\n",
    "    RoughMeta.append(x[3:])\n"
   ]
  },
  {
   "cell_type": "code",
   "execution_count": 13,
   "metadata": {},
   "outputs": [
    {
     "data": {
      "text/plain": [
       "[['晉詩', '卷二', '棗據', '詩(P.589)'],\n",
       " ['晉詩', '卷二', '棗據', '五言詩(P.590)'],\n",
       " ['晉詩', '卷二', '棗據', '詩(P.590)'],\n",
       " ['晉詩', '卷二', '王濬(P.591)'],\n",
       " ['晉詩', '卷二', '王濬', '祖道應令詩(P.591)'],\n",
       " ['晉詩', '卷二', '王濬', '平吴詩(P.591)'],\n",
       " ['晉詩', '卷二', '荀勗(P.591)'],\n",
       " ['晉詩', '卷二', '荀勗', '從武帝華林園宴詩(P.592)'],\n",
       " ['晉詩', '卷二', '荀勗', '三月三日從華林園詩(P.592)'],\n",
       " ['晉詩', '卷二', '王銓(P.592)'],\n",
       " ['晉詩', '卷二', '王銓', '為兩足虎作歌詩(P.592)'],\n",
       " ['晉詩', '卷二', '夏侯湛(P.593)'],\n",
       " ['晉詩', '卷二', '夏侯湛', '周詩(P.593)'],\n",
       " ['晉詩', '卷二', '夏侯湛', '山路吟(P.594)'],\n",
       " ['晉詩', '卷二', '夏侯湛', '江上泛歌(P.594)'],\n",
       " ['晉詩', '卷二', '夏侯湛', '離親詠(P.594)'],\n",
       " ['晉詩', '卷二', '夏侯湛', '長夜謠(P.595)'],\n",
       " ['晉詩', '卷二', '夏侯湛', '寒苦謠(P.595)'],\n",
       " ['晉詩', '卷二', '夏侯湛', '春可樂(P.595)'],\n",
       " ['晉詩', '卷二', '夏侯湛', '秋可哀(P.596)'],\n",
       " ['晉詩', '卷二', '夏侯湛', '秋夕哀(P.596)'],\n",
       " ['晉詩', '卷二', '夏侯湛', '征邁辭(P.596)'],\n",
       " ['晉詩', '卷二', '王濟(P.597)'],\n",
       " ['晉詩', '卷二', '王濟', '平吴後三月三日華林園詩(P.597)'],\n",
       " ['晉詩', '卷二', '王濟', '從事華林詩(P.597)'],\n",
       " ['晉詩', '卷二', '王濟', '詩(P.597)'],\n",
       " ['晉詩', '卷二', '王濟', '答何劭詩(P.598)'],\n",
       " ['晉詩', '卷二', '孫楚(P.598)'],\n",
       " ['晉詩', '卷二', '孫楚', '答弘農故吏民詩(P.598)'],\n",
       " ['晉詩', '卷二', '孫楚', '除婦服詩(P.598)'],\n",
       " ['晉詩', '卷二', '孫楚', '太僕座上詩(P.599)'],\n",
       " ['晉詩', '卷二', '孫楚', '會王侍中座上詩(P.599)'],\n",
       " ['晉詩', '卷二', '孫楚', '祖道詩(P.599)'],\n",
       " ['晉詩', '卷二', '孫楚', '征西官屬送於陟陽候作詩(P.599)'],\n",
       " ['晉詩', '卷二', '孫楚', '之馮翊祖道詩(P.600)'],\n",
       " ['晉詩', '卷二', '孫楚', '出歌(P.600)'],\n",
       " ['晉詩', '卷二', '董京(P.600)'],\n",
       " ['晉詩', '卷二', '董京', '詩二首(P.600)'],\n",
       " ['晉詩', '卷二', '董京', '答孫楚詩(P.601)'],\n",
       " ['晉詩', '卷三', '傅咸(P.603)'],\n",
       " ['晉詩', '卷三', '傅咸', '孝經詩(P.603)'],\n",
       " ['晉詩', '卷三', '傅咸', '論語詩(P.603)'],\n",
       " ['晉詩', '卷三', '傅咸', '毛詩詩(P.604)'],\n",
       " ['晉詩', '卷三', '傅咸', '周易詩(P.604)'],\n",
       " ['晉詩', '卷三', '傅咸', '周官詩(P.604)'],\n",
       " ['晉詩', '卷三', '傅咸', '左傳詩(P.605)'],\n",
       " ['晉詩', '卷三', '傅咸', '與尚書同僚詩(P.605)'],\n",
       " ['晉詩', '卷三', '傅咸', '贈褚武良詩(P.605)'],\n",
       " ['晉詩', '卷三', '傅咸', '贈崔伏二郎詩(P.606)'],\n",
       " ['晉詩', '卷三', '傅咸', '答潘尼詩(P.606)']]"
      ]
     },
     "execution_count": 13,
     "metadata": {},
     "output_type": "execute_result"
    }
   ],
   "source": [
    "RoughMeta[1300:1350]"
   ]
  },
  {
   "cell_type": "code",
   "execution_count": 14,
   "metadata": {},
   "outputs": [],
   "source": [
    "import pandas as pd\n",
    "RoughFrame=pd.DataFrame(RoughMeta)"
   ]
  },
  {
   "cell_type": "code",
   "execution_count": 15,
   "metadata": {},
   "outputs": [
    {
     "data": {
      "text/html": [
       "<div>\n",
       "<style scoped>\n",
       "    .dataframe tbody tr th:only-of-type {\n",
       "        vertical-align: middle;\n",
       "    }\n",
       "\n",
       "    .dataframe tbody tr th {\n",
       "        vertical-align: top;\n",
       "    }\n",
       "\n",
       "    .dataframe thead th {\n",
       "        text-align: right;\n",
       "    }\n",
       "</style>\n",
       "<table border=\"1\" class=\"dataframe\">\n",
       "  <thead>\n",
       "    <tr style=\"text-align: right;\">\n",
       "      <th></th>\n",
       "      <th>0</th>\n",
       "      <th>1</th>\n",
       "      <th>2</th>\n",
       "      <th>3</th>\n",
       "      <th>4</th>\n",
       "      <th>5</th>\n",
       "    </tr>\n",
       "  </thead>\n",
       "  <tbody>\n",
       "    <tr>\n",
       "      <th>900</th>\n",
       "      <td>魏詩</td>\n",
       "      <td>卷五</td>\n",
       "      <td>吴質(P.412)</td>\n",
       "      <td>None</td>\n",
       "      <td>None</td>\n",
       "      <td>None</td>\n",
       "    </tr>\n",
       "    <tr>\n",
       "      <th>901</th>\n",
       "      <td>魏詩</td>\n",
       "      <td>卷五</td>\n",
       "      <td>吴質</td>\n",
       "      <td>思慕詩(P.412)</td>\n",
       "      <td>None</td>\n",
       "      <td>None</td>\n",
       "    </tr>\n",
       "    <tr>\n",
       "      <th>902</th>\n",
       "      <td>魏詩</td>\n",
       "      <td>卷五</td>\n",
       "      <td>麋元(P.412)</td>\n",
       "      <td>None</td>\n",
       "      <td>None</td>\n",
       "      <td>None</td>\n",
       "    </tr>\n",
       "    <tr>\n",
       "      <th>903</th>\n",
       "      <td>魏詩</td>\n",
       "      <td>卷五</td>\n",
       "      <td>麋元</td>\n",
       "      <td>詩(P.412)</td>\n",
       "      <td>None</td>\n",
       "      <td>None</td>\n",
       "    </tr>\n",
       "    <tr>\n",
       "      <th>904</th>\n",
       "      <td>魏詩</td>\n",
       "      <td>卷五</td>\n",
       "      <td>魏明帝曹叡(P.413)</td>\n",
       "      <td>None</td>\n",
       "      <td>None</td>\n",
       "      <td>None</td>\n",
       "    </tr>\n",
       "    <tr>\n",
       "      <th>905</th>\n",
       "      <td>魏詩</td>\n",
       "      <td>卷五</td>\n",
       "      <td>魏明帝曹叡</td>\n",
       "      <td>樂府</td>\n",
       "      <td>短歌行(P.413)</td>\n",
       "      <td>None</td>\n",
       "    </tr>\n",
       "    <tr>\n",
       "      <th>906</th>\n",
       "      <td>魏詩</td>\n",
       "      <td>卷五</td>\n",
       "      <td>魏明帝曹叡</td>\n",
       "      <td>樂府</td>\n",
       "      <td>善哉行(P.413)</td>\n",
       "      <td>None</td>\n",
       "    </tr>\n",
       "    <tr>\n",
       "      <th>907</th>\n",
       "      <td>魏詩</td>\n",
       "      <td>卷五</td>\n",
       "      <td>魏明帝曹叡</td>\n",
       "      <td>樂府</td>\n",
       "      <td>同前四解(P.414)</td>\n",
       "      <td>None</td>\n",
       "    </tr>\n",
       "    <tr>\n",
       "      <th>908</th>\n",
       "      <td>魏詩</td>\n",
       "      <td>卷五</td>\n",
       "      <td>魏明帝曹叡</td>\n",
       "      <td>樂府</td>\n",
       "      <td>步出夏門行(P.414)</td>\n",
       "      <td>None</td>\n",
       "    </tr>\n",
       "    <tr>\n",
       "      <th>909</th>\n",
       "      <td>魏詩</td>\n",
       "      <td>卷五</td>\n",
       "      <td>魏明帝曹叡</td>\n",
       "      <td>樂府</td>\n",
       "      <td>月重輪行(P.415)</td>\n",
       "      <td>None</td>\n",
       "    </tr>\n",
       "    <tr>\n",
       "      <th>910</th>\n",
       "      <td>魏詩</td>\n",
       "      <td>卷五</td>\n",
       "      <td>魏明帝曹叡</td>\n",
       "      <td>樂府</td>\n",
       "      <td>長歌行(P.415)</td>\n",
       "      <td>None</td>\n",
       "    </tr>\n",
       "    <tr>\n",
       "      <th>911</th>\n",
       "      <td>魏詩</td>\n",
       "      <td>卷五</td>\n",
       "      <td>魏明帝曹叡</td>\n",
       "      <td>樂府</td>\n",
       "      <td>苦寒行(P.416)</td>\n",
       "      <td>None</td>\n",
       "    </tr>\n",
       "    <tr>\n",
       "      <th>912</th>\n",
       "      <td>魏詩</td>\n",
       "      <td>卷五</td>\n",
       "      <td>魏明帝曹叡</td>\n",
       "      <td>樂府</td>\n",
       "      <td>櫂歌行(P.416)</td>\n",
       "      <td>None</td>\n",
       "    </tr>\n",
       "    <tr>\n",
       "      <th>913</th>\n",
       "      <td>魏詩</td>\n",
       "      <td>卷五</td>\n",
       "      <td>魏明帝曹叡</td>\n",
       "      <td>樂府</td>\n",
       "      <td>種瓜篇(P.416)</td>\n",
       "      <td>None</td>\n",
       "    </tr>\n",
       "    <tr>\n",
       "      <th>914</th>\n",
       "      <td>魏詩</td>\n",
       "      <td>卷五</td>\n",
       "      <td>魏明帝曹叡</td>\n",
       "      <td>樂府</td>\n",
       "      <td>燕歌行(P.417)</td>\n",
       "      <td>None</td>\n",
       "    </tr>\n",
       "    <tr>\n",
       "      <th>915</th>\n",
       "      <td>魏詩</td>\n",
       "      <td>卷五</td>\n",
       "      <td>魏明帝曹叡</td>\n",
       "      <td>樂府</td>\n",
       "      <td>猛虎行(P.417)</td>\n",
       "      <td>None</td>\n",
       "    </tr>\n",
       "    <tr>\n",
       "      <th>916</th>\n",
       "      <td>魏詩</td>\n",
       "      <td>卷五</td>\n",
       "      <td>魏明帝曹叡</td>\n",
       "      <td>樂府</td>\n",
       "      <td>堂上行(P.417)</td>\n",
       "      <td>None</td>\n",
       "    </tr>\n",
       "    <tr>\n",
       "      <th>917</th>\n",
       "      <td>魏詩</td>\n",
       "      <td>卷五</td>\n",
       "      <td>魏明帝曹叡</td>\n",
       "      <td>樂府</td>\n",
       "      <td>清調歌(P.418)</td>\n",
       "      <td>None</td>\n",
       "    </tr>\n",
       "    <tr>\n",
       "      <th>918</th>\n",
       "      <td>魏詩</td>\n",
       "      <td>卷五</td>\n",
       "      <td>魏明帝曹叡</td>\n",
       "      <td>樂府</td>\n",
       "      <td>自惜身薄祜行(P.418)</td>\n",
       "      <td>None</td>\n",
       "    </tr>\n",
       "    <tr>\n",
       "      <th>919</th>\n",
       "      <td>魏詩</td>\n",
       "      <td>卷五</td>\n",
       "      <td>魏明帝曹叡</td>\n",
       "      <td>樂府</td>\n",
       "      <td>野田黃雀行(P.418)</td>\n",
       "      <td>None</td>\n",
       "    </tr>\n",
       "    <tr>\n",
       "      <th>920</th>\n",
       "      <td>魏詩</td>\n",
       "      <td>卷五</td>\n",
       "      <td>魏明帝曹叡</td>\n",
       "      <td>樂府</td>\n",
       "      <td>豫章行(P.418)</td>\n",
       "      <td>None</td>\n",
       "    </tr>\n",
       "    <tr>\n",
       "      <th>921</th>\n",
       "      <td>魏詩</td>\n",
       "      <td>卷五</td>\n",
       "      <td>魏明帝曹叡</td>\n",
       "      <td>樂府</td>\n",
       "      <td>樂府詩(P.418)</td>\n",
       "      <td>None</td>\n",
       "    </tr>\n",
       "    <tr>\n",
       "      <th>922</th>\n",
       "      <td>魏詩</td>\n",
       "      <td>卷五</td>\n",
       "      <td>杜摯(P.419)</td>\n",
       "      <td>None</td>\n",
       "      <td>None</td>\n",
       "      <td>None</td>\n",
       "    </tr>\n",
       "    <tr>\n",
       "      <th>923</th>\n",
       "      <td>魏詩</td>\n",
       "      <td>卷五</td>\n",
       "      <td>杜摯</td>\n",
       "      <td>贈毌丘儉詩(P.419)</td>\n",
       "      <td>None</td>\n",
       "      <td>None</td>\n",
       "    </tr>\n",
       "    <tr>\n",
       "      <th>924</th>\n",
       "      <td>魏詩</td>\n",
       "      <td>卷五</td>\n",
       "      <td>杜摯</td>\n",
       "      <td>贈毌丘荊州詩(P.420)</td>\n",
       "      <td>None</td>\n",
       "      <td>None</td>\n",
       "    </tr>\n",
       "    <tr>\n",
       "      <th>925</th>\n",
       "      <td>魏詩</td>\n",
       "      <td>卷六</td>\n",
       "      <td>陳思王曹植一(P.421)</td>\n",
       "      <td>None</td>\n",
       "      <td>None</td>\n",
       "      <td>None</td>\n",
       "    </tr>\n",
       "    <tr>\n",
       "      <th>926</th>\n",
       "      <td>魏詩</td>\n",
       "      <td>卷六</td>\n",
       "      <td>陳思王曹植一</td>\n",
       "      <td>樂府</td>\n",
       "      <td>丹霞蔽日行(P.421)</td>\n",
       "      <td>None</td>\n",
       "    </tr>\n",
       "    <tr>\n",
       "      <th>927</th>\n",
       "      <td>魏詩</td>\n",
       "      <td>卷六</td>\n",
       "      <td>陳思王曹植一</td>\n",
       "      <td>樂府</td>\n",
       "      <td>飛龍篇(P.421)</td>\n",
       "      <td>None</td>\n",
       "    </tr>\n",
       "    <tr>\n",
       "      <th>928</th>\n",
       "      <td>魏詩</td>\n",
       "      <td>卷六</td>\n",
       "      <td>陳思王曹植一</td>\n",
       "      <td>樂府</td>\n",
       "      <td>薤露行(P.422)</td>\n",
       "      <td>None</td>\n",
       "    </tr>\n",
       "    <tr>\n",
       "      <th>929</th>\n",
       "      <td>魏詩</td>\n",
       "      <td>卷六</td>\n",
       "      <td>陳思王曹植一</td>\n",
       "      <td>樂府</td>\n",
       "      <td>惟漢行(P.422)</td>\n",
       "      <td>None</td>\n",
       "    </tr>\n",
       "    <tr>\n",
       "      <th>...</th>\n",
       "      <td>...</td>\n",
       "      <td>...</td>\n",
       "      <td>...</td>\n",
       "      <td>...</td>\n",
       "      <td>...</td>\n",
       "      <td>...</td>\n",
       "    </tr>\n",
       "    <tr>\n",
       "      <th>1070</th>\n",
       "      <td>魏詩</td>\n",
       "      <td>卷十</td>\n",
       "      <td>阮籍(P.493)</td>\n",
       "      <td>None</td>\n",
       "      <td>None</td>\n",
       "      <td>None</td>\n",
       "    </tr>\n",
       "    <tr>\n",
       "      <th>1071</th>\n",
       "      <td>魏詩</td>\n",
       "      <td>卷十</td>\n",
       "      <td>阮籍</td>\n",
       "      <td>詠懷詩十三首(P.493)</td>\n",
       "      <td>None</td>\n",
       "      <td>None</td>\n",
       "    </tr>\n",
       "    <tr>\n",
       "      <th>1072</th>\n",
       "      <td>魏詩</td>\n",
       "      <td>卷十</td>\n",
       "      <td>阮籍</td>\n",
       "      <td>詠懷詩八十二首(P.496)</td>\n",
       "      <td>None</td>\n",
       "      <td>None</td>\n",
       "    </tr>\n",
       "    <tr>\n",
       "      <th>1073</th>\n",
       "      <td>魏詩</td>\n",
       "      <td>卷十</td>\n",
       "      <td>阮籍</td>\n",
       "      <td>歌二首</td>\n",
       "      <td>采薪者歌(P.510)</td>\n",
       "      <td>None</td>\n",
       "    </tr>\n",
       "    <tr>\n",
       "      <th>1074</th>\n",
       "      <td>魏詩</td>\n",
       "      <td>卷十</td>\n",
       "      <td>阮籍</td>\n",
       "      <td>歌二首</td>\n",
       "      <td>大人先生歌(P.511)</td>\n",
       "      <td>None</td>\n",
       "    </tr>\n",
       "    <tr>\n",
       "      <th>1075</th>\n",
       "      <td>魏詩</td>\n",
       "      <td>卷十</td>\n",
       "      <td>阮籍</td>\n",
       "      <td>又大人先生歌(P.511)</td>\n",
       "      <td>None</td>\n",
       "      <td>None</td>\n",
       "    </tr>\n",
       "    <tr>\n",
       "      <th>1076</th>\n",
       "      <td>魏詩</td>\n",
       "      <td>卷十</td>\n",
       "      <td>仙道</td>\n",
       "      <td>成公智瓊贈弦超(P.511)</td>\n",
       "      <td>None</td>\n",
       "      <td>None</td>\n",
       "    </tr>\n",
       "    <tr>\n",
       "      <th>1077</th>\n",
       "      <td>魏詩</td>\n",
       "      <td>卷十一</td>\n",
       "      <td>雜歌謠辭　諺語附</td>\n",
       "      <td>鄴人金鳳舊歌(P.513)</td>\n",
       "      <td>None</td>\n",
       "      <td>None</td>\n",
       "    </tr>\n",
       "    <tr>\n",
       "      <th>1078</th>\n",
       "      <td>魏詩</td>\n",
       "      <td>卷十一</td>\n",
       "      <td>雜歌謠辭　諺語附</td>\n",
       "      <td>徐幹引古人歌(P.513)</td>\n",
       "      <td>None</td>\n",
       "      <td>None</td>\n",
       "    </tr>\n",
       "    <tr>\n",
       "      <th>1079</th>\n",
       "      <td>魏詩</td>\n",
       "      <td>卷十一</td>\n",
       "      <td>雜歌謠辭　諺語附</td>\n",
       "      <td>徐州為王祥歌(P.513)</td>\n",
       "      <td>None</td>\n",
       "      <td>None</td>\n",
       "    </tr>\n",
       "    <tr>\n",
       "      <th>1080</th>\n",
       "      <td>魏詩</td>\n",
       "      <td>卷十一</td>\n",
       "      <td>雜歌謠辭　諺語附</td>\n",
       "      <td>滎陽令歌(P.514)</td>\n",
       "      <td>None</td>\n",
       "      <td>None</td>\n",
       "    </tr>\n",
       "    <tr>\n",
       "      <th>1081</th>\n",
       "      <td>魏詩</td>\n",
       "      <td>卷十一</td>\n",
       "      <td>雜歌謠辭　諺語附</td>\n",
       "      <td>襄陽民為胡烈歌(P.514)</td>\n",
       "      <td>None</td>\n",
       "      <td>None</td>\n",
       "    </tr>\n",
       "    <tr>\n",
       "      <th>1082</th>\n",
       "      <td>魏詩</td>\n",
       "      <td>卷十一</td>\n",
       "      <td>雜歌謠辭　諺語附</td>\n",
       "      <td>京兆民為李莊歌(P.515)</td>\n",
       "      <td>None</td>\n",
       "      <td>None</td>\n",
       "    </tr>\n",
       "    <tr>\n",
       "      <th>1083</th>\n",
       "      <td>魏詩</td>\n",
       "      <td>卷十一</td>\n",
       "      <td>雜歌謠辭　諺語附</td>\n",
       "      <td>行者歌(P.515)</td>\n",
       "      <td>None</td>\n",
       "      <td>None</td>\n",
       "    </tr>\n",
       "    <tr>\n",
       "      <th>1084</th>\n",
       "      <td>魏詩</td>\n",
       "      <td>卷十一</td>\n",
       "      <td>雜歌謠辭　諺語附</td>\n",
       "      <td>太和中京師歌(P.515)</td>\n",
       "      <td>None</td>\n",
       "      <td>None</td>\n",
       "    </tr>\n",
       "    <tr>\n",
       "      <th>1085</th>\n",
       "      <td>魏詩</td>\n",
       "      <td>卷十一</td>\n",
       "      <td>雜歌謠辭　諺語附</td>\n",
       "      <td>明帝時宮人謠(P.516)</td>\n",
       "      <td>None</td>\n",
       "      <td>None</td>\n",
       "    </tr>\n",
       "    <tr>\n",
       "      <th>1086</th>\n",
       "      <td>魏詩</td>\n",
       "      <td>卷十一</td>\n",
       "      <td>雜歌謠辭　諺語附</td>\n",
       "      <td>明帝景初中童謠(P.516)</td>\n",
       "      <td>None</td>\n",
       "      <td>None</td>\n",
       "    </tr>\n",
       "    <tr>\n",
       "      <th>1087</th>\n",
       "      <td>魏詩</td>\n",
       "      <td>卷十一</td>\n",
       "      <td>雜歌謠辭　諺語附</td>\n",
       "      <td>正始中時人謠(P.516)</td>\n",
       "      <td>None</td>\n",
       "      <td>None</td>\n",
       "    </tr>\n",
       "    <tr>\n",
       "      <th>1088</th>\n",
       "      <td>魏詩</td>\n",
       "      <td>卷十一</td>\n",
       "      <td>雜歌謠辭　諺語附</td>\n",
       "      <td>嘉平中謠(P.516)</td>\n",
       "      <td>None</td>\n",
       "      <td>None</td>\n",
       "    </tr>\n",
       "    <tr>\n",
       "      <th>1089</th>\n",
       "      <td>魏詩</td>\n",
       "      <td>卷十一</td>\n",
       "      <td>雜歌謠辭　諺語附</td>\n",
       "      <td>蔣濟為護軍時謠言(P.517)</td>\n",
       "      <td>None</td>\n",
       "      <td>None</td>\n",
       "    </tr>\n",
       "    <tr>\n",
       "      <th>1090</th>\n",
       "      <td>魏詩</td>\n",
       "      <td>卷十一</td>\n",
       "      <td>雜歌謠辭　諺語附</td>\n",
       "      <td>曹操引諺(P.517)</td>\n",
       "      <td>None</td>\n",
       "      <td>None</td>\n",
       "    </tr>\n",
       "    <tr>\n",
       "      <th>1091</th>\n",
       "      <td>魏詩</td>\n",
       "      <td>卷十一</td>\n",
       "      <td>雜歌謠辭　諺語附</td>\n",
       "      <td>曹操引里諺(P.517)</td>\n",
       "      <td>None</td>\n",
       "      <td>None</td>\n",
       "    </tr>\n",
       "    <tr>\n",
       "      <th>1092</th>\n",
       "      <td>魏詩</td>\n",
       "      <td>卷十一</td>\n",
       "      <td>雜歌謠辭　諺語附</td>\n",
       "      <td>曹丕引里語(P.517)</td>\n",
       "      <td>None</td>\n",
       "      <td>None</td>\n",
       "    </tr>\n",
       "    <tr>\n",
       "      <th>1093</th>\n",
       "      <td>魏詩</td>\n",
       "      <td>卷十一</td>\n",
       "      <td>雜歌謠辭　諺語附</td>\n",
       "      <td>曹丕引里語(P.518)</td>\n",
       "      <td>None</td>\n",
       "      <td>None</td>\n",
       "    </tr>\n",
       "    <tr>\n",
       "      <th>1094</th>\n",
       "      <td>魏詩</td>\n",
       "      <td>卷十一</td>\n",
       "      <td>雜歌謠辭　諺語附</td>\n",
       "      <td>曹植引諺(P.518)</td>\n",
       "      <td>None</td>\n",
       "      <td>None</td>\n",
       "    </tr>\n",
       "    <tr>\n",
       "      <th>1095</th>\n",
       "      <td>魏詩</td>\n",
       "      <td>卷十一</td>\n",
       "      <td>雜歌謠辭　諺語附</td>\n",
       "      <td>徐幹引古語(P.518)</td>\n",
       "      <td>None</td>\n",
       "      <td>None</td>\n",
       "    </tr>\n",
       "    <tr>\n",
       "      <th>1096</th>\n",
       "      <td>魏詩</td>\n",
       "      <td>卷十一</td>\n",
       "      <td>雜歌謠辭　諺語附</td>\n",
       "      <td>陳琳引諺(P.518)</td>\n",
       "      <td>None</td>\n",
       "      <td>None</td>\n",
       "    </tr>\n",
       "    <tr>\n",
       "      <th>1097</th>\n",
       "      <td>魏詩</td>\n",
       "      <td>卷十一</td>\n",
       "      <td>雜歌謠辭　諺語附</td>\n",
       "      <td>王昶引諺(P.519)</td>\n",
       "      <td>None</td>\n",
       "      <td>None</td>\n",
       "    </tr>\n",
       "    <tr>\n",
       "      <th>1098</th>\n",
       "      <td>魏詩</td>\n",
       "      <td>卷十一</td>\n",
       "      <td>雜歌謠辭　諺語附</td>\n",
       "      <td>王昶引語(P.519)</td>\n",
       "      <td>None</td>\n",
       "      <td>None</td>\n",
       "    </tr>\n",
       "    <tr>\n",
       "      <th>1099</th>\n",
       "      <td>魏詩</td>\n",
       "      <td>卷十一</td>\n",
       "      <td>雜歌謠辭　諺語附</td>\n",
       "      <td>魚豢引諺(P.519)</td>\n",
       "      <td>None</td>\n",
       "      <td>None</td>\n",
       "    </tr>\n",
       "  </tbody>\n",
       "</table>\n",
       "<p>200 rows × 6 columns</p>\n",
       "</div>"
      ],
      "text/plain": [
       "       0    1              2                3              4     5\n",
       "900   魏詩   卷五      吴質(P.412)             None           None  None\n",
       "901   魏詩   卷五             吴質       思慕詩(P.412)           None  None\n",
       "902   魏詩   卷五      麋元(P.412)             None           None  None\n",
       "903   魏詩   卷五             麋元         詩(P.412)           None  None\n",
       "904   魏詩   卷五   魏明帝曹叡(P.413)             None           None  None\n",
       "905   魏詩   卷五          魏明帝曹叡               樂府     短歌行(P.413)  None\n",
       "906   魏詩   卷五          魏明帝曹叡               樂府     善哉行(P.413)  None\n",
       "907   魏詩   卷五          魏明帝曹叡               樂府    同前四解(P.414)  None\n",
       "908   魏詩   卷五          魏明帝曹叡               樂府   步出夏門行(P.414)  None\n",
       "909   魏詩   卷五          魏明帝曹叡               樂府    月重輪行(P.415)  None\n",
       "910   魏詩   卷五          魏明帝曹叡               樂府     長歌行(P.415)  None\n",
       "911   魏詩   卷五          魏明帝曹叡               樂府     苦寒行(P.416)  None\n",
       "912   魏詩   卷五          魏明帝曹叡               樂府     櫂歌行(P.416)  None\n",
       "913   魏詩   卷五          魏明帝曹叡               樂府     種瓜篇(P.416)  None\n",
       "914   魏詩   卷五          魏明帝曹叡               樂府     燕歌行(P.417)  None\n",
       "915   魏詩   卷五          魏明帝曹叡               樂府     猛虎行(P.417)  None\n",
       "916   魏詩   卷五          魏明帝曹叡               樂府     堂上行(P.417)  None\n",
       "917   魏詩   卷五          魏明帝曹叡               樂府     清調歌(P.418)  None\n",
       "918   魏詩   卷五          魏明帝曹叡               樂府  自惜身薄祜行(P.418)  None\n",
       "919   魏詩   卷五          魏明帝曹叡               樂府   野田黃雀行(P.418)  None\n",
       "920   魏詩   卷五          魏明帝曹叡               樂府     豫章行(P.418)  None\n",
       "921   魏詩   卷五          魏明帝曹叡               樂府     樂府詩(P.418)  None\n",
       "922   魏詩   卷五      杜摯(P.419)             None           None  None\n",
       "923   魏詩   卷五             杜摯     贈毌丘儉詩(P.419)           None  None\n",
       "924   魏詩   卷五             杜摯    贈毌丘荊州詩(P.420)           None  None\n",
       "925   魏詩   卷六  陳思王曹植一(P.421)             None           None  None\n",
       "926   魏詩   卷六         陳思王曹植一               樂府   丹霞蔽日行(P.421)  None\n",
       "927   魏詩   卷六         陳思王曹植一               樂府     飛龍篇(P.421)  None\n",
       "928   魏詩   卷六         陳思王曹植一               樂府     薤露行(P.422)  None\n",
       "929   魏詩   卷六         陳思王曹植一               樂府     惟漢行(P.422)  None\n",
       "...   ..  ...            ...              ...            ...   ...\n",
       "1070  魏詩   卷十      阮籍(P.493)             None           None  None\n",
       "1071  魏詩   卷十             阮籍    詠懷詩十三首(P.493)           None  None\n",
       "1072  魏詩   卷十             阮籍   詠懷詩八十二首(P.496)           None  None\n",
       "1073  魏詩   卷十             阮籍              歌二首    采薪者歌(P.510)  None\n",
       "1074  魏詩   卷十             阮籍              歌二首   大人先生歌(P.511)  None\n",
       "1075  魏詩   卷十             阮籍    又大人先生歌(P.511)           None  None\n",
       "1076  魏詩   卷十             仙道   成公智瓊贈弦超(P.511)           None  None\n",
       "1077  魏詩  卷十一       雜歌謠辭　諺語附    鄴人金鳳舊歌(P.513)           None  None\n",
       "1078  魏詩  卷十一       雜歌謠辭　諺語附    徐幹引古人歌(P.513)           None  None\n",
       "1079  魏詩  卷十一       雜歌謠辭　諺語附    徐州為王祥歌(P.513)           None  None\n",
       "1080  魏詩  卷十一       雜歌謠辭　諺語附      滎陽令歌(P.514)           None  None\n",
       "1081  魏詩  卷十一       雜歌謠辭　諺語附   襄陽民為胡烈歌(P.514)           None  None\n",
       "1082  魏詩  卷十一       雜歌謠辭　諺語附   京兆民為李莊歌(P.515)           None  None\n",
       "1083  魏詩  卷十一       雜歌謠辭　諺語附       行者歌(P.515)           None  None\n",
       "1084  魏詩  卷十一       雜歌謠辭　諺語附    太和中京師歌(P.515)           None  None\n",
       "1085  魏詩  卷十一       雜歌謠辭　諺語附    明帝時宮人謠(P.516)           None  None\n",
       "1086  魏詩  卷十一       雜歌謠辭　諺語附   明帝景初中童謠(P.516)           None  None\n",
       "1087  魏詩  卷十一       雜歌謠辭　諺語附    正始中時人謠(P.516)           None  None\n",
       "1088  魏詩  卷十一       雜歌謠辭　諺語附      嘉平中謠(P.516)           None  None\n",
       "1089  魏詩  卷十一       雜歌謠辭　諺語附  蔣濟為護軍時謠言(P.517)           None  None\n",
       "1090  魏詩  卷十一       雜歌謠辭　諺語附      曹操引諺(P.517)           None  None\n",
       "1091  魏詩  卷十一       雜歌謠辭　諺語附     曹操引里諺(P.517)           None  None\n",
       "1092  魏詩  卷十一       雜歌謠辭　諺語附     曹丕引里語(P.517)           None  None\n",
       "1093  魏詩  卷十一       雜歌謠辭　諺語附     曹丕引里語(P.518)           None  None\n",
       "1094  魏詩  卷十一       雜歌謠辭　諺語附      曹植引諺(P.518)           None  None\n",
       "1095  魏詩  卷十一       雜歌謠辭　諺語附     徐幹引古語(P.518)           None  None\n",
       "1096  魏詩  卷十一       雜歌謠辭　諺語附      陳琳引諺(P.518)           None  None\n",
       "1097  魏詩  卷十一       雜歌謠辭　諺語附      王昶引諺(P.519)           None  None\n",
       "1098  魏詩  卷十一       雜歌謠辭　諺語附      王昶引語(P.519)           None  None\n",
       "1099  魏詩  卷十一       雜歌謠辭　諺語附      魚豢引諺(P.519)           None  None\n",
       "\n",
       "[200 rows x 6 columns]"
      ]
     },
     "execution_count": 15,
     "metadata": {},
     "output_type": "execute_result"
    }
   ],
   "source": [
    "RoughFrame[900:1100]\n",
    "#from this we can hypothesize: if index-3 is \"None\", then that item is an author listing.\n",
    "# We could exclude those."
   ]
  },
  {
   "cell_type": "code",
   "execution_count": 16,
   "metadata": {},
   "outputs": [],
   "source": [
    "#a simple function to return list of works by an author.\n",
    "def findauthorworks(author=\"\"):\n",
    "    for item in MetaList2:\n",
    "        if author in item[2]:\n",
    "            print(item)"
   ]
  },
  {
   "cell_type": "code",
   "execution_count": null,
   "metadata": {},
   "outputs": [],
   "source": [
    "findauthorworks(author=\"曹植\")"
   ]
  },
  {
   "cell_type": "code",
   "execution_count": 18,
   "metadata": {},
   "outputs": [
    {
     "name": "stdout",
     "output_type": "stream",
     "text": [
      "Total discrete authors/labels: 1545\n"
     ]
    }
   ],
   "source": [
    "#Count total number of authors (using `set` type)\n",
    "#TODO: discriminate between authors and labels\n",
    "\n",
    "AuthorList=[]\n",
    "for item in MetaList2:\n",
    "    AuthorList.append(item[2])\n",
    "\n",
    "AuthorSet = set(AuthorList)\n",
    "print(\"Total discrete authors/labels: {}\".format(len(AuthorSet)))"
   ]
  },
  {
   "cell_type": "code",
   "execution_count": null,
   "metadata": {},
   "outputs": [],
   "source": [
    "#using a counter to get the indexes\n",
    "counter = -1\n",
    "for item in MetaList2:\n",
    "    counter +=1\n",
    "    if \"附\" in item[2]:\n",
    "        print(counter, item)"
   ]
  },
  {
   "cell_type": "code",
   "execution_count": null,
   "metadata": {},
   "outputs": [],
   "source": [
    "PTPoetry.flat_bodies[1148:1159]"
   ]
  },
  {
   "cell_type": "markdown",
   "metadata": {},
   "source": [
    "## OK, the metadata will take some more organization.  We want to look at the texts."
   ]
  },
  {
   "cell_type": "code",
   "execution_count": null,
   "metadata": {},
   "outputs": [],
   "source": [
    "# trying to adapt a method from the `Song shu` subclass, but that is confusing...\n",
    "# first have a look:\n",
    "PTPoetry.flat_bodies[10]"
   ]
  },
  {
   "cell_type": "code",
   "execution_count": 22,
   "metadata": {},
   "outputs": [],
   "source": [
    "TitlePoem = []\n",
    "for poem in PTPoetry.flat_bodies:\n",
    "    title = poem.find('h3')\n",
    "    text = poem.find('div', attrs={'style': \"text-indent:0em;padding-left:0em;\"})\n",
    "    TitlePoem.append((title, text))\n",
    "#    PTPoetry.flat_passages.append((title, text))\n",
    "    "
   ]
  },
  {
   "cell_type": "markdown",
   "metadata": {},
   "source": [
    "Problems:\n",
    "\n",
    "- flat_passages doesn't fill in correctly.\n",
    "- TitlePoem list does, but my method is including the notes, and I don't want that.\n",
    "\n",
    ":point_right: My BS skills are not up to snuff"
   ]
  },
  {
   "cell_type": "code",
   "execution_count": 120,
   "metadata": {},
   "outputs": [
    {
     "data": {
      "text/plain": [
       "<div style=\"text-indent:0em;padding-left:0em;\">力拔山兮氣蓋世。時不利兮騅不逝。騅不逝兮可奈何。虞兮虞兮奈若何。<a href=\"#\" onclick=\"q00.style.display=q00.style.display=='none'?'':'none'\" title=\"夾註\"><img align=\"absmiddle\" border=\"0\" src=\"/ihp/qn.gif\"/></a><span id=\"q00\" style=\"display:none;width:;height:;color:green;font-size:13px\">○漢書項羽傳。史記項羽本紀。御覽八十七、五百七十。樂府詩集五十八作力拔山操。文選補遺三十五作垓下帳中歌。詩紀二作垓下歌。○逯案。文選補遺與詩紀標題各異。然皆涉杜撰。今從漢書只曰歌。樂府詩集引琴集云。力拔山操。項羽所作也。則此歌曰操。亦後起之名。</span> </div>"
      ]
     },
     "execution_count": 120,
     "metadata": {},
     "output_type": "execute_result"
    }
   ],
   "source": [
    "TitlePoem[203][1]"
   ]
  },
  {
   "cell_type": "markdown",
   "metadata": {},
   "source": [
    "## failed tries to strip down to titles and texts..."
   ]
  },
  {
   "cell_type": "code",
   "execution_count": 126,
   "metadata": {},
   "outputs": [
    {
     "name": "stderr",
     "output_type": "stream",
     "text": [
      "INFO:root:Remove 標註, page number, and page dividers from the tree structure.\n",
      "INFO:root:Remove the new lines added by the page dividers, connect the paragraphs before and after the new lines.\n"
     ]
    }
   ],
   "source": [
    "PTPoetry.strip_all_irrelevant_tags()"
   ]
  },
  {
   "cell_type": "code",
   "execution_count": 137,
   "metadata": {},
   "outputs": [],
   "source": [
    "PTPoetry.strip_tag('span', {'id':'q00'})"
   ]
  },
  {
   "cell_type": "code",
   "execution_count": 77,
   "metadata": {},
   "outputs": [],
   "source": [
    "#adapting from `Song shu` subclass\n",
    "\n",
    "for body,path in zip(PTPoetry.flat_bodies, PTPoetry.paths):\n",
    "    texts  = body.find_all('div', attrs={'style': \"text-indent:0em;padding-left:0em;\"})\n",
    "    PTPoetry.flat_passages.append(texts)"
   ]
  },
  {
   "cell_type": "code",
   "execution_count": 78,
   "metadata": {},
   "outputs": [
    {
     "data": {
      "text/plain": [
       "[<div style=\"text-indent:0em;padding-left:3em;\"> <font size=\"-2\">史記曰。箕子朝周。過故殷墟。感宮室毀壞生禾黍。箕子傷之。欲哭則不可。欲泣為其近婦人。乃作麥秀之詩以歌之。其詩曰。</font> </div>,\n",
       " <div style=\"text-indent:0em;padding-left:0em;\">麥秀漸漸<a href=\"#\" onclick=\"q00.style.display=q00.style.display=='none'?'':'none'\" title=\"夾註\"><img align=\"absmiddle\" border=\"0\" src=\"/ihp/qn.gif\"/></a><span id=\"q00\" style=\"display:none;width:;height:;color:green;font-size:13px\">文選注不重漸字。尚書大傳作蔪蔪。</span>兮禾黍油油。<a href=\"#\" onclick=\"q01.style.display=q01.style.display=='none'?'':'none'\" title=\"夾註\"><img align=\"absmiddle\" border=\"0\" src=\"/ihp/qn.gif\"/></a><span id=\"q01\" style=\"display:none;width:;height:;color:green;font-size:13px\">文選注作黍米目黽目黽。</span>彼狡童<a href=\"#\" onclick=\"q02.style.display=q02.style.display=='none'?'':'none'\" title=\"夾註\"><img align=\"absmiddle\" border=\"0\" src=\"/ihp/qn.gif\"/></a><span id=\"q02\" style=\"display:none;width:;height:;color:green;font-size:13px\">史記作僮。文選注同。</span>兮不與我好兮。<a href=\"#\" onclick=\"q03.style.display=q03.style.display=='none'?'':'none'\" title=\"夾註\"><img align=\"absmiddle\" border=\"0\" src=\"/ihp/qn.gif\"/></a><span id=\"q03\" style=\"display:none;width:;height:;color:green;font-size:13px\">尚書大傳作不我好仇。御覽、樂府同。文選注作不我好。○史記宋世家。尚書大傳。文選十六思舊賦注引尚書大傳。御覽五百七十引史記。樂府詩集五十七作傷殷操。詩紀前集一。</span> </div>]"
      ]
     },
     "execution_count": 78,
     "metadata": {},
     "output_type": "execute_result"
    }
   ],
   "source": [
    "PTPoetry.flat_passages[10]"
   ]
  },
  {
   "cell_type": "code",
   "execution_count": 77,
   "metadata": {},
   "outputs": [
    {
     "data": {
      "text/plain": [
       "       type       variable                 method current_length\n",
       "0      meta      flat_meta      self.extract_meta              0\n",
       "1      path          paths     self.extract_paths           7767\n",
       "2  passages  flat_passages  self.extract_passages              0"
      ]
     },
     "execution_count": 77,
     "metadata": {},
     "output_type": "execute_result"
    }
   ],
   "source": [
    "PTPoetry"
   ]
  },
  {
   "cell_type": "code",
   "execution_count": null,
   "metadata": {},
   "outputs": [],
   "source": []
  }
 ],
 "metadata": {
  "kernel_info": {
   "name": "python3"
  },
  "kernelspec": {
   "display_name": "Python 3",
   "language": "python",
   "name": "python3"
  },
  "language_info": {
   "codemirror_mode": {
    "name": "ipython",
    "version": 3
   },
   "file_extension": ".py",
   "mimetype": "text/x-python",
   "name": "python",
   "nbconvert_exporter": "python",
   "pygments_lexer": "ipython3",
   "version": "3.6.6"
  },
  "nteract": {
   "version": "0.12.3"
  }
 },
 "nbformat": 4,
 "nbformat_minor": 2
}
